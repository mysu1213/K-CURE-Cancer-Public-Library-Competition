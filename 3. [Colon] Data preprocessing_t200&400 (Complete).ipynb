{
 "cells": [
  {
   "cell_type": "markdown",
   "id": "1ef8a690",
   "metadata": {},
   "source": [
    "# 대장암 인원\n",
    "- 21,773 명\n",
    "- T200 & T400 에서 없는 피험자 걸러져서 21,741명으로 단축\n",
    "- 재발 194명 \n",
    "- 재발X 21,547명"
   ]
  },
  {
   "cell_type": "markdown",
   "id": "38042483",
   "metadata": {},
   "source": [
    "# 필요 라이브러리"
   ]
  },
  {
   "cell_type": "code",
   "execution_count": 1,
   "id": "e6066d1b",
   "metadata": {},
   "outputs": [],
   "source": [
    "import warnings\n",
    "import os\n",
    "import pandas as pd\n",
    "\n",
    "warnings.filterwarnings('ignore')"
   ]
  },
  {
   "cell_type": "code",
   "execution_count": 2,
   "id": "a337c478",
   "metadata": {},
   "outputs": [
    {
     "name": "stdout",
     "output_type": "stream",
     "text": [
      "/project/kcure-08/src/2. Model/1. Colon\n",
      "/project/kcure-08/src/1. Data/1. Colon\n"
     ]
    }
   ],
   "source": [
    "print(os.getcwd()) # 현재 경로\n",
    "# print(os.listdir(os.getcwd())) # 현재 경로 파일\n",
    "\n",
    "os.chdir('/project/kcure-08/src/1. Data/1. Colon') # 현재 경로 변경(데이터 파일)\n",
    "print(os.getcwd())\n",
    "# print(os.listdir(os.getcwd()))"
   ]
  },
  {
   "cell_type": "markdown",
   "id": "763242b7",
   "metadata": {},
   "source": [
    "----"
   ]
  },
  {
   "cell_type": "markdown",
   "id": "d53794cd",
   "metadata": {},
   "source": [
    "# 1. 데이터 불러오기"
   ]
  },
  {
   "cell_type": "code",
   "execution_count": 3,
   "id": "72fea403",
   "metadata": {},
   "outputs": [],
   "source": [
    "df_cs_cc = pd.read_csv('./PP_csv/cs_cc.csv') # 21897420 rows × 12 columns\n",
    "# df_cc_rgst = pd.read_csv('./PP_csv/cs_cc_rgst.csv') # 21773 rows × 36 columns\n",
    "# df_cc_g1e = pd.read_csv('./PP_csv/cs_cc_g1e.csv') # 52015 rows × 144 columns\n",
    "# df_cc_ccr_cq_rst = pd.read_csv('./PP_csv/cs_cc_ccr_cq_rst.csv') # 32598 rows × 70 columns"
   ]
  },
  {
   "cell_type": "markdown",
   "id": "5d59474b",
   "metadata": {},
   "source": [
    "----"
   ]
  },
  {
   "cell_type": "markdown",
   "id": "528961cf",
   "metadata": {},
   "source": [
    "# 2. 데이터 전처리\n",
    "- [고찰필요] 동일 피험자 내 변수처리를 어떻게 할지\n",
    "- Label 1은 대장암 진단종료 후 시점에서 재발(재발코드U99)가 발생한 지점에서 변수처리\n",
    "- Label 0은 대장암 진단 시점에서 변수처리"
   ]
  },
  {
   "cell_type": "code",
   "execution_count": null,
   "id": "becbb430",
   "metadata": {},
   "outputs": [],
   "source": [
    "### 중요! ###\n",
    "# before time of colon caner diagnosis\n",
    "# agter time of colon cancer diagnosis\n",
    "# time of cancer recurrence diagnosis"
   ]
  },
  {
   "cell_type": "markdown",
   "id": "8834cafc",
   "metadata": {},
   "source": [
    "##### Label 1 - Table"
   ]
  },
  {
   "cell_type": "code",
   "execution_count": 19,
   "id": "694b1578",
   "metadata": {
    "scrolled": true
   },
   "outputs": [],
   "source": [
    "df_cs_cc_rec_fin = df_cs_cc_rec[['SN_KEY']]\n",
    "df_cs_cc_rec_fin['LABEL'] = 1\n",
    "df_cs_cc_rec_fin['RES'] = list(df_cs_cc_rec['RVD_PL_CD'])\n",
    "df_cs_cc_rec_fin['SOPR_Y_CNT'] = list(result['SOPR_Y_CNT'])\n",
    "\n",
    "df_cs_cc_rec_fin['TIME_OF_NREC_END'] = pd.to_datetime(df_cs_cc_rec['TIME_OF_NREC_END'], format = '%Y-%m-%d', errors='raise')\n",
    "df_cs_cc_rec_fin['TIME_OF_REC_START'] = pd.to_datetime(df_cs_cc_rec['TIME_OF_REC_START'], format = '%Y-%m-%d', errors='raise')\n",
    "df_cs_cc_rec_fin['TIME_OF_REC'] = df_cs_cc_rec_fin['TIME_OF_REC_START'] - df_cs_cc_rec_fin['TIME_OF_NREC_END']\n",
    "\n",
    "### 테이블 저장 ###\n",
    "df_cs_cc_rec_fin.to_csv('./PP_csv/cs_cc_rec.csv', index = False) "
   ]
  },
  {
   "cell_type": "markdown",
   "id": "5c495761",
   "metadata": {},
   "source": [
    "##### Label 0 - Table"
   ]
  },
  {
   "cell_type": "code",
   "execution_count": 20,
   "id": "ff40054b",
   "metadata": {
    "scrolled": true
   },
   "outputs": [],
   "source": [
    "df_cs_cc_nrec_fin = df_cs_cc_rec_id[['SN_KEY']]\n",
    "df_cs_cc_nrec_fin['LABEL'] = 0\n",
    "df_cs_cc_nrec_fin['RES'] = list(df_cs_cc_rec_id['RVD_PL_CD'])\n",
    "df_cs_cc_nrec_fin['SOPR_Y_CNT'] = list(result_nrec['SOPR_Y_CNT'])\n",
    "\n",
    "df_cs_cc_nrec_fin['TIME_OF_NREC_END'] = pd.to_datetime(df_cs_cc_rec_id['RECU_TO_DD'], format = '%Y-%m-%d', errors='raise')\n",
    "df_cs_cc_nrec_fin['TIME_OF_REC_START'] = 'NaN'\n",
    "df_cs_cc_nrec_fin['TIME_OF_REC'] = 'NaN'\n",
    "\n",
    "### 테이블 저장 ###\n",
    "df_cs_cc_nrec_fin.to_csv('./PP_csv/cs_cc_nrec.csv', index = False) "
   ]
  },
  {
   "cell_type": "markdown",
   "id": "eedd1cc4",
   "metadata": {},
   "source": [
    "----"
   ]
  },
  {
   "cell_type": "markdown",
   "id": "e6d2623c",
   "metadata": {},
   "source": [
    "## 2-1. [공통] Time\n",
    "- 대장암 초진 전의 시간 (불필요) : 대장암 초진 종료 후 년도 기준으로\n",
    "- 대장암 초진 종료 후 시간\n",
    "- 재발 시간"
   ]
  },
  {
   "cell_type": "markdown",
   "id": "90f6148f",
   "metadata": {},
   "source": [
    "---"
   ]
  },
  {
   "cell_type": "markdown",
   "id": "fa5b8de4",
   "metadata": {},
   "source": [
    "### Label 1: 재발코드 U99 피험자 (재발시 다른 암 재발 포함)"
   ]
  },
  {
   "cell_type": "code",
   "execution_count": null,
   "id": "26fa7785",
   "metadata": {},
   "outputs": [],
   "source": [
    "### 재발시점 진료 시작일자 찾기 ###\n",
    "# 3092 rows × 12 columns\n",
    "df_cs_cc_rec = df_cs_cc[((df_cs_cc['SICK_CD_NEW'] == 'U99')| (df_cs_cc['M_SICK_CD'] == 'U99') | (df_cs_cc['SUB_SICK_CD'] == 'U99')) & (df_cs_cc['SICK_TY_CD'] != 3.0)]\n",
    "\n",
    "### 중복값 제거 및 첫번째 값 반환 ###\n",
    "# 195 rows × 12 columns\n",
    "df_cs_cc_rec = df_cs_cc_rec.drop_duplicates('SN_KEY') \n",
    "\n",
    "### 뒷단에 칼럼 추가 ###\n",
    "# 195 rows × 13 columns\n",
    "df_cs_cc_rec['TIME_OF_REC_START'] = df_cs_cc_rec['RECU_FR_DD']\n",
    "\n",
    "### 재발 전 대장암 진단을 안받은 피험자 제외 ###\n",
    "index_dp = df_cs_cc_rec[df_cs_cc_rec['SN_KEY'] == 'SN00042239'].index\n",
    "df_cs_cc_rec = df_cs_cc_rec.drop(index_dp)\n",
    "df_cs_cc_rec # 194 rows × 13 columns\n",
    "\n",
    "######################################################################\n",
    "## 같은 리스트 다른 요소 찾는 방법 ##\n",
    "# list1 = list(df_cs_cc_tmp['SN_KEY'])\n",
    "# list2 = list(df_cs_cc_rec['SN_KEY'])\n",
    "\n",
    "# set1 = set(list1)\n",
    "# set2 = set(list2)\n",
    "\n",
    "# diff = set1.symmetric_difference(set2)\n",
    "# result = list(diff)\n",
    "# print(result)\n",
    "\n",
    "######################################################################"
   ]
  },
  {
   "cell_type": "code",
   "execution_count": null,
   "id": "d8f102b9",
   "metadata": {},
   "outputs": [],
   "source": [
    "### 재발이전 대장암 첫 진료 종료일자 찾기 ###\n",
    "# 8622521 rows × 12 columns\n",
    "df_cs_cc_tmp = df_cs_cc.drop_duplicates('MID') \n",
    "\n",
    "### 재발코드가 없는 피험자 거르기 ###\n",
    "cust_id = list(df_cs_cc_rec['SN_KEY'])\n",
    "df_cs_cc_tmp = df_cs_cc_tmp[df_cs_cc_tmp['SN_KEY'].isin(cust_id)]\n",
    "\n",
    "### 재발이전 대장암 진단 받은 피험자 찾기 ###\n",
    "# 12760 rows × 12 columns\n",
    "df_cs_cc_tmp = df_cs_cc_tmp[(df_cs_cc_tmp['SICK_CD_NEW'] == 'C18') | (df_cs_cc_tmp['SICK_CD_NEW'] == 'C19') | (df_cs_cc_tmp['SICK_CD_NEW'] == 'C20')| (df_cs_cc_tmp['M_SICK_CD'] == 'C18') | (df_cs_cc_tmp['M_SICK_CD'] == 'C19') | (df_cs_cc_tmp['M_SICK_CD'] == 'C20') | (df_cs_cc_tmp['SUB_SICK_CD'] == 'C18') | (df_cs_cc_tmp['SUB_SICK_CD'] == 'C19') | (df_cs_cc_tmp['SUB_SICK_CD'] == 'C20')]\n",
    "\n",
    "### 첫 진료 종료일자 찾기 ###\n",
    "# 194 rows × 14 columns\n",
    "df_cs_cc_tmp_2 = df_cs_cc_tmp.drop_duplicates('SN_KEY') \n",
    "TIME_OF_NREC_END = list(df_cs_cc_tmp_2['RECU_TO_DD'])\n",
    "df_cs_cc_rec['TIME_OF_NREC_END'] = TIME_OF_NREC_END\n",
    "df_cs_cc_rec"
   ]
  },
  {
   "cell_type": "markdown",
   "id": "d500f0f2",
   "metadata": {},
   "source": [
    "----"
   ]
  },
  {
   "cell_type": "markdown",
   "id": "3792eb98",
   "metadata": {},
   "source": [
    "##### RVD_PL_CD: 요양기관기호지역구분코드 --> 거주지\n",
    "- 대도시(서울, 부산, 대구, 인천, 울산, 광주, 대전, 수원, 용인, 고양, 창원)\n",
    "- 중소도시 (나머지)\n",
    "- 재발시점에서 거주지\n",
    "\n",
    "**대도시 : 0, 중소도시 : 1**"
   ]
  },
  {
   "cell_type": "code",
   "execution_count": 6,
   "id": "b34f50b5",
   "metadata": {},
   "outputs": [
    {
     "data": {
      "text/plain": [
       "0    124\n",
       "1     70\n",
       "Name: RVD_PL_CD, dtype: int64"
      ]
     },
     "execution_count": 6,
     "metadata": {},
     "output_type": "execute_result"
    }
   ],
   "source": [
    "df_cs_cc_rec['RVD_PL_CD'] = df_cs_cc_rec['RVD_PL_CD'].astype('int32')\n",
    "\n",
    "df_cs_cc_rec.loc[df_cs_cc_rec['RVD_PL_CD'] < 32, 'RVD_PL_CD'] = 0\n",
    "df_cs_cc_rec.loc[df_cs_cc_rec['RVD_PL_CD'] >= 32, 'RVD_PL_CD'] = 1\n",
    "\n",
    "df_cs_cc_rec['RVD_PL_CD'].value_counts()"
   ]
  },
  {
   "cell_type": "markdown",
   "id": "cc3dcf9a",
   "metadata": {},
   "source": [
    "---"
   ]
  },
  {
   "cell_type": "markdown",
   "id": "f3801696",
   "metadata": {},
   "source": [
    "##### SOPR_YN: 수술여부\n",
    "- 대장암 첫 진료종료 시점에서의 수술여부"
   ]
  },
  {
   "cell_type": "code",
   "execution_count": 8,
   "id": "addc6360",
   "metadata": {
    "collapsed": true
   },
   "outputs": [
    {
     "name": "stdout",
     "output_type": "stream",
     "text": [
      "4     35\n",
      "3     35\n",
      "2     29\n",
      "6     19\n",
      "5     18\n",
      "7     13\n",
      "1     11\n",
      "8      9\n",
      "11     4\n",
      "13     3\n",
      "12     3\n",
      "9      3\n",
      "0      2\n",
      "18     2\n",
      "14     2\n",
      "10     2\n",
      "30     1\n",
      "25     1\n",
      "15     1\n",
      "16     1\n",
      "Name: SOPR_Y_CNT, dtype: int64\n"
     ]
    }
   ],
   "source": [
    "### 재발이전 대장암 진단 받은 피험자 추적 ###\n",
    "# df_cs_cc_tmp\n",
    "\n",
    "def count_9(group):\n",
    "    return (group == 9).sum()\n",
    "\n",
    "result = df_cs_cc_tmp.groupby('SN_KEY')['SOPR_YN'].agg(count_9).reset_index(name='SOPR_Y_CNT')\n",
    "print(result['SOPR_Y_CNT'].value_counts())"
   ]
  },
  {
   "cell_type": "markdown",
   "id": "6fa2b90a",
   "metadata": {},
   "source": [
    "----"
   ]
  },
  {
   "cell_type": "markdown",
   "id": "4247a68f",
   "metadata": {},
   "source": [
    "### Label 0: 재발코드 U99 아닌 피험자"
   ]
  },
  {
   "cell_type": "code",
   "execution_count": 9,
   "id": "fb6bef28",
   "metadata": {},
   "outputs": [],
   "source": [
    "### 재발코드 피험자 거르기 ###\n",
    "# 21702012 rows × 12 columns\n",
    "cust_id = list(df_cs_cc_rec['SN_KEY'])\n",
    "df_cs_cc_nrec = df_cs_cc[~df_cs_cc['SN_KEY'].isin(cust_id)]"
   ]
  },
  {
   "cell_type": "code",
   "execution_count": null,
   "id": "589fc291",
   "metadata": {},
   "outputs": [],
   "source": [
    "# 상병코드가 대장암 관련 행수 불러오기 #\n",
    "# 3677039 rows × 12 columns\n",
    "df_cs_cc_nrec = df_cs_cc_nrec[(df_cs_cc_nrec['SICK_TY_CD'] != 3.0)]\n",
    "df_cs_cc_nrec = df_cs_cc_nrec[(df_cs_cc_nrec['SICK_CD_NEW'] == 'C18') | (df_cs_cc_nrec['SICK_CD_NEW'] == 'C19') | (df_cs_cc_nrec['SICK_CD_NEW'] == 'C20')| (df_cs_cc_nrec['M_SICK_CD'] == 'C18') | (df_cs_cc_nrec['M_SICK_CD'] == 'C19') | (df_cs_cc_nrec['M_SICK_CD'] == 'C20') | (df_cs_cc_nrec['SUB_SICK_CD'] == 'C18') | (df_cs_cc_nrec['SUB_SICK_CD'] == 'C19') | (df_cs_cc_nrec['SUB_SICK_CD'] == 'C20')]\n",
    "\n",
    "### SN_KEY 중복값 제거 ###\n",
    "# 21460 rows × 12 columns\n",
    "df_cs_cc_rec_id = df_cs_cc_nrec.drop_duplicates('SN_KEY') \n",
    "df_cs_cc_rec_id # 21547 rows × 12 columns"
   ]
  },
  {
   "cell_type": "markdown",
   "id": "693d1821",
   "metadata": {},
   "source": [
    "----"
   ]
  },
  {
   "cell_type": "markdown",
   "id": "33350b7b",
   "metadata": {},
   "source": [
    "##### RVD_PL_CD: 요양기관기호지역구분코드 --> 요양기관소재지\n",
    "- 대도시(서울, 부산, 대구, 인천, 울산, 광주, 대전, 수원, 용인, 고양, 창원)\n",
    "- 중소도시 (나머지)\n",
    "- 재발시점에서 요양기관소재지\n",
    "\n",
    "**대도시 : 0, 중소도시 : 1**"
   ]
  },
  {
   "cell_type": "code",
   "execution_count": 12,
   "id": "b8594926",
   "metadata": {},
   "outputs": [
    {
     "data": {
      "text/plain": [
       "0    16114\n",
       "1     5346\n",
       "Name: RVD_PL_CD, dtype: int64"
      ]
     },
     "execution_count": 12,
     "metadata": {},
     "output_type": "execute_result"
    }
   ],
   "source": [
    "df_cs_cc_rec_id['RVD_PL_CD'] = df_cs_cc_rec_id['RVD_PL_CD'].astype('int32')\n",
    "\n",
    "df_cs_cc_rec_id.loc[df_cs_cc_rec_id['RVD_PL_CD'] < 32, 'RVD_PL_CD'] = 0\n",
    "df_cs_cc_rec_id.loc[df_cs_cc_rec_id['RVD_PL_CD'] >= 32, 'RVD_PL_CD'] = 1\n",
    "\n",
    "df_cs_cc_rec_id['RVD_PL_CD'].value_counts()"
   ]
  },
  {
   "cell_type": "markdown",
   "id": "2aaf71b8",
   "metadata": {},
   "source": [
    "----"
   ]
  },
  {
   "cell_type": "markdown",
   "id": "33257b5c",
   "metadata": {},
   "source": [
    "##### SOPR_YN: 수술여부\n",
    "- 대장암 첫 진료 시점에서의 수술여부"
   ]
  },
  {
   "cell_type": "code",
   "execution_count": null,
   "id": "e81e1081",
   "metadata": {},
   "outputs": [],
   "source": [
    "### 명세서 중복제거 필요 ###\n",
    "df_cs_cc_rec_mid = df_cs_cc_nrec.drop_duplicates('MID')\n",
    "df_cs_cc_rec_mid"
   ]
  },
  {
   "cell_type": "code",
   "execution_count": 17,
   "id": "227ca2a0",
   "metadata": {
    "collapsed": true
   },
   "outputs": [
    {
     "name": "stdout",
     "output_type": "stream",
     "text": [
      "1     5838\n",
      "2     5654\n",
      "3     3922\n",
      "4     2263\n",
      "0     1208\n",
      "5     1186\n",
      "6      614\n",
      "7      280\n",
      "8      181\n",
      "9      100\n",
      "10      62\n",
      "11      34\n",
      "12      26\n",
      "13      17\n",
      "15      15\n",
      "14      13\n",
      "16      11\n",
      "21       5\n",
      "17       5\n",
      "24       3\n",
      "18       3\n",
      "22       3\n",
      "19       2\n",
      "34       1\n",
      "50       1\n",
      "33       1\n",
      "51       1\n",
      "27       1\n",
      "55       1\n",
      "26       1\n",
      "32       1\n",
      "29       1\n",
      "35       1\n",
      "30       1\n",
      "42       1\n",
      "20       1\n",
      "31       1\n",
      "45       1\n",
      "Name: SOPR_Y_CNT, dtype: int64\n"
     ]
    }
   ],
   "source": [
    "def count_9(group):\n",
    "    return (group == 9).sum()\n",
    "\n",
    "result_nrec = df_cs_cc_rec_mid.groupby('SN_KEY')['SOPR_YN'].agg(count_9).reset_index(name='SOPR_Y_CNT')\n",
    "print(result_nrec['SOPR_Y_CNT'].value_counts())"
   ]
  },
  {
   "cell_type": "code",
   "execution_count": 18,
   "id": "42536039",
   "metadata": {
    "collapsed": true
   },
   "outputs": [
    {
     "data": {
      "text/html": [
       "<div>\n",
       "<style scoped>\n",
       "    .dataframe tbody tr th:only-of-type {\n",
       "        vertical-align: middle;\n",
       "    }\n",
       "\n",
       "    .dataframe tbody tr th {\n",
       "        vertical-align: top;\n",
       "    }\n",
       "\n",
       "    .dataframe thead th {\n",
       "        text-align: right;\n",
       "    }\n",
       "</style>\n",
       "<table border=\"1\" class=\"dataframe\">\n",
       "  <thead>\n",
       "    <tr style=\"text-align: right;\">\n",
       "      <th></th>\n",
       "      <th>SOPR_Y_CNT</th>\n",
       "    </tr>\n",
       "  </thead>\n",
       "  <tbody>\n",
       "    <tr>\n",
       "      <th>count</th>\n",
       "      <td>21460.000000</td>\n",
       "    </tr>\n",
       "    <tr>\n",
       "      <th>mean</th>\n",
       "      <td>2.560857</td>\n",
       "    </tr>\n",
       "    <tr>\n",
       "      <th>std</th>\n",
       "      <td>2.153241</td>\n",
       "    </tr>\n",
       "    <tr>\n",
       "      <th>min</th>\n",
       "      <td>0.000000</td>\n",
       "    </tr>\n",
       "    <tr>\n",
       "      <th>25%</th>\n",
       "      <td>1.000000</td>\n",
       "    </tr>\n",
       "    <tr>\n",
       "      <th>50%</th>\n",
       "      <td>2.000000</td>\n",
       "    </tr>\n",
       "    <tr>\n",
       "      <th>75%</th>\n",
       "      <td>3.000000</td>\n",
       "    </tr>\n",
       "    <tr>\n",
       "      <th>max</th>\n",
       "      <td>55.000000</td>\n",
       "    </tr>\n",
       "  </tbody>\n",
       "</table>\n",
       "</div>"
      ],
      "text/plain": [
       "         SOPR_Y_CNT\n",
       "count  21460.000000\n",
       "mean       2.560857\n",
       "std        2.153241\n",
       "min        0.000000\n",
       "25%        1.000000\n",
       "50%        2.000000\n",
       "75%        3.000000\n",
       "max       55.000000"
      ]
     },
     "execution_count": 18,
     "metadata": {},
     "output_type": "execute_result"
    }
   ],
   "source": [
    "result_nrec.describe()"
   ]
  },
  {
   "cell_type": "markdown",
   "id": "b59a0e1c",
   "metadata": {},
   "source": [
    "----"
   ]
  }
 ],
 "metadata": {
  "kernelspec": {
   "display_name": "gpu(16GBx2ea)",
   "language": "python",
   "name": "bitfusion-2"
  },
  "language_info": {
   "codemirror_mode": {
    "name": "ipython",
    "version": 3
   },
   "file_extension": ".py",
   "mimetype": "text/x-python",
   "name": "python",
   "nbconvert_exporter": "python",
   "pygments_lexer": "ipython3",
   "version": "3.7.13"
  }
 },
 "nbformat": 4,
 "nbformat_minor": 5
}
