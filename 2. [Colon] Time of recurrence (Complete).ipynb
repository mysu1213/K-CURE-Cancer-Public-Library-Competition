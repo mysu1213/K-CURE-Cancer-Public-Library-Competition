{
 "cells": [
  {
   "cell_type": "markdown",
   "id": "b936fcba",
   "metadata": {},
   "source": [
    "# 필요 라이브러리"
   ]
  },
  {
   "cell_type": "code",
   "execution_count": 1,
   "id": "0df81e05",
   "metadata": {},
   "outputs": [],
   "source": [
    "import warnings\n",
    "import os\n",
    "import pandas as pd\n",
    "\n",
    "warnings.filterwarnings('ignore')"
   ]
  },
  {
   "cell_type": "code",
   "execution_count": 2,
   "id": "d757ee3b",
   "metadata": {},
   "outputs": [
    {
     "name": "stdout",
     "output_type": "stream",
     "text": [
      "/project/kcure-08/src/2. Model/1. Colon\n",
      "/project/kcure-08/src/1. Data/1. Colon\n"
     ]
    }
   ],
   "source": [
    "print(os.getcwd()) # 현재 경로\n",
    "# print(os.listdir(os.getcwd())) # 현재 경로 파일\n",
    "\n",
    "os.chdir('/project/kcure-08/src/1. Data/1. Colon') # 현재 경로 변경(데이터 파일)\n",
    "print(os.getcwd())\n",
    "# print(os.listdir(os.getcwd()))"
   ]
  },
  {
   "cell_type": "markdown",
   "id": "94740489",
   "metadata": {},
   "source": [
    "# 1. 데이터 불러오기"
   ]
  },
  {
   "cell_type": "code",
   "execution_count": 6,
   "id": "5039b8b2",
   "metadata": {},
   "outputs": [],
   "source": [
    "### raw 데이터 불러오기(확인용) ### \n",
    "df_cc_t200 = pd.read_csv('./Raw_csv/cs_cc_t200.csv') # 진료(명세서)\n",
    "df_cc_t400 = pd.read_csv('./Raw_csv/cs_cc_t400.csv') # 진료(상병내역)"
   ]
  },
  {
   "cell_type": "code",
   "execution_count": null,
   "id": "e02f6d0b",
   "metadata": {},
   "outputs": [],
   "source": [
    "### 진료테이블 불러오기(t200 & t400)\n",
    "df_cs_cc = pd.read_csv('./PP_csv/cs_cc.csv')\n",
    "df_cs_cc # 21897420 rows × 12 columns"
   ]
  },
  {
   "cell_type": "markdown",
   "id": "86d53eea",
   "metadata": {},
   "source": [
    "-----"
   ]
  },
  {
   "cell_type": "markdown",
   "id": "e01dbdd0",
   "metadata": {},
   "source": [
    "# 2. 데이터 전처리"
   ]
  },
  {
   "cell_type": "markdown",
   "id": "4c613d1b",
   "metadata": {},
   "source": [
    "### U99 주/부상병 코드 U99 시점 진료 시작일자 찾기"
   ]
  },
  {
   "cell_type": "code",
   "execution_count": null,
   "id": "3397899d",
   "metadata": {},
   "outputs": [],
   "source": [
    "### 진료테이블 T200: \n",
    "df_cs_cc_rec = df_cs_cc[((df_cs_cc['SICK_CD_NEW'] == 'U99')| (df_cs_cc['M_SICK_CD'] == 'U99') | (df_cs_cc['SUB_SICK_CD'] == 'U99')) & (df_cs_cc['SICK_TY_CD'] != 3.0)]\n",
    "\n",
    "### 중복값 제거 및 첫번째 값 반환\n",
    "df_cs_cc_rec = df_cs_cc_rec.drop_duplicates('SN_KEY') "
   ]
  },
  {
   "cell_type": "code",
   "execution_count": null,
   "id": "534f95ea",
   "metadata": {},
   "outputs": [],
   "source": [
    "df_cs_cc_rec['TIME_OF_REC_END'] = df_cs_cc_rec['RECU_FR_DD']\n",
    "index_dp = df_cs_cc_rec[df_cs_cc_rec['SN_KEY'] == 'SN00042239'].index ### SN00042239 찾는 코드는 아래에\n",
    "df_cs_cc_rec = df_cs_cc_rec.drop(index_dp)"
   ]
  },
  {
   "cell_type": "markdown",
   "id": "02fdd10b",
   "metadata": {},
   "source": [
    "-----"
   ]
  },
  {
   "cell_type": "markdown",
   "id": "41702fbd",
   "metadata": {},
   "source": [
    "### U99 이전 첫 진료 종료일자 찾기 "
   ]
  },
  {
   "cell_type": "code",
   "execution_count": null,
   "id": "7ad8f681",
   "metadata": {},
   "outputs": [],
   "source": [
    "df_cs_cc_tmp = df_cs_cc.drop_duplicates('MID') # 8622521 rows × 12 columns"
   ]
  },
  {
   "cell_type": "code",
   "execution_count": null,
   "id": "bfe38e60",
   "metadata": {},
   "outputs": [],
   "source": [
    "### U99 코드를 가진 피험자 기준으로 데이터 가져오기\n",
    "cust_id = list(df_cs_cc_rec['SN_KEY'])\n",
    "df_cs_cc_tmp = df_cs_cc_tmp[df_cs_cc_tmp['SN_KEY'].isin(cust_id)] # 75052 rows × 12 columns"
   ]
  },
  {
   "cell_type": "code",
   "execution_count": null,
   "id": "0675a4ad",
   "metadata": {},
   "outputs": [],
   "source": [
    "df_cs_cc_tmp = df_cs_cc_tmp[(df_cs_cc_tmp['SICK_CD_NEW'] == 'C18') | (df_cs_cc_tmp['SICK_CD_NEW'] == 'C19') | (df_cs_cc_tmp['SICK_CD_NEW'] == 'C20')| (df_cs_cc_tmp['M_SICK_CD'] == 'C18') | (df_cs_cc_tmp['M_SICK_CD'] == 'C19') | (df_cs_cc_tmp['M_SICK_CD'] == 'C20') | (df_cs_cc_tmp['SUB_SICK_CD'] == 'C18') | (df_cs_cc_tmp['SUB_SICK_CD'] == 'C19') | (df_cs_cc_tmp['SUB_SICK_CD'] == 'C20')]\n",
    "df_cs_cc_tmp # 12760 rows × 12 columns"
   ]
  },
  {
   "cell_type": "code",
   "execution_count": null,
   "id": "89e2c4cf",
   "metadata": {},
   "outputs": [],
   "source": [
    "df_cs_cc_tmp = df_cs_cc_tmp.drop_duplicates('SN_KEY') \n",
    "df_cs_cc_tmp # 194 rows × 12 columns"
   ]
  },
  {
   "cell_type": "code",
   "execution_count": null,
   "id": "45d32ea2",
   "metadata": {},
   "outputs": [],
   "source": [
    "TIME_OF_REC_START = df_cs_cc_tmp['RECU_TO_DD']\n",
    "TIME_OF_REC_START = list(TIME_OF_REC_START)"
   ]
  },
  {
   "cell_type": "code",
   "execution_count": 40,
   "id": "ff1a83fe",
   "metadata": {},
   "outputs": [],
   "source": [
    "df_cs_cc_rec['TIME_OF_REC_START'] = TIME_OF_REC_START"
   ]
  },
  {
   "cell_type": "markdown",
   "id": "1343cfe1",
   "metadata": {},
   "source": [
    "-----"
   ]
  },
  {
   "cell_type": "markdown",
   "id": "54f786e1",
   "metadata": {},
   "source": [
    "# 전처리 후 변수 저장하기"
   ]
  },
  {
   "cell_type": "code",
   "execution_count": 42,
   "id": "c75aef1a",
   "metadata": {},
   "outputs": [],
   "source": [
    "df_cs_cc_rec_fin = df_cs_cc_rec[['SN_KEY', 'TIME_OF_REC_START', 'TIME_OF_REC_END']]"
   ]
  },
  {
   "cell_type": "code",
   "execution_count": 43,
   "id": "3ca75248",
   "metadata": {},
   "outputs": [],
   "source": [
    "df_cs_cc_rec_fin['TIME_OF_REC_START'] = pd.to_datetime(df_cs_cc_rec_fin['TIME_OF_REC_START'], format = '%Y-%m-%d', errors='raise')\n",
    "df_cs_cc_rec_fin['TIME_OF_REC_END'] = pd.to_datetime(df_cs_cc_rec_fin['TIME_OF_REC_END'], format = '%Y-%m-%d', errors='raise')"
   ]
  },
  {
   "cell_type": "code",
   "execution_count": 44,
   "id": "b1a9d089",
   "metadata": {},
   "outputs": [],
   "source": [
    "df_cs_cc_rec_fin['TIME_OF_REC'] = df_cs_cc_rec_fin['TIME_OF_REC_END'] - df_cs_cc_rec_fin['TIME_OF_REC_START']"
   ]
  },
  {
   "cell_type": "code",
   "execution_count": 47,
   "id": "030901b1",
   "metadata": {
    "collapsed": true
   },
   "outputs": [
    {
     "data": {
      "text/plain": [
       "523 days     3\n",
       "349 days     2\n",
       "577 days     2\n",
       "477 days     2\n",
       "1525 days    2\n",
       "            ..\n",
       "467 days     1\n",
       "1642 days    1\n",
       "1350 days    1\n",
       "103 days     1\n",
       "21 days      1\n",
       "Name: TIME_OF_REC, Length: 179, dtype: int64"
      ]
     },
     "execution_count": 47,
     "metadata": {},
     "output_type": "execute_result"
    }
   ],
   "source": [
    "df_cs_cc_rec_fin['TIME_OF_REC'].value_counts()"
   ]
  },
  {
   "cell_type": "code",
   "execution_count": null,
   "id": "ffec6e3c",
   "metadata": {},
   "outputs": [],
   "source": [
    "df_cs_cc_rec_fin[df_cs_cc_rec_fin['TIME_OF_REC'] < '1825days']"
   ]
  },
  {
   "cell_type": "markdown",
   "id": "efd7bfac",
   "metadata": {},
   "source": [
    "------------------"
   ]
  },
  {
   "cell_type": "markdown",
   "id": "bd1073f6",
   "metadata": {},
   "source": [
    "끝"
   ]
  }
 ],
 "metadata": {
  "kernelspec": {
   "display_name": "gpu(16GBx2ea)",
   "language": "python",
   "name": "bitfusion-2"
  },
  "language_info": {
   "codemirror_mode": {
    "name": "ipython",
    "version": 3
   },
   "file_extension": ".py",
   "mimetype": "text/x-python",
   "name": "python",
   "nbconvert_exporter": "python",
   "pygments_lexer": "ipython3",
   "version": "3.7.13"
  }
 },
 "nbformat": 4,
 "nbformat_minor": 5
}
