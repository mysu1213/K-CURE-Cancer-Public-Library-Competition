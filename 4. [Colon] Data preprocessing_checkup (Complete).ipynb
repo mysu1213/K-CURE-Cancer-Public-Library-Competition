{
 "cells": [
  {
   "cell_type": "markdown",
   "id": "a7325687",
   "metadata": {},
   "source": [
    "- 건강검진 데이터가 없는 피험자는 NaN값 처리"
   ]
  },
  {
   "cell_type": "markdown",
   "id": "71413b49",
   "metadata": {},
   "source": [
    "# 필요 라이브러리"
   ]
  },
  {
   "cell_type": "code",
   "execution_count": 1,
   "id": "0aa17e77",
   "metadata": {},
   "outputs": [],
   "source": [
    "import warnings\n",
    "import os\n",
    "import pandas as pd\n",
    "import numpy as np\n",
    "\n",
    "warnings.filterwarnings('ignore')"
   ]
  },
  {
   "cell_type": "code",
   "execution_count": 2,
   "id": "957d10e4",
   "metadata": {},
   "outputs": [
    {
     "name": "stdout",
     "output_type": "stream",
     "text": [
      "/project/kcure-08/src/2. Model/1. Colon\n",
      "/project/kcure-08/src/1. Data/1. Colon\n"
     ]
    }
   ],
   "source": [
    "print(os.getcwd()) # 현재 경로\n",
    "# print(os.listdir(os.getcwd())) # 현재 경로 파일\n",
    "\n",
    "os.chdir('/project/kcure-08/src/1. Data/1. Colon') # 현재 경로 변경(데이터 파일)\n",
    "print(os.getcwd())\n",
    "# print(os.listdir(os.getcwd()))"
   ]
  },
  {
   "cell_type": "code",
   "execution_count": 3,
   "id": "4e8eb6c3",
   "metadata": {},
   "outputs": [],
   "source": [
    "### 데이터 모든 행, 열 확인하기\n",
    "pd.set_option('display.max_columns', 150)\n",
    "pd.set_option('display.max_rows', 150)"
   ]
  },
  {
   "cell_type": "markdown",
   "id": "d03af765",
   "metadata": {},
   "source": [
    "---"
   ]
  },
  {
   "cell_type": "markdown",
   "id": "8c876fe7",
   "metadata": {},
   "source": [
    "# 1. 데이터 불러오기"
   ]
  },
  {
   "cell_type": "code",
   "execution_count": 4,
   "id": "647372f7",
   "metadata": {},
   "outputs": [],
   "source": [
    "df_cc_rgst = pd.read_csv('./PP_csv/cs_cc_rgst.csv') # 21773 rows × 36 columns\n",
    "df_cc_g1e = pd.read_csv('./PP_csv/cs_cc_g1e.csv') # 52015 rows × 144 columns\n",
    "df_cs_cc_rec = pd.read_csv('./PP_csv/cs_cc_rec.csv')\n",
    "df_cs_cc_nrec = pd.read_csv('./PP_csv/cs_cc_nrec.csv')"
   ]
  },
  {
   "cell_type": "code",
   "execution_count": null,
   "id": "a9ff8613",
   "metadata": {},
   "outputs": [],
   "source": [
    "df_cc_rgst_id = df_cc_rgst[['SN_KEY', 'SEX']]"
   ]
  },
  {
   "cell_type": "code",
   "execution_count": 6,
   "id": "e26d7783",
   "metadata": {},
   "outputs": [],
   "source": [
    "df_cc_g1e = pd.merge(df_cc_rgst_id, df_cc_g1e, how = 'inner', on = ['SN_KEY']) # 성별추가"
   ]
  },
  {
   "cell_type": "code",
   "execution_count": 7,
   "id": "abaf7b58",
   "metadata": {},
   "outputs": [],
   "source": [
    "### 불필요한 변수 제거 ###\n",
    "df_cc_g1e.drop(['WKG_TYPE_CD_x', 'WKG_TYPE_CD_y'], axis = 1, inplace = True)\n",
    "df_cc_g1e # 52015 rows × 142 columns\n",
    "df_cc_g1e.drop_duplicates('SN_KEY')"
   ]
  },
  {
   "cell_type": "code",
   "execution_count": 12,
   "id": "1f93f7eb",
   "metadata": {},
   "outputs": [],
   "source": [
    "df_cc_g1e_raw = pd.read_csv('./Raw_csv/cs_cc_g1e_obj.csv') # 52015 rows × 144 columns\n",
    "df_cc_g1e_raw.drop_duplicates('SN_KEY')"
   ]
  },
  {
   "cell_type": "markdown",
   "id": "22d26088",
   "metadata": {},
   "source": [
    "----"
   ]
  },
  {
   "cell_type": "code",
   "execution_count": 15,
   "id": "56460f11",
   "metadata": {},
   "outputs": [],
   "source": [
    "#### NaN값의 형태에 따라 ##\n",
    "def create_non_nan_column(df, col1, col2, new_col_name):\n",
    "    df[new_col_name] = np.where(((df[col1].isna()) & (~df[col2].isna())), df[col2], df[col1])\n",
    "    df.drop([col1, col2], axis = 1, inplace = True)\n",
    "    return df"
   ]
  },
  {
   "cell_type": "code",
   "execution_count": 16,
   "id": "b5bc4fec",
   "metadata": {},
   "outputs": [],
   "source": [
    "df_cc_g1e = create_non_nan_column(df_cc_g1e, 'G1E_HGHT_1217', 'G1E_HGHT_1821', 'HGHT') # 키\n",
    "df_cc_g1e = create_non_nan_column(df_cc_g1e, 'G1E_WGHT_1217', 'G1E_WGHT_1821', 'WGHT') # 몸무게\n",
    "df_cc_g1e = create_non_nan_column(df_cc_g1e, 'G1E_BMI_1217', 'G1E_BMI_1821', 'BMI') # BMI\n",
    "df_cc_g1e = create_non_nan_column(df_cc_g1e, 'G1E_WSTC_1217', 'G1E_WSTC_1821', 'WSTC') # 허리둘레\n",
    "df_cc_g1e = create_non_nan_column(df_cc_g1e, 'G1E_BP_SYS_1217', 'G1E_BP_SYS_1821', 'BP_SYS') # 혈압(수축기)\n",
    "df_cc_g1e = create_non_nan_column(df_cc_g1e, 'G1E_BP_DIA_1217', 'G1E_BP_DIA_1821', 'BP_DIA') # 혈압(이완기)\n",
    "df_cc_g1e = create_non_nan_column(df_cc_g1e, 'G1E_URN_PROT_1217', 'G1E_URN_PROT_1821', 'URN_PROT') # 요단백\n",
    "df_cc_g1e = create_non_nan_column(df_cc_g1e, 'G1E_HGB_1217', 'G1E_HGB_1821', 'HGB') # 혈색소수치\n",
    "df_cc_g1e = create_non_nan_column(df_cc_g1e, 'G1E_FBS_1217', 'G1E_FBS_1821', 'FBS') # 공복혈당수치\n",
    "df_cc_g1e = create_non_nan_column(df_cc_g1e, 'G1E_SGOT_1217', 'G1E_SGOT_1821', 'SGOT') # AST 수치\n",
    "df_cc_g1e = create_non_nan_column(df_cc_g1e, 'G1E_SGPT_1217', 'G1E_SGPT_1821', 'SGPT') # ALT 수치\n",
    "df_cc_g1e = create_non_nan_column(df_cc_g1e, 'G1E_GGT_1217', 'G1E_GGT_1821', 'GGT') # 감마지피티수치\n",
    "df_cc_g1e = create_non_nan_column(df_cc_g1e, 'G1E_TG_1217', 'G1E_TG_1821', 'TG') # 트리글리세라이드수치\n",
    "df_cc_g1e = create_non_nan_column(df_cc_g1e, 'G1E_HDL_1217', 'G1E_HDL_1821', 'HDL') # HDL\n",
    "df_cc_g1e = create_non_nan_column(df_cc_g1e, 'G1E_LDL_1217', 'G1E_LDL_1821', 'LDL') # LDL\n",
    "df_cc_g1e = create_non_nan_column(df_cc_g1e, 'G1E_TOT_CHOL_1217', 'G1E_TOT_CHOL_1821', 'TOT_CHOL') # 총콜레스테롤수치\n",
    "df_cc_g1e = create_non_nan_column(df_cc_g1e, 'G1E_CRTN_1217', 'G1E_CRTN_1821', 'CRTN') # 혈청크레아티닌수치\n",
    "df_cc_g1e = create_non_nan_column(df_cc_g1e, 'G1E_GFR_1217', 'G1E_GFR_1821', 'GFR') # 혈액검사(신사구체여과율(e-GFR))\n",
    "\n",
    "### 가족력\n",
    "df_cc_g1e = create_non_nan_column(df_cc_g1e, 'Q_FHX_ETC_1217', 'Q_FHX_ETC_1821', 'Q_FHX_ETC') # 기타 가족력(암포함)\n",
    "\n",
    "### 과거병력 \n",
    "df_cc_g1e = create_non_nan_column(df_cc_g1e, 'G1E_PHX_YN_1217', 'G1E_PHX_YN_1821', 'Q_PHX_YN') # 과거병력유무(1:무, 2: 유)\n",
    "df_cc_g1e = create_non_nan_column(df_cc_g1e, 'Q_PHX_DX_STK_1217', 'Q_PHX_DX_STK_1821', 'Q_PHX_DX_STK') # 뇌졸중\n",
    "df_cc_g1e = create_non_nan_column(df_cc_g1e, 'Q_PHX_DX_HTDZ_1217', 'Q_PHX_DX_HTDZ_1821', 'Q_PHX_DX_HTDZ') # 심장병\n",
    "df_cc_g1e = create_non_nan_column(df_cc_g1e, 'Q_PHX_DX_HTN_1217', 'Q_PHX_DX_HTN_1821', 'Q_PHX_DX_HTN') # 고혈압\n",
    "df_cc_g1e = create_non_nan_column(df_cc_g1e, 'Q_PHX_DX_DM_1217', 'Q_PHX_DX_DM_1821', 'Q_PHX_DX_DM') # 당뇨병\n",
    "df_cc_g1e = create_non_nan_column(df_cc_g1e, 'Q_PHX_DX_PTB_1217', 'Q_PHX_DX_PTB_1821', 'Q_PHX_DX_PTB') # 패결핵\n",
    "df_cc_g1e = create_non_nan_column(df_cc_g1e, 'Q_PHX_DX_DLD_1217', 'Q_PHX_DX_DLD_1821', 'Q_PHX_DX_DLD') # 고지혈증\n",
    "df_cc_g1e = create_non_nan_column(df_cc_g1e, 'Q_PHX_DX_ETC_1217', 'Q_PHX_DX_ETC_1821', 'Q_PHX_DX_ETC') # 기타(암)\n",
    "\n",
    "\n",
    "### 과거 약물치료여부\n",
    "df_cc_g1e = create_non_nan_column(df_cc_g1e, 'Q_PHX_TX_STK_1217', 'Q_PHX_TX_STK_1821', 'Q_PHX_TX_STK') # 뇌졸중\n",
    "df_cc_g1e = create_non_nan_column(df_cc_g1e, 'Q_PHX_TX_HTDZ_1217', 'Q_PHX_TX_HTDZ_1821', 'Q_PHX_TX_HTDZ') # 심장병\n",
    "df_cc_g1e = create_non_nan_column(df_cc_g1e, 'Q_PHX_TX_HTN_1217', 'Q_PHX_TX_HTN_1821', 'Q_PHX_TX_HTN') # 고혈압\n",
    "df_cc_g1e = create_non_nan_column(df_cc_g1e, 'Q_PHX_TX_DM_1217', 'Q_PHX_TX_DM_1821', 'Q_PHX_TX_DM') # 당뇨\n",
    "df_cc_g1e = create_non_nan_column(df_cc_g1e, 'Q_PHX_TX_DLD_1217', 'Q_PHX_TX_DLD_1821', 'Q_PHX_TX_DLD') # 고지혈증\n",
    "df_cc_g1e = create_non_nan_column(df_cc_g1e, 'Q_PHX_TX_ETC_1217', 'Q_PHX_TX_ETC_1821', 'Q_PHX_TX_ETC') # 기타(암)"
   ]
  },
  {
   "cell_type": "markdown",
   "id": "b68f0506",
   "metadata": {},
   "source": [
    "##### 흡연"
   ]
  },
  {
   "cell_type": "code",
   "execution_count": 17,
   "id": "860e4a97",
   "metadata": {},
   "outputs": [
    {
     "data": {
      "text/plain": [
       "Q_SMK_YN_1217\n",
       "1.0              19385\n",
       "2.0               8970\n",
       "3.0               6965\n",
       "dtype: int64"
      ]
     },
     "execution_count": 17,
     "metadata": {},
     "output_type": "execute_result"
    }
   ],
   "source": [
    "df_cc_g1e[['Q_SMK_YN_1217']].value_counts() # 1:아니오, 2: 예,지금은 끊었음, 3:예, 현재도 흡연중"
   ]
  },
  {
   "cell_type": "code",
   "execution_count": 18,
   "id": "502f7f6a",
   "metadata": {},
   "outputs": [
    {
     "data": {
      "text/plain": [
       "Q_SMK_YN_1821\n",
       "1.0              9780\n",
       "2.0              6283\n",
       "3.0               684\n",
       "dtype: int64"
      ]
     },
     "execution_count": 18,
     "metadata": {},
     "output_type": "execute_result"
    }
   ],
   "source": [
    "df_cc_g1e[['Q_SMK_YN_1821']].value_counts() # 1:아니오, 2: 예,지금은 끊었음, 3:예, 현재도 흡연중"
   ]
  },
  {
   "cell_type": "code",
   "execution_count": 19,
   "id": "0e050aa2",
   "metadata": {},
   "outputs": [],
   "source": [
    "df_cc_g1e = create_non_nan_column(df_cc_g1e, 'Q_SMK_YN_1217', 'Q_SMK_YN_1821', 'Q_SMK_YN') "
   ]
  },
  {
   "cell_type": "markdown",
   "id": "b0fa3766",
   "metadata": {},
   "source": [
    "##### 음주\n",
    "- 2012~2017는 소주 잔 기준으로 알코올 함량 계산\n",
    "- 2018~2021는 변수 별로 불러와서 알코올 함량 계산"
   ]
  },
  {
   "cell_type": "markdown",
   "id": "81a340fc",
   "metadata": {},
   "source": [
    "- 소주 cc값은 인원이 1명으로 분할, 계산하기 어려워 변수 제거\n",
    "- 기준표는 삼성서울병원"
   ]
  },
  {
   "cell_type": "code",
   "execution_count": 21,
   "id": "66f4ed30",
   "metadata": {},
   "outputs": [],
   "source": [
    "#################### 2012 - 2017################################\n",
    "df_alc_1217 = df_cc_g1e[['SN_KEY', 'EXMD_BZ_YYYY', 'SEX', 'Q_DRK_FRQ_V09N_1217', 'Q_DRK_AMT_V09N_1217']]\n",
    "\n",
    "# df_alc_1217.info() # 35271 non-null, 18009 non-null\n",
    "# df_alc_1217.fillna(0, inplace = True) # NAN값은 별도 처리예정\n",
    "\n",
    "soju_shot_g = 8 ## 소주 1잔 알코올 함량\n",
    "\n",
    "# 하루 알코올 섭취량 계산\n",
    "def calculate_daily_alcohol(row):\n",
    "    if row['Q_DRK_FRQ_V09N_1217'] != 0 :\n",
    "        alcohol_tot = (row['Q_DRK_AMT_V09N_1217'] * soju_shot_g ) / row['Q_DRK_FRQ_V09N_1217'] # 총 알코올 섭취량(알코올 함량 * 섭취량) / 일수\n",
    "    else:\n",
    "        alcohol_tot = 0\n",
    "    return alcohol_tot\n",
    "\n",
    "df_alc_1217['Q_DAILY_DRK'] = round(df_alc_1217.apply(calculate_daily_alcohol, axis=1), 1) # 하루 평균 섭취량\n",
    "\n",
    "df_alc_1217.loc[df_alc_1217['Q_DRK_FRQ_V09N_1217'] == 0, 'Q_DRK_AMT_V09N_1217'] = 0 # 술을 안마시는 사람은 음주량도 0이다[NaN값 피험자 0으로 변경]\n",
    "df_alc_1217.loc[df_alc_1217['Q_DRK_FRQ_V09N_1217'] == 0, 'Q_DAILY_DRK'] = 0 # 술을 안마시는 사람은 하루 섭취량 0이다.\n",
    "df_alc_1217.loc[df_alc_1217['Q_DRK_AMT_V09N_1217'].isnull(),'Q_DAILY_DRK'] = 'NaN' # 음주량 NaN값 기입안한 피험자는 하루섭취량 모른다"
   ]
  },
  {
   "cell_type": "code",
   "execution_count": 22,
   "id": "2a2ef944",
   "metadata": {},
   "outputs": [],
   "source": [
    "#################### 2018 - 2021################################\n",
    "# df_alc_1821 = df_cc_g1e[['SN_KEY', 'EXMD_BZ_YYYY', 'Q_DRK_FRQ_V09N_1217', 'Q_DRK_AMT_V09N_1217']]\n",
    "df_alc_1821 = df_cc_g1e.loc[:, 'Q_DRK_PER_1821':'Q_DRK_WINE_CC_1821']\n",
    "df_alc_1821_id = df_cc_g1e[['SN_KEY', 'EXMD_BZ_YYYY', 'SEX']]\n",
    "df_alc_1821 = pd.concat([df_alc_1821_id, df_alc_1821], axis = 1)\n",
    "\n",
    "# 각 용기에 대한 알코올 함량(50ml 기준)\n",
    "alcohol_soju_per_50ml = 8\n",
    "alcohol_soju_per_bottle = 360 / 50 * alcohol_soju_per_50ml\n",
    "alcohol_soju_per_can = 355 / 50 * alcohol_soju_per_50ml\n",
    "\n",
    "alcohol_beer_per_200ml = 8\n",
    "alcohol_beer_per_bottle = 355 / 200 * alcohol_beer_per_200ml\n",
    "alcohol_beer_per_can = 330 / 200 * alcohol_beer_per_200ml\n",
    "\n",
    "alcohol_lqr_per_30ml = 9.6\n",
    "alcohol_lqr_per_bottle = 360 / 30 * alcohol_lqr_per_30ml\n",
    "alcohol_lqr_per_can = 330 / 30 * alcohol_lqr_per_30ml\n",
    "\n",
    "alcohol_klqr_per_200ml = 9.6\n",
    "alcohol_klqr_per_bottle = 1000 / 200 * alcohol_klqr_per_200ml\n",
    "alcohol_klqr_per_can = 350 / 200 * alcohol_klqr_per_200ml\n",
    "\n",
    "alcohol_wine_per_125ml = 12\n",
    "alcohol_wine_per_bottle = 700 / 125 * alcohol_wine_per_125ml\n",
    "alcohol_wine_per_can = 375 / 125 * alcohol_wine_per_125ml\n",
    "\n",
    "# 소주 알코올 함량 계산\n",
    "def calculate_soju_alcohol(row):\n",
    "    soju_alcohol = (\n",
    "        row['Q_DRK_SOJU_SHOT_1821'] * alcohol_soju_per_50ml +\n",
    "        row['Q_DRK_SOJU_BTL_1821'] * alcohol_soju_per_bottle +\n",
    "        row['Q_DRK_SOJU_CAN_1821'] * alcohol_soju_per_can +\n",
    "        row['Q_DRK_SOJU_CC_1821'] / 50 * alcohol_soju_per_50ml)\n",
    "    return soju_alcohol\n",
    "\n",
    "# 맥주 알코올 함량 계산\n",
    "def calculate_beer_alcohol(row):\n",
    "    beer_alcohol = (\n",
    "        row['Q_DRK_BEER_SHOT_1821'] * alcohol_beer_per_200ml +\n",
    "        row['Q_DRK_BEER_BTL_1821'] * alcohol_beer_per_bottle +\n",
    "        row['Q_DRK_BEER_CAN_1821'] * alcohol_beer_per_can +\n",
    "        row['Q_DRK_BEER_CC_1821'] / 200 * alcohol_beer_per_200ml)\n",
    "    return beer_alcohol\n",
    "\n",
    "# 양주 알코올 함량 계산\n",
    "def calculate_lqr_alcohol(row):\n",
    "    lqr_alcohol = (\n",
    "        row['Q_DRK_LQR_SHOT_1821'] * alcohol_lqr_per_30ml +\n",
    "        row['Q_DRK_LQR_BTL_1821'] * alcohol_lqr_per_bottle +\n",
    "        row['Q_DRK_LQR_CAN_1821'] * alcohol_lqr_per_can +\n",
    "        row['Q_DRK_LQR_CC_1821'] / 30 * alcohol_lqr_per_30ml)\n",
    "    return lqr_alcohol\n",
    "\n",
    "# 막걸리 알코올 함량 계산\n",
    "def calculate_klqr_alcohol(row):\n",
    "    klqr_alcohol = (\n",
    "        row['Q_DRK_KLQR_SHOT_1821'] * alcohol_klqr_per_200ml +\n",
    "        row['Q_DRK_KLQR_BTL_1821'] * alcohol_klqr_per_bottle +\n",
    "        row['Q_DRK_KLQR_CAN_1821'] * alcohol_klqr_per_can +\n",
    "        row['Q_DRK_KLQR_CC_1821'] / 200 * alcohol_klqr_per_200ml)\n",
    "    return klqr_alcohol\n",
    "\n",
    "# 와인 알코올 함량 계산\n",
    "def calculate_wine_alcohol(row):\n",
    "    wine_alcohol = (\n",
    "        row['Q_DRK_WINE_SHOT_1821'] * alcohol_wine_per_125ml +\n",
    "        row['Q_DRK_WINE_BTL_1821'] * alcohol_wine_per_bottle +\n",
    "        row['Q_DRK_WINE_CAN_1821'] * alcohol_wine_per_can +\n",
    "        row['Q_DRK_WINE_CC_1821'] / 125 * alcohol_wine_per_125ml)\n",
    "    return wine_alcohol\n",
    "\n",
    "df_alc_1821['Q_DRK_SOJU_TOT'] = df_alc_1821.apply(calculate_soju_alcohol, axis = 1)\n",
    "df_alc_1821['Q_DRK_BEER_TOT'] = df_alc_1821.apply(calculate_beer_alcohol, axis = 1)\n",
    "df_alc_1821['Q_DRK_LQR_TOT'] = df_alc_1821.apply(calculate_lqr_alcohol, axis = 1)\n",
    "df_alc_1821['Q_DRK_KLQR_TOT'] = df_alc_1821.apply(calculate_klqr_alcohol, axis = 1)\n",
    "df_alc_1821['Q_DRK_WINE_TOT'] = df_alc_1821.apply(calculate_wine_alcohol, axis = 1)"
   ]
  },
  {
   "cell_type": "code",
   "execution_count": 23,
   "id": "7ef0f47c",
   "metadata": {},
   "outputs": [],
   "source": [
    "# 총 알코올 섭취량 계산\n",
    "def total_alcohol(row):\n",
    "    alcohol_tot = row['Q_DRK_SOJU_TOT'] + row['Q_DRK_BEER_TOT'] + row['Q_DRK_LQR_TOT'] + row['Q_DRK_KLQR_TOT'] + row['Q_DRK_WINE_TOT']\n",
    "    return alcohol_tot\n",
    "\n",
    "df_alc_1821['Q_DRK_TOT'] = df_alc_1821.apply(total_alcohol, axis = 1)\n",
    "\n",
    "# 하루 알코올 섭취량 계산 함수\n",
    "def calculate_daily_alcohol(row):\n",
    "    if row['Q_DRK_PER_1821'] == 1:\n",
    "        return row['Q_DRK_TOT'] / 7 # 일주일\n",
    "    elif row['Q_DRK_PER_1821'] == 2:\n",
    "        return row['Q_DRK_TOT'] / 30 # 한 달\n",
    "    elif row['Q_DRK_PER_1821'] == 3:\n",
    "        return row['Q_DRK_TOT'] / 365 # 한 달\n",
    "    else:\n",
    "        return 0\n",
    "\n",
    "df_alc_1821['Q_DAILY_DRK'] = round(df_alc_1821.apply(calculate_daily_alcohol, axis = 1),1)\n",
    "\n",
    "# df_alc_1821.loc[df_alc_1821['Q_DRK_PER_1821'] == 4, 'Q_DRK_FRQ_1821'] = 0 # 술을 안마시는 사람은 음주량도 0이다[NaN값 피험자 0으로 변경]\n",
    "df_alc_1821.loc[df_alc_1821['Q_DRK_PER_1821'] == 4, 'Q_DAILY_DRK'] = 0 # 술을 안마시는 사람은 하루 섭취량 0이다.\n",
    "df_alc_1821.loc[df_alc_1821['Q_DRK_PER_1821'].isnull(),'Q_DAILY_DRK'] = 'NaN' # "
   ]
  },
  {
   "cell_type": "code",
   "execution_count": 24,
   "id": "0d915bde",
   "metadata": {},
   "outputs": [],
   "source": [
    "### 하루 알코올 섭취량 기준 알코올 위험군 (성별 기준)\n",
    "\n",
    "def classify_risk(row):\n",
    "    if row['Q_DAILY_DRK'] == 'NaN':\n",
    "        return 'NaN'\n",
    "    \n",
    "    if row['SEX'] == 1: # 남자\n",
    "                \n",
    "        if row['Q_DAILY_DRK'] <= 40:\n",
    "            return 0\n",
    "        elif 40 < row['Q_DAILY_DRK'] <= 60:\n",
    "            return 1\n",
    "        elif 60 < row['Q_DAILY_DRK']<= 100:\n",
    "            return 2\n",
    "        else:\n",
    "            return 3\n",
    "        \n",
    "    elif row['SEX'] == 2: # 여자\n",
    "        \n",
    "        if row['Q_DAILY_DRK'] <= 20:\n",
    "            return 0\n",
    "        elif 20 < row['Q_DAILY_DRK'] <= 40:\n",
    "            return 1\n",
    "        elif 40 < row['Q_DAILY_DRK']<= 60:\n",
    "            return 2\n",
    "        else:\n",
    "            return 3\n",
    "        \n",
    "df_alc_1217['Q_DRK_RISK'] = df_alc_1217.apply(classify_risk, axis = 1) \n",
    "df_alc_1821['Q_DRK_RISK'] = df_alc_1821.apply(classify_risk, axis = 1)"
   ]
  },
  {
   "cell_type": "code",
   "execution_count": 25,
   "id": "b258f284",
   "metadata": {},
   "outputs": [
    {
     "data": {
      "text/plain": [
       "0      33204\n",
       "NaN    16781\n",
       "1       1416\n",
       "2        497\n",
       "3        190\n",
       "Name: Q_DRK_RISK, dtype: int64"
      ]
     },
     "execution_count": 25,
     "metadata": {},
     "output_type": "execute_result"
    }
   ],
   "source": [
    "df_alc_1217['Q_DRK_RISK'].value_counts()"
   ]
  },
  {
   "cell_type": "code",
   "execution_count": 26,
   "id": "1279140b",
   "metadata": {},
   "outputs": [
    {
     "data": {
      "text/plain": [
       "NaN    35339\n",
       "0      11175\n",
       "3       5571\n",
       "1          3\n",
       "Name: Q_DRK_RISK, dtype: int64"
      ]
     },
     "execution_count": 26,
     "metadata": {},
     "output_type": "execute_result"
    }
   ],
   "source": [
    "df_alc_1821['Q_DRK_RISK'].value_counts()"
   ]
  },
  {
   "cell_type": "code",
   "execution_count": null,
   "id": "e6020d7e",
   "metadata": {},
   "outputs": [],
   "source": [
    "df_alc_1217_fin = df_alc_1217[['SN_KEY','EXMD_BZ_YYYY','Q_DAILY_DRK','Q_DRK_RISK']]\n",
    "df_alc_1217_fin = df_alc_1217_fin.rename(columns={'Q_DAILY_DRK': 'Q_DAILY_DRK_1217', 'Q_DRK_RISK': 'Q_DRK_RISK_1217'}) \n",
    "df_alc_1821_fin = df_alc_1821[['Q_DAILY_DRK','Q_DRK_RISK']]\n",
    "df_alc_1821_fin = df_alc_1821_fin.rename(columns={'Q_DAILY_DRK': 'Q_DAILY_DRK_1821', 'Q_DRK_RISK': 'Q_DRK_RISK_1821'}) \n",
    "df_alc_fin = pd.concat([df_alc_1217_fin, df_alc_1821_fin], axis=1)"
   ]
  },
  {
   "cell_type": "code",
   "execution_count": 30,
   "id": "8d03dd9d",
   "metadata": {},
   "outputs": [],
   "source": [
    "# 음주는 내가 따로 NaN값 처리했기때문에...\n",
    "def create_non_nan_column_ach(df, col1, col2, new_col_name):\n",
    "    df[new_col_name] = np.where(((df[col1]=='NaN') & (df[col2] != 'NaN')), df[col2], df[col1])\n",
    "#     df[new_col_name] = df[col1].combine_first(df[col2])\n",
    "    df.drop([col1, col2], axis = 1, inplace = True)\n",
    "    return df"
   ]
  },
  {
   "cell_type": "code",
   "execution_count": null,
   "id": "27dbc85c",
   "metadata": {},
   "outputs": [],
   "source": [
    "df_alc_fin = create_non_nan_column_ach(df_alc_fin, 'Q_DAILY_DRK_1217', 'Q_DAILY_DRK_1821', 'Q_DAILY_DRK') # 하루 총 섭취량\n",
    "df_alc_fin = create_non_nan_column_ach(df_alc_fin, 'Q_DRK_RISK_1217', 'Q_DRK_RISK_1821', 'Q_DRK_RISK') # 음주 위험도\n",
    "df_alc_fin"
   ]
  },
  {
   "cell_type": "code",
   "execution_count": null,
   "id": "a942a6bc",
   "metadata": {},
   "outputs": [],
   "source": [
    "df_alc_fin = df_alc_fin[['Q_DAILY_DRK', 'Q_DRK_RISK']]\n",
    "df_cc_g1e = pd.concat([df_cc_g1e, df_alc_fin], axis = 1)\n",
    "df_cc_g1e"
   ]
  },
  {
   "cell_type": "code",
   "execution_count": null,
   "id": "b2d0592a",
   "metadata": {},
   "outputs": [],
   "source": [
    "columns_to_drop_alc_1217 = ['Q_DRK_FRQ_V09N_1217','Q_DRK_AMT_V09N_1217']\n",
    "columns_to_drop_alc_1821 = df_cc_g1e.loc[:, 'Q_DRK_PER_1821':'Q_DRK_WINE_CC_1821']\n",
    "df_cc_g1e = df_cc_g1e.drop(columns = columns_to_drop_alc_1217)\n",
    "df_cc_g1e = df_cc_g1e.drop(columns = columns_to_drop_alc_1821)\n",
    "df_cc_g1e"
   ]
  },
  {
   "cell_type": "markdown",
   "id": "a9b4a625",
   "metadata": {},
   "source": [
    "-----"
   ]
  },
  {
   "cell_type": "markdown",
   "id": "189ed288",
   "metadata": {},
   "source": [
    "##### 신체활동\n",
    "- 가중 평균 지표\n",
    "- 고강도: 3, 중강도: 2, 걷기: 1"
   ]
  },
  {
   "cell_type": "code",
   "execution_count": null,
   "id": "aa94190f",
   "metadata": {},
   "outputs": [],
   "source": [
    "# 가중치 설정\n",
    "weights = {'Q_PA_VD_1217': 3, 'Q_PA_MD_1217': 2, 'Q_PA_WALK_1217': 1}\n",
    "\n",
    "# 가중 평균 신체활동\n",
    "df_cc_g1e['Q_PA_1217'] = round((df_cc_g1e['Q_PA_VD_1217'] * weights['Q_PA_VD_1217'] +\n",
    "                         df_cc_g1e['Q_PA_MD_1217'] * weights['Q_PA_MD_1217'] +\n",
    "                         df_cc_g1e['Q_PA_WALK_1217'] * weights['Q_PA_WALK_1217'] / sum(weights.values())), 1)\n",
    "df_cc_g1e"
   ]
  },
  {
   "cell_type": "code",
   "execution_count": null,
   "id": "380beed9",
   "metadata": {},
   "outputs": [],
   "source": [
    "# 가중치 설정\n",
    "weights = {'Q_PA_VD_FRQ_1821': 3, 'Q_PA_MD_FRQ_1821': 2, 'Q_PA_MUSL_FRQ_1821': 2}\n",
    "\n",
    "# 가중 평균 신체활동\n",
    "df_cc_g1e['Q_PA_1821'] = round((df_cc_g1e['Q_PA_VD_FRQ_1821'] * weights['Q_PA_VD_FRQ_1821'] +\n",
    "                         df_cc_g1e['Q_PA_MD_FRQ_1821'] * weights['Q_PA_MD_FRQ_1821'] +\n",
    "                         df_cc_g1e['Q_PA_MUSL_FRQ_1821'] * weights['Q_PA_MUSL_FRQ_1821'] / sum(weights.values())), 1)\n",
    "df_cc_g1e"
   ]
  },
  {
   "cell_type": "code",
   "execution_count": null,
   "id": "7ba7dc1d",
   "metadata": {},
   "outputs": [],
   "source": [
    "df_cc_g1e = create_non_nan_column(df_cc_g1e, 'Q_PA_1217', 'Q_PA_1821', 'Q_PA_WGT_AVG') # 음주 위험도\n",
    "df_cc_g1e"
   ]
  },
  {
   "cell_type": "code",
   "execution_count": 37,
   "id": "d565b915",
   "metadata": {},
   "outputs": [],
   "source": [
    "columns_to_drop_pa_1217 = ['Q_PA_VD_1217','Q_PA_MD_1217', 'Q_PA_WALK_1217']\n",
    "df_cc_g1e = df_cc_g1e.drop(columns = columns_to_drop_pa_1217)\n",
    "\n",
    "columns_to_drop_1821 = ['Q_PHX_TX_PTB_1821', 'Q_HBV_AG_1821', 'G1E_PHX_DRUG_YN_1821'] # 2012-2017년도에 없는 약물치료여부 및 b형간염항원보유자\n",
    "df_cc_g1e = df_cc_g1e.drop(columns = columns_to_drop_1821)\n",
    "\n",
    "columns_to_drop_drk_1821 = df_cc_g1e.loc[:, 'Q_DRK_MAX_SOJU_SHOT_1821':'Q_DRK_MAX_WINE_CC_1821']\n",
    "df_cc_g1e = df_cc_g1e.drop(columns = columns_to_drop_drk_1821)\n",
    "\n",
    "columns_to_drop_smk_1821 = df_cc_g1e.loc[:, 'Q_SMK_DRT_1821':'Q_SMK_STP_DRT_1821']\n",
    "df_cc_g1e = df_cc_g1e.drop(columns = columns_to_drop_smk_1821)\n",
    "\n",
    "columns_to_drop_smk_2_1821 = df_cc_g1e.loc[:, 'Q_HNBT_YN_1821':'Q_E_CIGA_AMT_1821']\n",
    "df_cc_g1e = df_cc_g1e.drop(columns = columns_to_drop_smk_2_1821)\n",
    "\n",
    "columns_to_drop_pa_1821 = df_cc_g1e.loc[:, 'Q_PA_VD_FRQ_1821':'Q_PA_MUSL_FRQ_1821']\n",
    "df_cc_g1e = df_cc_g1e.drop(columns = columns_to_drop_pa_1821)"
   ]
  },
  {
   "cell_type": "code",
   "execution_count": null,
   "id": "8245dec8",
   "metadata": {},
   "outputs": [],
   "source": [
    "df_cc_g1e_fin = df_cc_g1e\n",
    "df_cc_g1e_fin"
   ]
  },
  {
   "cell_type": "markdown",
   "id": "9a3be2c9",
   "metadata": {},
   "source": [
    "# 지금까지 전처리한 건강검진테이블 변수 csv로 저장"
   ]
  },
  {
   "cell_type": "code",
   "execution_count": 27,
   "id": "b42a5d68",
   "metadata": {},
   "outputs": [],
   "source": [
    "df_cc_g1e_fin.to_csv('./PP_csv/cs_cc_g1e_fin.csv', index = False)"
   ]
  },
  {
   "cell_type": "markdown",
   "id": "07905ee6",
   "metadata": {},
   "source": [
    "----"
   ]
  }
 ],
 "metadata": {
  "kernelspec": {
   "display_name": "gpu(16GBx2ea)",
   "language": "python",
   "name": "bitfusion-2"
  },
  "language_info": {
   "codemirror_mode": {
    "name": "ipython",
    "version": 3
   },
   "file_extension": ".py",
   "mimetype": "text/x-python",
   "name": "python",
   "nbconvert_exporter": "python",
   "pygments_lexer": "ipython3",
   "version": "3.7.13"
  }
 },
 "nbformat": 4,
 "nbformat_minor": 5
}
