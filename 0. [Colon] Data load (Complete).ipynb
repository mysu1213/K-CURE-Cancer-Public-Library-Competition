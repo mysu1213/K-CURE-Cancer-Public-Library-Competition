{
 "cells": [
  {
   "cell_type": "markdown",
   "id": "3cc3a437",
   "metadata": {},
   "source": [
    "<span style=\"color:red\"> **목표: .sas를 .csv파일로 변환**\n",
    "    \n",
    "- [20231127] 진료테이블(t300) 대용량 데이터 처리 완료\n",
    "- [20231128] 데이터유형 및 필요변수들 1차 필터링 완료 (t200, t300, t400, t530)\n",
    "- [20231128] .csv파일로 변환 "
   ]
  },
  {
   "cell_type": "markdown",
   "id": "5df8af49",
   "metadata": {},
   "source": [
    "--------------"
   ]
  },
  {
   "cell_type": "markdown",
   "id": "669b1a68",
   "metadata": {},
   "source": [
    "# 필요 라이브러리"
   ]
  },
  {
   "cell_type": "code",
   "execution_count": 1,
   "id": "87779b1b",
   "metadata": {},
   "outputs": [],
   "source": [
    "import os\n",
    "import pandas as pd"
   ]
  },
  {
   "cell_type": "markdown",
   "id": "ed19d5fa",
   "metadata": {},
   "source": [
    "-------"
   ]
  },
  {
   "cell_type": "markdown",
   "id": "34a7fad6",
   "metadata": {},
   "source": [
    "# 1. 경로설정\n",
    "- 현재 경로 파악하기 위함\n",
    "- 데이터를 바로 불러올 수 있는 경로 설정 완료"
   ]
  },
  {
   "cell_type": "code",
   "execution_count": 2,
   "id": "ed40ecf8",
   "metadata": {},
   "outputs": [
    {
     "name": "stdout",
     "output_type": "stream",
     "text": [
      "/project/kcure-08/src/2. Model/1. Colon\n",
      "/project/kcure-08/src/1. Data/1. Colon\n"
     ]
    }
   ],
   "source": [
    "print(os.getcwd()) # 현재 경로\n",
    "# print(os.listdir(os.getcwd())) # 현재 경로 파일\n",
    "\n",
    "os.chdir('/project/kcure-08/src/1. Data/1. Colon') # 현재 경로 변경(데이터 파일)\n",
    "print(os.getcwd())\n",
    "# print(os.listdir(os.getcwd()))"
   ]
  },
  {
   "cell_type": "markdown",
   "id": "7b503fc8",
   "metadata": {},
   "source": [
    "------"
   ]
  },
  {
   "cell_type": "markdown",
   "id": "a842102e",
   "metadata": {},
   "source": [
    "# 2. 데이터 불러오기\n",
    "- csv 파일로 변환\n",
    "- 데이터 용량 줄이기 (필요 변수 및 데이터 유형 변경)"
   ]
  },
  {
   "cell_type": "code",
   "execution_count": 4,
   "id": "c951cb29",
   "metadata": {},
   "outputs": [
    {
     "name": "stderr",
     "output_type": "stream",
     "text": [
      "/usr/local/lib/python3.7/dist-packages/pandas/io/sas/sas7bdat.py:809: PerformanceWarning: DataFrame is highly fragmented.  This is usually the result of calling `frame.insert` many times, which has poor performance.  Consider joining all columns at once using pd.concat(axis=1) instead.  To get a de-fragmented frame, use `newframe = frame.copy()`\n",
      "  rslt[name] = self._string_chunk[js, :]\n"
     ]
    }
   ],
   "source": [
    "df_cc_rgst = pd.read_sas('cs_cc_rgst.sas7bdat', format = 'sas7bdat') # 병기조사 및 사망원인\n",
    "df_cc_bfc = pd.read_sas('cs_cc_bfc.sas7bdat', format = 'sas7bdat') # 자격 및 보험료\n",
    "df_cc_t200 = pd.read_sas('cs_cc_t200.sas7bdat', format = 'sas7bdat') # 진료(명세서)\n",
    "# t300 따로 처리\n",
    "df_cc_t400 = pd.read_sas('cs_cc_t400.sas7bdat', format = 'sas7bdat') # 진료(상병내역)\n",
    "df_cc_t530 = pd.read_sas('cs_cc_t530.sas7bdat', format = 'sas7bdat') # 진료(원외처방내역)\n",
    "df_cc_g1e_obj = pd.read_sas('cs_cc_g1e_obj.sas7bdat', format = 'sas7bdat') # 건강검진 (대상자)\n",
    "df_cc_g1eq_1217 = pd.read_sas('cs_cc_g1eq_1217.sas7bdat', format = 'sas7bdat') # 건강검진 (문진, 결과 및 판정)\n",
    "df_cc_gq_1821 = pd.read_sas('cs_cc_gq_1821.sas7bdat', format = 'sas7bdat') # 건강검진 (문진)\n",
    "df_cc_g1e_1821 = pd.read_sas('cs_cc_g1e_1821.sas7bdat', format = 'sas7bdat') # 건강검진 (결과 및 판정)\n",
    "df_cc_ccr_cq_rst_1217 = pd.read_sas('cs_cc_ccr_cq_rst_1217.sas7bdat', format = 'sas7bdat') # 암문진()\n",
    "df_cc_ccr_cq_rst_1821 = pd.read_sas('cs_cc_ccr_cq_rst_1821.sas7bdat', format = 'sas7bdat') # 암문진 ()\n",
    "df_cc_ccr_rst_1217 = pd.read_sas('cs_cc_ccr_rst_1217.sas7bdat', format = 'sas7bdat') # 암검진()\n",
    "df_cc_ccr_rst_1821 = pd.read_sas('cs_cc_ccr_rst_1821.sas7bdat', format = 'sas7bdat') # 암검진()"
   ]
  },
  {
   "cell_type": "markdown",
   "id": "12074ac8",
   "metadata": {},
   "source": [
    "### 1. 병기조사 및 사망원인 테이블 (; CC_RGST)\n",
    "- cs_cc_rgst.sas7bdat\n",
    "- 21773명의 대장암 데이터"
   ]
  },
  {
   "cell_type": "code",
   "execution_count": null,
   "id": "be10e922",
   "metadata": {},
   "outputs": [],
   "source": [
    "df_cc_rgst = pd.read_sas('./Raw/cs_cc_rgst.sas7bdat', format = 'sas7bdat') # 병기조사 및 사망원인(21773 rows × 45 columns)"
   ]
  },
  {
   "cell_type": "code",
   "execution_count": 60,
   "id": "9d673cc5",
   "metadata": {},
   "outputs": [],
   "source": [
    "### csv 파일로 저장 ###\n",
    "df_cc_rgst.to_csv('./Raw_csv/cs_cc_rgst.csv', index = False)"
   ]
  },
  {
   "cell_type": "markdown",
   "id": "467a0034",
   "metadata": {},
   "source": [
    "<span style=\"color:red\"> **완료**\n",
    "- 'cs_cc_rgst.csv'"
   ]
  },
  {
   "cell_type": "markdown",
   "id": "d7a9c2d3",
   "metadata": {},
   "source": [
    "### 2. 자격 및 보험료 테이블(; BFC)\n",
    "- cs_cc_bfc.sas7bdat\n",
    "- 중복데이터 있음"
   ]
  },
  {
   "cell_type": "code",
   "execution_count": 55,
   "id": "b205ec6e",
   "metadata": {
    "collapsed": true
   },
   "outputs": [
    {
     "data": {
      "text/html": [
       "<div>\n",
       "<style scoped>\n",
       "    .dataframe tbody tr th:only-of-type {\n",
       "        vertical-align: middle;\n",
       "    }\n",
       "\n",
       "    .dataframe tbody tr th {\n",
       "        vertical-align: top;\n",
       "    }\n",
       "\n",
       "    .dataframe thead th {\n",
       "        text-align: right;\n",
       "    }\n",
       "</style>\n",
       "<table border=\"1\" class=\"dataframe\">\n",
       "  <thead>\n",
       "    <tr style=\"text-align: right;\">\n",
       "      <th></th>\n",
       "      <th>SN_KEY</th>\n",
       "      <th>STD_YYYY</th>\n",
       "      <th>GAIBJA_TYPE</th>\n",
       "      <th>SIDO_CD</th>\n",
       "      <th>CALC_CTRB_VTILE_FD</th>\n",
       "      <th>CMPR_DSB_GRADE_ADJ</th>\n",
       "      <th>MAIN_DSB_TYPE_ADJ</th>\n",
       "    </tr>\n",
       "  </thead>\n",
       "  <tbody>\n",
       "    <tr>\n",
       "      <th>0</th>\n",
       "      <td>b'SN00050007'</td>\n",
       "      <td>b'2017'</td>\n",
       "      <td>b'7'</td>\n",
       "      <td>b'3'</td>\n",
       "      <td>0.0</td>\n",
       "      <td>b'0'</td>\n",
       "      <td>b'0'</td>\n",
       "    </tr>\n",
       "    <tr>\n",
       "      <th>1</th>\n",
       "      <td>b'SN00012797'</td>\n",
       "      <td>b'2017'</td>\n",
       "      <td>b'1'</td>\n",
       "      <td>b'3'</td>\n",
       "      <td>7.0</td>\n",
       "      <td>b'0'</td>\n",
       "      <td>b'0'</td>\n",
       "    </tr>\n",
       "    <tr>\n",
       "      <th>2</th>\n",
       "      <td>b'SN00013487'</td>\n",
       "      <td>b'2017'</td>\n",
       "      <td>b'1'</td>\n",
       "      <td>b'2'</td>\n",
       "      <td>7.0</td>\n",
       "      <td>b'0'</td>\n",
       "      <td>b'0'</td>\n",
       "    </tr>\n",
       "    <tr>\n",
       "      <th>3</th>\n",
       "      <td>b'SN00055590'</td>\n",
       "      <td>b'2017'</td>\n",
       "      <td>b'7'</td>\n",
       "      <td>b'2'</td>\n",
       "      <td>0.0</td>\n",
       "      <td>b'0'</td>\n",
       "      <td>b'0'</td>\n",
       "    </tr>\n",
       "    <tr>\n",
       "      <th>4</th>\n",
       "      <td>b'SN00006446'</td>\n",
       "      <td>b'2017'</td>\n",
       "      <td>b'5'</td>\n",
       "      <td>b'3'</td>\n",
       "      <td>7.0</td>\n",
       "      <td>b'0'</td>\n",
       "      <td>b'0'</td>\n",
       "    </tr>\n",
       "    <tr>\n",
       "      <th>...</th>\n",
       "      <td>...</td>\n",
       "      <td>...</td>\n",
       "      <td>...</td>\n",
       "      <td>...</td>\n",
       "      <td>...</td>\n",
       "      <td>...</td>\n",
       "      <td>...</td>\n",
       "    </tr>\n",
       "    <tr>\n",
       "      <th>187435</th>\n",
       "      <td>b'SN00052409'</td>\n",
       "      <td>b'2019'</td>\n",
       "      <td>b'6'</td>\n",
       "      <td>b'2'</td>\n",
       "      <td>9.0</td>\n",
       "      <td>b'0'</td>\n",
       "      <td>b'0'</td>\n",
       "    </tr>\n",
       "    <tr>\n",
       "      <th>187436</th>\n",
       "      <td>b'SN00054509'</td>\n",
       "      <td>b'2019'</td>\n",
       "      <td>b'6'</td>\n",
       "      <td>b'2'</td>\n",
       "      <td>9.0</td>\n",
       "      <td>b'0'</td>\n",
       "      <td>b'0'</td>\n",
       "    </tr>\n",
       "    <tr>\n",
       "      <th>187437</th>\n",
       "      <td>b'SN00012052'</td>\n",
       "      <td>b'2019'</td>\n",
       "      <td>b'6'</td>\n",
       "      <td>b'2'</td>\n",
       "      <td>9.0</td>\n",
       "      <td>b'0'</td>\n",
       "      <td>b'0'</td>\n",
       "    </tr>\n",
       "    <tr>\n",
       "      <th>187438</th>\n",
       "      <td>b'SN00027450'</td>\n",
       "      <td>b'2019'</td>\n",
       "      <td>b'6'</td>\n",
       "      <td>b'2'</td>\n",
       "      <td>8.0</td>\n",
       "      <td>b'0'</td>\n",
       "      <td>b'0'</td>\n",
       "    </tr>\n",
       "    <tr>\n",
       "      <th>187439</th>\n",
       "      <td>b'SN00037951'</td>\n",
       "      <td>b'2019'</td>\n",
       "      <td>b'6'</td>\n",
       "      <td>b'2'</td>\n",
       "      <td>8.0</td>\n",
       "      <td>b'0'</td>\n",
       "      <td>b'0'</td>\n",
       "    </tr>\n",
       "  </tbody>\n",
       "</table>\n",
       "<p>187440 rows × 7 columns</p>\n",
       "</div>"
      ],
      "text/plain": [
       "               SN_KEY STD_YYYY GAIBJA_TYPE SIDO_CD  CALC_CTRB_VTILE_FD  \\\n",
       "0       b'SN00050007'  b'2017'        b'7'    b'3'                 0.0   \n",
       "1       b'SN00012797'  b'2017'        b'1'    b'3'                 7.0   \n",
       "2       b'SN00013487'  b'2017'        b'1'    b'2'                 7.0   \n",
       "3       b'SN00055590'  b'2017'        b'7'    b'2'                 0.0   \n",
       "4       b'SN00006446'  b'2017'        b'5'    b'3'                 7.0   \n",
       "...               ...      ...         ...     ...                 ...   \n",
       "187435  b'SN00052409'  b'2019'        b'6'    b'2'                 9.0   \n",
       "187436  b'SN00054509'  b'2019'        b'6'    b'2'                 9.0   \n",
       "187437  b'SN00012052'  b'2019'        b'6'    b'2'                 9.0   \n",
       "187438  b'SN00027450'  b'2019'        b'6'    b'2'                 8.0   \n",
       "187439  b'SN00037951'  b'2019'        b'6'    b'2'                 8.0   \n",
       "\n",
       "       CMPR_DSB_GRADE_ADJ MAIN_DSB_TYPE_ADJ  \n",
       "0                    b'0'              b'0'  \n",
       "1                    b'0'              b'0'  \n",
       "2                    b'0'              b'0'  \n",
       "3                    b'0'              b'0'  \n",
       "4                    b'0'              b'0'  \n",
       "...                   ...               ...  \n",
       "187435               b'0'              b'0'  \n",
       "187436               b'0'              b'0'  \n",
       "187437               b'0'              b'0'  \n",
       "187438               b'0'              b'0'  \n",
       "187439               b'0'              b'0'  \n",
       "\n",
       "[187440 rows x 7 columns]"
      ]
     },
     "execution_count": 55,
     "metadata": {},
     "output_type": "execute_result"
    }
   ],
   "source": [
    "df_cc_bfc = pd.read_sas('./Raw/cs_cc_bfc.sas7bdat', format = 'sas7bdat') # 자격 및 보험료\n",
    "df_cc_bfc # 187440 rows × 7 columns"
   ]
  },
  {
   "cell_type": "code",
   "execution_count": 62,
   "id": "69eda3b8",
   "metadata": {},
   "outputs": [],
   "source": [
    "### csv 파일로 저장 ###\n",
    "df_cc_bfc.to_csv('./Raw_csv/cs_cc_bfc.csv', index = False)"
   ]
  },
  {
   "cell_type": "markdown",
   "id": "60ff7fb5",
   "metadata": {},
   "source": [
    "<span style=\"color:red\"> **완료**\n",
    "- 'cs_cc_bfc.csv'"
   ]
  },
  {
   "cell_type": "markdown",
   "id": "03fc4de0",
   "metadata": {},
   "source": [
    "### 3-1. 진료 테이블(상병내역; T400)\n",
    "- cs_cc_t400.sas7bdat"
   ]
  },
  {
   "cell_type": "code",
   "execution_count": null,
   "id": "437082d1",
   "metadata": {},
   "outputs": [],
   "source": [
    "df_cc_t400 = pd.read_sas('./Raw/cs_cc_t400.sas7bdat', format = 'sas7bdat') # 진료(상병내역)\n",
    "df_cc_t400.head()\n",
    "# df_cc_t400.info(memory_usage='deep') # 6.2 GB"
   ]
  },
  {
   "cell_type": "code",
   "execution_count": 4,
   "id": "ec668611",
   "metadata": {},
   "outputs": [],
   "source": [
    "df_cc_t400 = df_cc_t400[['SN_KEY', 'MID', 'SICK_CD_NEW', 'SICK_TY_CD']]\n",
    "# df_cc_t400.info(memory_usage='deep') # 3.8 GB"
   ]
  },
  {
   "cell_type": "code",
   "execution_count": 6,
   "id": "b9057455",
   "metadata": {},
   "outputs": [],
   "source": [
    "### csv 파일로 저장 ###\n",
    "df_cc_t400.to_csv('./Raw_csv/cs_cc_t400.csv', index = False) # 21897420 rows × 4 columns"
   ]
  },
  {
   "cell_type": "markdown",
   "id": "fa408eab",
   "metadata": {},
   "source": [
    "<span style=\"color:red\"> **완료**\n",
    "- 'cs_cc_t400'"
   ]
  },
  {
   "cell_type": "markdown",
   "id": "a284004e",
   "metadata": {},
   "source": [
    "### 3-2. 진료 테이블(명세서 일반내역; T200)\n",
    "- cs_cc_t200.sas7bdat\n",
    "- ['SN_KEY', 'MID', 'FQ1_MDCT_QTY', 'DY1_MDCT_QTY', 'TOT_INJC_DDCNT_EXEC_FQ', 'TOT_USE_QTY_OR_EXEC_FQ' ]"
   ]
  },
  {
   "cell_type": "code",
   "execution_count": null,
   "id": "f891cff1",
   "metadata": {},
   "outputs": [],
   "source": [
    "df_cc_t200 = pd.read_sas('./Raw/cs_cc_t200.sas7bdat', format = 'sas7bdat') # 진료(명세서)\n",
    "df_cc_t200.head() # 8972800 rows × 23 columns\n",
    "# df_cc_t200.info(memory_usage='deep') # 6.7 GB"
   ]
  },
  {
   "cell_type": "code",
   "execution_count": null,
   "id": "a032d23c",
   "metadata": {},
   "outputs": [],
   "source": [
    "df_cc_t200 = df_cc_t200[['SN_KEY', 'MID', 'CL_CD','RVD_PL_CD','M_SICK_CD', 'SUB_SICK_CD', 'RECU_FR_DD', 'RECU_TO_DD', 'FST_DD','VST_DDCNT','RECU_DDCNT', 'OPRSC_DDCNT',  'SOPR_YN', 'DGRSLT_TP_CD']]\n",
    "# df_cc_t200.info(memory_usage='deep') # 3.6\n",
    "\n",
    "# float 64 --> int 32로 변경\n",
    "df_cc_t200[['VST_DDCNT', 'RECU_DDCNT', 'OPRSC_DDCNT']] = df_cc_t200[['VST_DDCNT', 'RECU_DDCNT', 'OPRSC_DDCNT']].astype('int32')\n",
    "# df_cc_t200.info(memory_usage='deep') # 3.5 GB"
   ]
  },
  {
   "cell_type": "code",
   "execution_count": 8,
   "id": "1161c02b",
   "metadata": {},
   "outputs": [],
   "source": [
    "### csv 파일로 저장 ###\n",
    "df_cc_t200.to_csv('./Raw_csv/cs_cc_t200.csv', index = False)"
   ]
  },
  {
   "cell_type": "markdown",
   "id": "00405ee3",
   "metadata": {},
   "source": [
    "<span style=\"color:red\"> **완료**\n",
    "- 'cs_cc_t200.csv'"
   ]
  },
  {
   "cell_type": "markdown",
   "id": "f38de366",
   "metadata": {},
   "source": [
    "### 3-3. 진료 테이블(원외처방내역; T530)\n",
    "- cs_cc_t530.sas7bdat"
   ]
  },
  {
   "cell_type": "code",
   "execution_count": null,
   "id": "fa57b91a",
   "metadata": {},
   "outputs": [],
   "source": [
    "df_cc_t530 = pd.read_sas('./Raw/cs_cc_t530.sas7bdat', format = 'sas7bdat') # 진료(원외처방내역)\n",
    "df_cc_t530.head() # 11172012 rows × 11 columns\n",
    "# df_cc_t530.info(memory_usage='deep') # 3.6 GB"
   ]
  },
  {
   "cell_type": "code",
   "execution_count": 12,
   "id": "18149ae9",
   "metadata": {},
   "outputs": [],
   "source": [
    "df_cc_t530 = df_cc_t530[['SN_KEY', 'MID', 'FQ1_MDCT_QTY', 'DY1_MDCT_QTY', 'TOT_INJC_DDCNT_EXEC_FQ', 'TOT_USE_QTY_OR_EXEC_FQ' ]]"
   ]
  },
  {
   "cell_type": "code",
   "execution_count": 13,
   "id": "b1067e8f",
   "metadata": {
    "collapsed": true
   },
   "outputs": [
    {
     "name": "stdout",
     "output_type": "stream",
     "text": [
      "<class 'pandas.core.frame.DataFrame'>\n",
      "RangeIndex: 11172012 entries, 0 to 11172011\n",
      "Data columns (total 6 columns):\n",
      " #   Column                  Dtype  \n",
      "---  ------                  -----  \n",
      " 0   SN_KEY                  object \n",
      " 1   MID                     object \n",
      " 2   FQ1_MDCT_QTY            float32\n",
      " 3   DY1_MDCT_QTY            int32  \n",
      " 4   TOT_INJC_DDCNT_EXEC_FQ  int32  \n",
      " 5   TOT_USE_QTY_OR_EXEC_FQ  float32\n",
      "dtypes: float32(2), int32(2), object(2)\n",
      "memory usage: 1.2 GB\n"
     ]
    }
   ],
   "source": [
    "# float 64 --> int 32로 변경\n",
    "# 1일 투여횟수,. 총 투여일수 정수형태로 변환\n",
    "df_cc_t530[['DY1_MDCT_QTY', 'TOT_INJC_DDCNT_EXEC_FQ']] = df_cc_t530[['DY1_MDCT_QTY', 'TOT_INJC_DDCNT_EXEC_FQ']].astype('int32')\n",
    "\n",
    "# float 64 --> float 32\n",
    "df_cc_t530[['FQ1_MDCT_QTY', 'TOT_USE_QTY_OR_EXEC_FQ']] = df_cc_t530[['FQ1_MDCT_QTY', 'TOT_USE_QTY_OR_EXEC_FQ']].astype('float32')\n",
    "df_cc_t530.info(memory_usage='deep') # 1.2 GB"
   ]
  },
  {
   "cell_type": "code",
   "execution_count": 15,
   "id": "043d4356",
   "metadata": {
    "scrolled": true
   },
   "outputs": [],
   "source": [
    "### csv 파일로 저장 ###\n",
    "df_cc_t530.to_csv('./Raw_csv/cs_cc_t530.csv', index = False)"
   ]
  },
  {
   "cell_type": "markdown",
   "id": "571d2ddc",
   "metadata": {},
   "source": [
    "<span style=\"color:red\"> **완료**\n",
    "-  'cs_cc_t530'"
   ]
  },
  {
   "cell_type": "markdown",
   "id": "786c9d78",
   "metadata": {},
   "source": [
    "### 3-4. 진료 테이블(진료내역; T300)\n",
    "- cs_cc_t300.sas7bdat"
   ]
  },
  {
   "cell_type": "code",
   "execution_count": null,
   "id": "3031eaa7",
   "metadata": {},
   "outputs": [],
   "source": [
    "### 용량이 커서 csv파일로 새로 저장함 ###\n",
    "\n",
    "df_cc_t_300 = pd.read_sas('./Raw_csv/cs_cc_t300.sas7bdat', format = 'sas7bdat', chunksize = 1000000)\n",
    "for df_cc_t_300_chunk in df_cc_t_300:\n",
    "    df_cc_t_300_chunk = df_cc_t_300_chunk[['SN_KEY', 'MID', 'FQ1_MDCT_QTY', 'DY1_MDCT_QTY', 'DY1_INJC_QTY_EXEC_FQ', 'TOT_INJC_DDCNT_EXEC_FQ', 'TOT_USE_QTY_OR_EXEC_FQ']]\n",
    "    df_cc_t_300_chunk[['FQ1_MDCT_QTY', 'DY1_MDCT_QTY', 'DY1_INJC_QTY_EXEC_FQ', 'TOT_INJC_DDCNT_EXEC_FQ', 'TOT_USE_QTY_OR_EXEC_FQ']] = df_cc_t_300_chunk[['FQ1_MDCT_QTY', 'DY1_MDCT_QTY', 'DY1_INJC_QTY_EXEC_FQ', 'TOT_INJC_DDCNT_EXEC_FQ', 'TOT_USE_QTY_OR_EXEC_FQ']].astype(\"int32\")\n",
    "    display(df_cc_t_300_chunk.head(3))\n",
    "    \n",
    "    df_cc_t_300_chunk.to_csv(\"./Raw_csv/df_cc_t_300_chunk.csv\", index = False , mode = 'a')"
   ]
  },
  {
   "cell_type": "code",
   "execution_count": null,
   "id": "3d3985b4",
   "metadata": {},
   "outputs": [],
   "source": [
    "df_cc_t_300 = pd.read_csv('./Raw/df_cc_t_300_chunk.csv')\n",
    "df_cc_t_300.head() # 82366989 rows × 7 columns"
   ]
  },
  {
   "cell_type": "code",
   "execution_count": 19,
   "id": "5cedbe2d",
   "metadata": {},
   "outputs": [],
   "source": [
    "### csv 파일로 저장 ###\n",
    "df_cc_t_300.to_csv('./Raw_csv/cs_cc_t300.csv', index = False)"
   ]
  },
  {
   "cell_type": "markdown",
   "id": "f5690c0d",
   "metadata": {},
   "source": [
    "<span style=\"color:red\"> **완료**\n",
    "- df_cc_t_300_chunk.csv"
   ]
  },
  {
   "cell_type": "markdown",
   "id": "78be89ed",
   "metadata": {},
   "source": [
    "### 4. 건강검진 테이블"
   ]
  },
  {
   "cell_type": "code",
   "execution_count": 63,
   "id": "ff8eaf55",
   "metadata": {},
   "outputs": [],
   "source": [
    "df_cc_g1e_obj = pd.read_sas('./Raw/cs_cc_g1e_obj.sas7bdat', format = 'sas7bdat') # 건강검진 (대상자)\n",
    "df_cc_g1eq_1217 = pd.read_sas('./Raw/cs_cc_g1eq_1217.sas7bdat', format = 'sas7bdat') # 건강검진 (문진, 결과 및 판정)\n",
    "df_cc_gq_1821 = pd.read_sas('./Raw/cs_cc_gq_1821.sas7bdat', format = 'sas7bdat') # 건강검진 (문진)\n",
    "df_cc_g1e_1821 = pd.read_sas('./Raw/cs_cc_g1e_1821.sas7bdat', format = 'sas7bdat') # 건강검진 (결과 및 판정)"
   ]
  },
  {
   "cell_type": "code",
   "execution_count": 64,
   "id": "d0e3b15e",
   "metadata": {},
   "outputs": [],
   "source": [
    "### csv 파일로 저장 ###\n",
    "df_cc_g1e_obj.to_csv('./Raw_csv/cs_cc_g1e_obj.csv', index = False)\n",
    "df_cc_g1eq_1217.to_csv('./Raw_csv/cs_cc_g1eq_1217.csv', index = False)\n",
    "df_cc_gq_1821.to_csv('./Raw_csv/cs_cc_gq_1821.csv', index = False)\n",
    "df_cc_g1e_1821.to_csv('./Raw_csv/cs_cc_g1e_1821.csv', index = False)"
   ]
  },
  {
   "cell_type": "markdown",
   "id": "585c59c7",
   "metadata": {},
   "source": [
    "<span style=\"color:red\"> **완료**"
   ]
  },
  {
   "cell_type": "markdown",
   "id": "680d9146",
   "metadata": {},
   "source": [
    "### 5. 암 검진 테이블"
   ]
  },
  {
   "cell_type": "code",
   "execution_count": 65,
   "id": "ce1019d4",
   "metadata": {},
   "outputs": [
    {
     "name": "stderr",
     "output_type": "stream",
     "text": [
      "/usr/local/lib/python3.7/dist-packages/pandas/io/sas/sas7bdat.py:809: PerformanceWarning: DataFrame is highly fragmented.  This is usually the result of calling `frame.insert` many times, which has poor performance.  Consider joining all columns at once using pd.concat(axis=1) instead.  To get a de-fragmented frame, use `newframe = frame.copy()`\n",
      "  rslt[name] = self._string_chunk[js, :]\n"
     ]
    }
   ],
   "source": [
    "df_cc_ccr_cq_rst_1217 = pd.read_sas('./Raw/cs_cc_ccr_cq_rst_1217.sas7bdat', format = 'sas7bdat') # 암문진()\n",
    "df_cc_ccr_cq_rst_1821 = pd.read_sas('./Raw/cs_cc_ccr_cq_rst_1821.sas7bdat', format = 'sas7bdat') # 암문진 ()\n",
    "df_cc_ccr_rst_1217 = pd.read_sas('./Raw/cs_cc_ccr_rst_1217.sas7bdat', format = 'sas7bdat') # 암검진()\n",
    "df_cc_ccr_rst_1821 = pd.read_sas('./Raw/cs_cc_ccr_rst_1821.sas7bdat', format = 'sas7bdat') # 암검진()"
   ]
  },
  {
   "cell_type": "code",
   "execution_count": 70,
   "id": "da9dc1a2",
   "metadata": {},
   "outputs": [],
   "source": [
    "### csv 파일로 저장 ###\n",
    "df_cc_ccr_cq_rst_1217.to_csv('./Raw_csv/cs_cc_ccr_cq_rst_1217.csv', index = False)\n",
    "df_cc_ccr_cq_rst_1821.to_csv('./Raw_csv/cs_cc_ccr_cq_rst_1821.csv', index = False)\n",
    "df_cc_ccr_rst_1217.to_csv('./Raw_csv/cs_cc_ccr_rst_1217.csv', index = False)\n",
    "df_cc_ccr_rst_1821.to_csv('./Raw_csv/cs_cc_ccr_rst_1821.csv', index = False)"
   ]
  },
  {
   "cell_type": "markdown",
   "id": "40289776",
   "metadata": {},
   "source": [
    "<span style=\"color:red\"> **완료**"
   ]
  },
  {
   "cell_type": "markdown",
   "id": "e168be89",
   "metadata": {},
   "source": [
    "---------"
   ]
  }
 ],
 "metadata": {
  "kernelspec": {
   "display_name": "gpu(16GBx2ea)",
   "language": "python",
   "name": "bitfusion-2"
  },
  "language_info": {
   "codemirror_mode": {
    "name": "ipython",
    "version": 3
   },
   "file_extension": ".py",
   "mimetype": "text/x-python",
   "name": "python",
   "nbconvert_exporter": "python",
   "pygments_lexer": "ipython3",
   "version": "3.7.13"
  }
 },
 "nbformat": 4,
 "nbformat_minor": 5
}
