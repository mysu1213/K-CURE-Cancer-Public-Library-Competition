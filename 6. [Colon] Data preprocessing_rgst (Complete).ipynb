{
 "cells": [
  {
   "cell_type": "markdown",
   "id": "4f42914a",
   "metadata": {},
   "source": [
    "# 필수 라이브러리"
   ]
  },
  {
   "cell_type": "code",
   "execution_count": 25,
   "id": "d13af60e",
   "metadata": {},
   "outputs": [],
   "source": [
    "import sys\n",
    "sys.path.append('/project/kcure-08/lib/python3.7/site-packages')\n",
    "\n",
    "import warnings\n",
    "import os\n",
    "import pandas as pd\n",
    "import numpy as np\n",
    "from sklearn.preprocessing import LabelEncoder\n",
    "\n",
    "warnings.filterwarnings('ignore')"
   ]
  },
  {
   "cell_type": "code",
   "execution_count": 26,
   "id": "ef62dd6e",
   "metadata": {},
   "outputs": [
    {
     "name": "stdout",
     "output_type": "stream",
     "text": [
      "/project/kcure-08/src/1. Data/1. Colon\n",
      "/project/kcure-08/src/1. Data/1. Colon\n"
     ]
    }
   ],
   "source": [
    "print(os.getcwd()) # 현재 경로\n",
    "# print(os.listdir(os.getcwd())) # 현재 경로 파일\n",
    "\n",
    "os.chdir('/project/kcure-08/src/1. Data/1. Colon') # 현재 경로 변경(데이터 파일)\n",
    "print(os.getcwd())\n",
    "# print(os.listdir(os.getcwd()))"
   ]
  },
  {
   "cell_type": "code",
   "execution_count": 27,
   "id": "6b710b56",
   "metadata": {},
   "outputs": [],
   "source": [
    "pd.set_option('display.max_columns', 150)\n",
    "pd.set_option('display.max_rows', 150)"
   ]
  },
  {
   "cell_type": "markdown",
   "id": "10f581ef",
   "metadata": {},
   "source": [
    "# 1. 데이터 불러오기"
   ]
  },
  {
   "cell_type": "code",
   "execution_count": 45,
   "id": "5ace2c7a",
   "metadata": {},
   "outputs": [],
   "source": [
    "df_cc_rgst = pd.read_csv('./PP_csv/cs_cc_rgst.csv') # 21773 rows × 36 columns\n",
    "df_cs_cc_rec = pd.read_csv('./PP_csv/cs_cc_rec_2.csv', index_col = 0)\n",
    "df_cs_cc_nrec = pd.read_csv('./PP_csv/cs_cc_nrec_2.csv', index_col = 0)\n",
    "df_cc_rgst # 21773 rows × 36 columns"
   ]
  },
  {
   "cell_type": "code",
   "execution_count": null,
   "id": "72585fa8",
   "metadata": {},
   "outputs": [],
   "source": [
    "### RGST 중복 데이터 제거\n",
    "df_cs_cc_rec = df_cs_cc_rec.drop(['SEX', 'FDX'], axis = 1)\n",
    "df_cs_cc_rec"
   ]
  },
  {
   "cell_type": "code",
   "execution_count": null,
   "id": "e0b489be",
   "metadata": {},
   "outputs": [],
   "source": [
    "### RGST 중복 데이터 제거\n",
    "df_cs_cc_nrec = df_cs_cc_nrec.drop(['SEX', 'FDX'], axis = 1)\n",
    "df_cs_cc_nrec"
   ]
  },
  {
   "cell_type": "markdown",
   "id": "78d2a83d",
   "metadata": {},
   "source": [
    "---"
   ]
  },
  {
   "cell_type": "code",
   "execution_count": null,
   "id": "135e6ddf",
   "metadata": {},
   "outputs": [],
   "source": [
    "### 불필요한 변수 한번에 제거\n",
    "columns_to_drop = ['EXTEVAL', 'NODES', 'NODESEVAL', 'LNEXAM', 'METSEVAL','SSF2','SSF3' ,'SSF4', 'SSF5', 'SSF6', 'SSF7', 'SSF10', 'DREGDATE']\n",
    "\n",
    "df_cc_rgst = df_cc_rgst.drop(columns = columns_to_drop)\n",
    "df_cc_rgst"
   ]
  },
  {
   "cell_type": "code",
   "execution_count": 39,
   "id": "23b5f2e6",
   "metadata": {},
   "outputs": [],
   "source": [
    "def custom_label_encoding(df, auto_encode_cols, manual_mapping):\n",
    "    label_encoder = LabelEncoder()\n",
    "    \n",
    "    for column in auto_encode_cols:\n",
    "\n",
    "        if column in auto_encode_cols:\n",
    "            df[column] = label_encoder.fit_transform(df[column])\n",
    "            \n",
    "        elif column in manual_mapping:\n",
    "            df[column] = df[column].map(manual_mapping[column])\n",
    "    \n",
    "    return df\n",
    "\n",
    "auto_encode_cols = ['TCODE', 'MCODE_GRP', 'GRADE', 'AJCC6_T', 'AJCC6_TEVAL', 'AJCC6_N', 'AJCC6_NEVAL', 'AJCC6_M', 'AJCC6_MEVAL', 'AJCC6_STAGE', 'SS2000'] # 원발부위,조직학적진단코드, 분화도\n",
    "manual_mapping = {}"
   ]
  },
  {
   "cell_type": "code",
   "execution_count": 40,
   "id": "1a9979eb",
   "metadata": {},
   "outputs": [],
   "source": [
    "df_cc_rgst_pp = custom_label_encoding(df_cc_rgst, auto_encode_cols, manual_mapping)"
   ]
  },
  {
   "cell_type": "code",
   "execution_count": 57,
   "id": "d8a766bf",
   "metadata": {},
   "outputs": [],
   "source": [
    "# T_SIZE # 000 - 989 까지 값, 990 - 999 nan값\n",
    "t_size_col_pp = np.where(df_cc_rgst['T_SIZE'] <= 989, df_cc_rgst['T_SIZE'], np.nan)\n",
    "df_cc_rgst_pp['T_SIZE'] = t_size_col_pp"
   ]
  },
  {
   "cell_type": "code",
   "execution_count": 58,
   "id": "c08b466d",
   "metadata": {},
   "outputs": [],
   "source": [
    "# EXT # 000 - 900 까지 값, 999 nan값\n",
    "ext_col_pp = np.where(df_cc_rgst['EXT'] <= 900, df_cc_rgst['EXT'], np.nan)\n",
    "df_cc_rgst_pp['EXT'] = ext_col_pp"
   ]
  },
  {
   "cell_type": "code",
   "execution_count": 59,
   "id": "482621e6",
   "metadata": {},
   "outputs": [],
   "source": [
    "# LNPOS # 000 - 900 까지 값, 999 nan값\n",
    "lmpos_col_pp = np.where(df_cc_rgst['LNPOS'] == 0, 0,\n",
    "                        np.where((df_cc_rgst['LNPOS'] >= 1) & (df_cc_rgst['LNPOS'] <= 97), 1, np.nan))\n",
    "\n",
    "df_cc_rgst_pp['LNPOS'] = lmpos_col_pp"
   ]
  },
  {
   "cell_type": "code",
   "execution_count": 60,
   "id": "1a72cb9e",
   "metadata": {},
   "outputs": [],
   "source": [
    "# METS\n",
    "mets_col_pp = np.where(df_cc_rgst['METS'] == 0, 0,\n",
    "                        np.where((df_cc_rgst['METS'] >= 1) & (df_cc_rgst['METS'] <= 90), 1, np.nan))\n",
    "\n",
    "df_cc_rgst_pp['METS'] = mets_col_pp"
   ]
  },
  {
   "cell_type": "code",
   "execution_count": 61,
   "id": "f72e7fe0",
   "metadata": {},
   "outputs": [],
   "source": [
    "### SSF1 1: 양성 0: 음성(normal)\n",
    "ssf1_col_pp = np.where(df_cc_rgst['SSF1'] == 10, 1,\n",
    "                        np.where((df_cc_rgst['SSF1'] >= 20) & (df_cc_rgst['SSF1'] <= 30), 0, np.nan))\n",
    "\n",
    "df_cc_rgst_pp['SSF1'] = ssf1_col_pp"
   ]
  },
  {
   "cell_type": "code",
   "execution_count": 62,
   "id": "d65999a6",
   "metadata": {},
   "outputs": [],
   "source": [
    "### SSF2 코드명 정보와 불일치\n",
    "### SSF3 코드명 정보와 불일치\n",
    "### SSf6 코드명 정보와 불일치"
   ]
  },
  {
   "cell_type": "code",
   "execution_count": 63,
   "id": "96caf8e6",
   "metadata": {},
   "outputs": [],
   "source": [
    "### SSF8\n",
    "ssf8_col_pp = np.where(df_cc_rgst['SSF8'] == 0, 0,\n",
    "                       np.where(df_cc_rgst['SSF8'] == 10, 1,\n",
    "                                np.where(df_cc_rgst['SSF8'] == 20, 2,\n",
    "                                         np.where(df_cc_rgst['SSF8'] == 30, 3, np.nan))))\n",
    "\n",
    "df_cc_rgst_pp['SSF8'] = ssf8_col_pp"
   ]
  },
  {
   "cell_type": "code",
   "execution_count": 64,
   "id": "fe616aab",
   "metadata": {},
   "outputs": [],
   "source": [
    "### SSF9\n",
    "ssf9_col_pp = np.where(df_cc_rgst['SSF9'] == 10, 1, \n",
    "                       np.where((df_cc_rgst['SSF9'] >= 20) & (df_cc_rgst['SSF9'] <= 30), 0, np.nan))\n",
    "\n",
    "df_cc_rgst_pp['SSF9'] = ssf9_col_pp"
   ]
  },
  {
   "cell_type": "code",
   "execution_count": 65,
   "id": "ccdfcee6",
   "metadata": {},
   "outputs": [],
   "source": [
    "# AJCC6_T (T1:0, T2:1, T3: 2, T4: 3, TX: np.nan) \n",
    "df_cc_rgst_pp['AJCC6_T'] = np.where(df_cc_rgst_pp['AJCC6_T'] == 4, np.nan, df_cc_rgst_pp['AJCC6_T'])\n",
    "\n",
    "# AJCC6_TEVAL (c:0, p:1, yp: 2) \n",
    "\n",
    "# AJCC6_N (N1:0, N1:1, N2: 2, NX:np.nan) \n",
    "df_cc_rgst_pp['AJCC6_N'] = np.where(df_cc_rgst_pp['AJCC6_N'] == 3, np.nan, df_cc_rgst_pp['AJCC6_N'])\n",
    "\n",
    "# AJCC6_NEVAL (c:0, p:1, yp: 2) \n",
    "\n",
    "# AJCC6_M (N0:0, N1:1, MX: np.nan) \n",
    "df_cc_rgst_pp['AJCC6_M'] = np.where(df_cc_rgst_pp['AJCC6_M'] == 2, np.nan, df_cc_rgst_pp['AJCC6_M'])\n",
    "\n",
    "# AJCC6_MEVAL (c:0, p:1, yp: 2) \n",
    "\n",
    "# SS2000  (D(Distant : 0), L(Localized : 1), RE(Regional, direct extension: 2), RE+RN(Regional,extension and nodes: 3), RN(Regional, lymph nodes: 4), Is는 없없음. U:(unknown: 5) )\n",
    "df_cc_rgst_pp['SS2000'] = np.where(df_cc_rgst_pp['SS2000'] == 5, np.nan, df_cc_rgst_pp['SS2000'])\n"
   ]
  },
  {
   "cell_type": "markdown",
   "id": "7ebfd9eb",
   "metadata": {},
   "source": [
    "---"
   ]
  },
  {
   "cell_type": "code",
   "execution_count": 23,
   "id": "54333d88",
   "metadata": {
    "collapsed": true
   },
   "outputs": [
    {
     "name": "stdout",
     "output_type": "stream",
     "text": [
      "<class 'pandas.core.frame.DataFrame'>\n",
      "RangeIndex: 21773 entries, 0 to 21772\n",
      "Data columns (total 22 columns):\n",
      " #   Column       Non-Null Count  Dtype  \n",
      "---  ------       --------------  -----  \n",
      " 0   SN_KEY       21773 non-null  object \n",
      " 1   SEX          21773 non-null  int64  \n",
      " 2   FDX          21773 non-null  int64  \n",
      " 3   TCODE        21773 non-null  int64  \n",
      " 4   MCODE_GRP    21773 non-null  int64  \n",
      " 5   GRADE        21773 non-null  int64  \n",
      " 6   AGE          21773 non-null  int64  \n",
      " 7   T_SIZE       18403 non-null  float64\n",
      " 8   EXT          20495 non-null  float64\n",
      " 9   LNPOS        16131 non-null  float64\n",
      " 10  METS         21317 non-null  float64\n",
      " 11  SSF1         18726 non-null  float64\n",
      " 12  SSF8         17697 non-null  float64\n",
      " 13  SSF9         9609 non-null   float64\n",
      " 14  AJCC6_T      20495 non-null  float64\n",
      " 15  AJCC6_TEVAL  21773 non-null  int64  \n",
      " 16  AJCC6_N      20809 non-null  float64\n",
      " 17  AJCC6_NEVAL  21773 non-null  int64  \n",
      " 18  AJCC6_M      21317 non-null  float64\n",
      " 19  AJCC6_MEVAL  21773 non-null  int64  \n",
      " 20  AJCC6_STAGE  21773 non-null  int64  \n",
      " 21  SS2000       21222 non-null  float64\n",
      "dtypes: float64(11), int64(10), object(1)\n",
      "memory usage: 3.7+ MB\n"
     ]
    }
   ],
   "source": [
    "col = ['SN_KEY','SEX', 'FDX', 'TCODE', 'MCODE_GRP', 'GRADE', 'AGE',\n",
    "       'T_SIZE', 'EXT', 'LNPOS', 'METS', 'SSF1', 'SSF8', 'SSF9', 'AJCC6_T',\n",
    "       'AJCC6_TEVAL', 'AJCC6_N', 'AJCC6_NEVAL', 'AJCC6_M', 'AJCC6_MEVAL',\n",
    "       'AJCC6_STAGE', 'SS2000']\n",
    "\n",
    "df_cc_rgst_pp = df_cc_rgst_pp[col]\n",
    "df_cc_rgst_pp.info()"
   ]
  },
  {
   "cell_type": "markdown",
   "id": "852cf281",
   "metadata": {},
   "source": [
    "-----"
   ]
  },
  {
   "cell_type": "markdown",
   "id": "b330c73f",
   "metadata": {},
   "source": [
    "##### Label 1 : 재발"
   ]
  },
  {
   "cell_type": "code",
   "execution_count": null,
   "id": "be0d9f5b",
   "metadata": {},
   "outputs": [],
   "source": [
    "## 재발피험자 불러오기 ###\n",
    "cust_id = list(df_cs_cc_rec['SN_KEY'])\n",
    "df_cc_rgst_rec = df_cc_rgst_pp[df_cc_rgst_pp['SN_KEY'].isin(cust_id)]\n",
    "df_cc_rgst_rec"
   ]
  },
  {
   "cell_type": "code",
   "execution_count": null,
   "id": "3ddbd0a9",
   "metadata": {},
   "outputs": [],
   "source": [
    "df_cs_cc_rec = pd.merge(df_cs_cc_rec, df_cc_rgst_rec, how = 'inner', on =['SN_KEY'])\n",
    "df_cs_cc_rec"
   ]
  },
  {
   "cell_type": "code",
   "execution_count": 34,
   "id": "dc62a93d",
   "metadata": {},
   "outputs": [],
   "source": [
    "df_cs_cc_rec.to_csv('./PP_csv/cs_cc_rec_3.csv', index = False)"
   ]
  },
  {
   "cell_type": "markdown",
   "id": "48105c5f",
   "metadata": {},
   "source": [
    "----"
   ]
  },
  {
   "cell_type": "markdown",
   "id": "57acbd34",
   "metadata": {},
   "source": [
    "##### Label 0 : 재발 x"
   ]
  },
  {
   "cell_type": "code",
   "execution_count": null,
   "id": "e100c32b",
   "metadata": {},
   "outputs": [],
   "source": [
    "## 재발이 아닌 피험자 불러오기 ###\n",
    "cust_id = list(df_cs_cc_nrec['SN_KEY'])\n",
    "df_cc_rgst_nrec = df_cc_rgst_pp[df_cc_rgst_pp['SN_KEY'].isin(cust_id)]\n",
    "df_cc_rgst_nrec = df_cc_rgst_nrec.drop_duplicates(subset='SN_KEY')\n",
    "df_cc_rgst_nrec"
   ]
  },
  {
   "cell_type": "code",
   "execution_count": null,
   "id": "008a76ce",
   "metadata": {},
   "outputs": [],
   "source": [
    "df_cs_cc_nrec = pd.merge(df_cs_cc_nrec, df_cc_rgst_nrec, how = 'inner', on =['SN_KEY'])\n",
    "df_cs_cc_nrec"
   ]
  },
  {
   "cell_type": "code",
   "execution_count": 40,
   "id": "f3df1393",
   "metadata": {},
   "outputs": [],
   "source": [
    "df_cs_cc_nrec.to_csv('./PP_csv/cs_cc_nrec_3.csv', index = False)"
   ]
  }
 ],
 "metadata": {
  "kernelspec": {
   "display_name": "gpu(16GBx2ea)",
   "language": "python",
   "name": "bitfusion-2"
  },
  "language_info": {
   "codemirror_mode": {
    "name": "ipython",
    "version": 3
   },
   "file_extension": ".py",
   "mimetype": "text/x-python",
   "name": "python",
   "nbconvert_exporter": "python",
   "pygments_lexer": "ipython3",
   "version": "3.7.13"
  }
 },
 "nbformat": 4,
 "nbformat_minor": 5
}
