{
 "cells": [
  {
   "cell_type": "markdown",
   "id": "987e8ab7",
   "metadata": {},
   "source": [
    "# 필요 라이브러리"
   ]
  },
  {
   "cell_type": "code",
   "execution_count": 1,
   "id": "7cc993de",
   "metadata": {},
   "outputs": [],
   "source": [
    "import warnings\n",
    "import os\n",
    "import pandas as pd\n",
    "import numpy as np\n",
    "\n",
    "warnings.filterwarnings('ignore')"
   ]
  },
  {
   "cell_type": "code",
   "execution_count": 2,
   "id": "c0830df1",
   "metadata": {},
   "outputs": [
    {
     "name": "stdout",
     "output_type": "stream",
     "text": [
      "/project/kcure-08/src/2. Model/1. Colon\n",
      "/project/kcure-08/src/1. Data/1. Colon\n"
     ]
    }
   ],
   "source": [
    "print(os.getcwd()) # 현재 경로\n",
    "# print(os.listdir(os.getcwd())) # 현재 경로 파일\n",
    "\n",
    "os.chdir('/project/kcure-08/src/1. Data/1. Colon') # 현재 경로 변경(데이터 파일)\n",
    "print(os.getcwd())\n",
    "# print(os.listdir(os.getcwd()))"
   ]
  },
  {
   "cell_type": "code",
   "execution_count": 3,
   "id": "d80b2f20",
   "metadata": {},
   "outputs": [],
   "source": [
    "pd.set_option('display.max_columns', 150)"
   ]
  },
  {
   "cell_type": "markdown",
   "id": "e49e36c8",
   "metadata": {},
   "source": [
    "# 1. 데이터 불러오기"
   ]
  },
  {
   "cell_type": "code",
   "execution_count": 4,
   "id": "abb66369",
   "metadata": {},
   "outputs": [],
   "source": [
    "# df_cc_rgst = pd.read_csv('./PP_csv/cs_cc_rgst.csv') # 21773 rows × 36 columns\n",
    "df_cs_cc_rec = pd.read_csv('./PP_csv/cs_cc_rec_3.csv')\n",
    "df_cs_cc_nrec = pd.read_csv('./PP_csv/cs_cc_nrec_3.csv')\n",
    "df_cc_ccr_cq_rst = pd.read_csv('./PP_csv/cs_cc_ccr_cq_rst.csv') # 32598 rows × 70 columns"
   ]
  },
  {
   "cell_type": "markdown",
   "id": "a5b3af99",
   "metadata": {},
   "source": [
    "----"
   ]
  },
  {
   "cell_type": "code",
   "execution_count": 6,
   "id": "482d87f8",
   "metadata": {},
   "outputs": [],
   "source": [
    "#### NaN값의 형태에 따라 ##\n",
    "def create_non_nan_column(df, col1, col2, new_col_name):\n",
    "    df[new_col_name] = np.where(((df[col1].isna()) & (~df[col2].isna())), df[col2], df[col1])\n",
    "    df.drop([col1, col2], axis = 1, inplace = True)\n",
    "    return df"
   ]
  },
  {
   "cell_type": "code",
   "execution_count": 7,
   "id": "facc7004",
   "metadata": {},
   "outputs": [],
   "source": [
    "df_cc_ccr_cq_rst = create_non_nan_column(df_cc_ccr_cq_rst, 'QC_WT_LSS_x', 'QC_WT_LSS_y', 'WT_LSS') # 체중감소 여부\n",
    "df_cc_ccr_cq_rst = create_non_nan_column(df_cc_ccr_cq_rst, 'QC_WT_LSS_AMT_x', 'QC_WT_LSS_AMT_y', 'WT_LSS_AMT') # 감소체중량\n",
    "df_cc_ccr_cq_rst = create_non_nan_column(df_cc_ccr_cq_rst, 'QC_PFHX_CST_YN_x', 'QC_PFHX_CST_YN_y', 'QC_PFHX_CST_YN') # 위암 여부\n",
    "df_cc_ccr_cq_rst = create_non_nan_column(df_cc_ccr_cq_rst, 'QC_PFHX_CST_I_x', 'QC_PFHX_CST_I_y', 'QC_PFHX_CST_I') # 본인 위암 과거병력 여부\n",
    "df_cc_ccr_cq_rst = create_non_nan_column(df_cc_ccr_cq_rst, 'QC_PFHX_CBR_YN_x', 'QC_PFHX_CBR_YN_y', 'QC_PFHX_CBR_YN') # 유방암 여부\n",
    "df_cc_ccr_cq_rst = create_non_nan_column(df_cc_ccr_cq_rst, 'QC_PFHX_CBR_I_x', 'QC_PFHX_CBR_I_y', 'QC_PFHX_CBR_I') # 본인 유방암 과거병력 여부\n",
    "df_cc_ccr_cq_rst = create_non_nan_column(df_cc_ccr_cq_rst, 'QC_PFHX_CCR_YN_x', 'QC_PFHX_CCR_YN_y', 'QC_PFHX_CCR_YN') # 대장암 여부\n",
    "df_cc_ccr_cq_rst = create_non_nan_column(df_cc_ccr_cq_rst, 'QC_PFHX_CCR_I_x', 'QC_PFHX_CCR_I_y', 'QC_PFHX_CCR_I') # 본인 대장암 과거병력 여부\n",
    "df_cc_ccr_cq_rst = create_non_nan_column(df_cc_ccr_cq_rst, 'QC_PFHX_CLV_YN_x', 'QC_PFHX_CLV_YN_y', 'QC_PFHX_CLV_YN') # 간암 여부\n",
    "df_cc_ccr_cq_rst = create_non_nan_column(df_cc_ccr_cq_rst, 'QC_PFHX_CLV_I_x', 'QC_PFHX_CLV_I_y', 'QC_PFHX_CLV_I') # 본인 간암 과거병력 여부\n",
    "df_cc_ccr_cq_rst = create_non_nan_column(df_cc_ccr_cq_rst, 'QC_PFHX_CCX_YN_x', 'QC_PFHX_CCX_YN_y', 'QC_PFHX_CCX_YN') # 자궁경부암 여부\n",
    "df_cc_ccr_cq_rst = create_non_nan_column(df_cc_ccr_cq_rst, 'QC_PFHX_CCX_I_x', 'QC_PFHX_CCX_I_y', 'QC_PFHX_CCX_I') # 본인 자궁경부암 여부\n",
    "df_cc_ccr_cq_rst = create_non_nan_column(df_cc_ccr_cq_rst, 'QC_PFHX_ETC_YN_x', 'QC_PFHX_ETC_YN_y', 'QC_PFHX_ETC_YN') # 기타 여부\n",
    "df_cc_ccr_cq_rst = create_non_nan_column(df_cc_ccr_cq_rst, 'QC_PFHX_ETC_I_x', 'QC_PFHX_ETC_I_y', 'QC_PFHX_ETC_I') # 본인 과거병력 여부"
   ]
  },
  {
   "cell_type": "code",
   "execution_count": 8,
   "id": "5f15e919",
   "metadata": {},
   "outputs": [],
   "source": [
    "df_cc_ccr_cq_rst = create_non_nan_column(df_cc_ccr_cq_rst, 'QC_PHX_PU_YN_x', 'QC_PHX_PU_YN_y', 'QC_PHX_PU_YN') # 과거병력 위,십이지장 여부\n",
    "df_cc_ccr_cq_rst = create_non_nan_column(df_cc_ccr_cq_rst, 'QC_PHX_ATGS_YN_x', 'QC_PHX_ATGS_YN_y', 'QC_PHX_ATGS_YN') # 위축성 위염\n",
    "df_cc_ccr_cq_rst = create_non_nan_column(df_cc_ccr_cq_rst, 'QC_PHX_INMT_YN_x', 'QC_PHX_INMT_YN_y', 'QC_PHX_INMT_YN') # 장상파화생\n",
    "df_cc_ccr_cq_rst = create_non_nan_column(df_cc_ccr_cq_rst, 'QC_PHX_GPO_YN_x', 'QC_PHX_GPO_YN_y', 'QC_PHX_GPO_YN') # 위용종\n",
    "df_cc_ccr_cq_rst = create_non_nan_column(df_cc_ccr_cq_rst, 'QC_PHX_ST_ETC_x', 'QC_PHX_ST_ETC_y', 'QC_PHX_ST_ETC') # 기타\n",
    "df_cc_ccr_cq_rst = create_non_nan_column(df_cc_ccr_cq_rst, 'QC_PHX_CRA_YN_x', 'QC_PHX_CRA_YN_y', 'QC_PHX_CRA_YN') # 대장 항문질환\n",
    "df_cc_ccr_cq_rst = create_non_nan_column(df_cc_ccr_cq_rst, 'QC_PHX_CD_YN_x', 'QC_PHX_CD_YN_y', 'QC_PHX_CD_YN') # 크론병\n",
    "df_cc_ccr_cq_rst = create_non_nan_column(df_cc_ccr_cq_rst, 'QC_PHX_HMR_YN_x', 'QC_PHX_HMR_YN_y', 'QC_PHX_HMR_YN') # 치질\n",
    "df_cc_ccr_cq_rst = create_non_nan_column(df_cc_ccr_cq_rst, 'QC_PHX_LV_YN_x', 'QC_PHX_LV_YN_y', 'QC_PHX_LV_YN') # 간 질환\n",
    "df_cc_ccr_cq_rst = create_non_nan_column(df_cc_ccr_cq_rst, 'QC_PHX_CHB_YN_x', 'QC_PHX_CHB_YN_y', 'QC_PHX_CHB_YN') # 만성B형감염\n",
    "df_cc_ccr_cq_rst = create_non_nan_column(df_cc_ccr_cq_rst, 'QC_PHX_CHC_YN_x', 'QC_PHX_CHC_YN_y', 'QC_PHX_CHC_YN') # 만성C형감염"
   ]
  },
  {
   "cell_type": "code",
   "execution_count": 10,
   "id": "3a158312",
   "metadata": {},
   "outputs": [],
   "source": [
    "col_to_drop = ['QC_SX_YN_x', 'QC_TST_UGI_YN_x',\n",
    "       'QC_TST_GSC_YN_x', 'QC_TST_MMG_YN_x', 'QC_TST_FOBT_YN_x',\n",
    "       'QC_TST_DCBE_YN_x', 'QC_TST_CSC_YN_x', 'QC_TST_PPSM_YN_x',\n",
    "       'QC_TST_LVUS_YN_x', 'QC_SX_YN_y', 'QC_TST_UGI_YN_y', 'QC_TST_GSC_YN_y',\n",
    "       'QC_TST_MMG_YN_y', 'QC_TST_FOBT_YN_y', 'QC_TST_DCBE_YN_y',\n",
    "       'QC_TST_CSC_YN_y', 'QC_TST_PPSM_YN_y', 'QC_TST_LVUS_YN_y']\n",
    "df_cc_ccr_cq_rst = df_cc_ccr_cq_rst.drop(columns = col_to_drop)"
   ]
  },
  {
   "cell_type": "markdown",
   "id": "a95039e8",
   "metadata": {},
   "source": [
    "---"
   ]
  },
  {
   "cell_type": "markdown",
   "id": "4b4811be",
   "metadata": {},
   "source": [
    "##### Label 1: 재발"
   ]
  },
  {
   "cell_type": "code",
   "execution_count": 12,
   "id": "eca01c8a",
   "metadata": {},
   "outputs": [],
   "source": [
    "## 재발 피험자 불러오기 ###\n",
    "cust_id = list(df_cs_cc_rec['SN_KEY'])\n",
    "df_cc_ccr_cq_rst_rec = df_cc_ccr_cq_rst[df_cc_ccr_cq_rst['SN_KEY'].isin(cust_id)]"
   ]
  },
  {
   "cell_type": "code",
   "execution_count": null,
   "id": "22176f5b",
   "metadata": {},
   "outputs": [],
   "source": [
    "tmp = pd.merge(df_cs_cc_rec, df_cc_ccr_cq_rst_rec, how = 'inner', on = ['SN_KEY', 'EXMD_BZ_YYYY'])\n",
    "tmp # 재발시점과 가장 가까운 시점을 기반으로 피험자별 하나의 데이터를 불러올 예정 "
   ]
  },
  {
   "cell_type": "code",
   "execution_count": null,
   "id": "678efde6",
   "metadata": {},
   "outputs": [],
   "source": [
    "tmp['COL_TIME_REC_NEAR'] = (tmp['TIME_OF_REC_START'].str.slice(0, 4)).astype('int32') # 근접날짜\n",
    "tmp"
   ]
  },
  {
   "cell_type": "code",
   "execution_count": null,
   "id": "f0d8b048",
   "metadata": {},
   "outputs": [],
   "source": [
    "tmp['COL_TIME_REC_NEAR_RESULT'] = abs(tmp['COL_TIME_REC_NEAR'] - tmp['EXMD_BZ_YYYY'])\n",
    "tmp"
   ]
  },
  {
   "cell_type": "code",
   "execution_count": null,
   "id": "1d2dc9ce",
   "metadata": {},
   "outputs": [],
   "source": [
    "tmp_result = tmp[tmp.groupby('SN_KEY')['COL_TIME_REC_NEAR_RESULT'].transform(min) == tmp['COL_TIME_REC_NEAR_RESULT']]\n",
    "tmp_result"
   ]
  },
  {
   "cell_type": "code",
   "execution_count": null,
   "id": "3dd55a3d",
   "metadata": {},
   "outputs": [],
   "source": [
    "tmp_result = tmp_result.drop_duplicates(subset='SN_KEY')\n",
    "tmp_result"
   ]
  },
  {
   "cell_type": "code",
   "execution_count": null,
   "id": "9d6d646b",
   "metadata": {},
   "outputs": [],
   "source": [
    "df_cs_cc_rec = pd.merge(df_cs_cc_rec, tmp_result, how = 'outer', on = ['SN_KEY', 'LABEL', 'RES', 'SOPR_Y_CNT', 'TIME_OF_NREC_END',\n",
    "       'TIME_OF_REC_START', 'TIME_OF_REC', 'FDX', 'SEX', 'EXMD_BZ_YYYY',\n",
    "       'HGHT', 'WGHT', 'BMI', 'WSTC', 'BP_SYS', 'BP_DIA', 'URN_PROT', 'HGB',\n",
    "       'FBS', 'SGOT', 'SGPT', 'GGT', 'TG', 'HDL', 'LDL', 'TOT_CHOL', 'CRTN',\n",
    "       'GFR', 'Q_FHX_ETC', 'Q_PHX_YN', 'Q_PHX_DX_STK', 'Q_PHX_DX_HTDZ',\n",
    "       'Q_PHX_DX_HTN', 'Q_PHX_DX_DM', 'Q_PHX_DX_PTB', 'Q_PHX_DX_DLD',\n",
    "       'Q_PHX_DX_ETC', 'Q_PHX_TX_STK', 'Q_PHX_TX_HTDZ', 'Q_PHX_TX_HTN',\n",
    "       'Q_PHX_TX_DM', 'Q_PHX_TX_DLD', 'Q_PHX_TX_ETC', 'Q_SMK_YN',\n",
    "       'Q_DAILY_DRK', 'Q_DRK_RISK', 'Q_PA_WGT_AVG', 'TCODE', 'MCODE_GRP',\n",
    "       'GRADE', 'AGE', 'T_SIZE', 'EXT', 'LNPOS', 'METS', 'SSF1', 'SSF8',\n",
    "       'SSF9', 'AJCC6_T', 'AJCC6_TEVAL', 'AJCC6_N', 'AJCC6_NEVAL', 'AJCC6_M',\n",
    "       'AJCC6_MEVAL', 'AJCC6_STAGE', 'SS2000'])\n",
    "\n",
    "df_cs_cc_rec"
   ]
  },
  {
   "cell_type": "code",
   "execution_count": null,
   "id": "0886b2d8",
   "metadata": {},
   "outputs": [],
   "source": [
    "df_cs_cc_rec = df_cs_cc_rec.drop(['COL_TIME_REC_NEAR', 'COL_TIME_REC_NEAR_RESULT'], axis = 'columns')\n",
    "df_cs_cc_rec"
   ]
  },
  {
   "cell_type": "code",
   "execution_count": 21,
   "id": "22000d11",
   "metadata": {},
   "outputs": [],
   "source": [
    "df_cs_cc_rec = df_cs_cc_rec.drop('EXMD_BZ_YYYY', axis=1)"
   ]
  },
  {
   "cell_type": "code",
   "execution_count": 22,
   "id": "82529698",
   "metadata": {},
   "outputs": [],
   "source": [
    "df_cs_cc_rec.to_csv('./PP_csv/cs_cc_rec_fin.csv', index=False)"
   ]
  },
  {
   "cell_type": "markdown",
   "id": "e8bfce43",
   "metadata": {},
   "source": [
    "-----"
   ]
  },
  {
   "cell_type": "markdown",
   "id": "f1f72fe9",
   "metadata": {},
   "source": [
    "##### Label 0 : 재발 없는 피험자\n",
    "- 초진 : 그 이유는 과거내용 누적되기 때문에 초기 암진단이 가장 유의미해보임"
   ]
  },
  {
   "cell_type": "code",
   "execution_count": null,
   "id": "c23ec4f8",
   "metadata": {},
   "outputs": [],
   "source": [
    "cust_id = list(df_cs_cc_nrec['SN_KEY'])\n",
    "df_cc_ccr_cq_rst_nrec = df_cc_ccr_cq_rst[df_cc_ccr_cq_rst['SN_KEY'].isin(cust_id)]\n",
    "df_cc_ccr_cq_rst_nrec"
   ]
  },
  {
   "cell_type": "code",
   "execution_count": null,
   "id": "1be3d9e6",
   "metadata": {},
   "outputs": [],
   "source": [
    "df_cc_ccr_cq_rst_nrec = df_cc_ccr_cq_rst_nrec.drop_duplicates(subset='SN_KEY')\n",
    "df_cc_ccr_cq_rst_nrec"
   ]
  },
  {
   "cell_type": "code",
   "execution_count": null,
   "id": "9e197fe9",
   "metadata": {},
   "outputs": [],
   "source": [
    "df_cs_cc_nrec = df_cs_cc_nrec.drop(['EXMD_BZ_YYYY'], axis = 1)\n",
    "df_cc_ccr_cq_rst_nrec = df_cc_ccr_cq_rst_nrec.drop(['EXMD_BZ_YYYY'], axis = 1)\n",
    "df_cc_ccr_cq_rst_nrec"
   ]
  },
  {
   "cell_type": "code",
   "execution_count": null,
   "id": "913a0c69",
   "metadata": {},
   "outputs": [],
   "source": [
    "df_cs_cc_nrec = pd.merge(df_cs_cc_nrec, df_cc_ccr_cq_rst_nrec, how = 'outer', on =['SN_KEY'])\n",
    "df_cs_cc_nrec"
   ]
  },
  {
   "cell_type": "code",
   "execution_count": 27,
   "id": "376ddc70",
   "metadata": {},
   "outputs": [],
   "source": [
    "df_cs_cc_nrec.to_csv('./PP_csv/cs_cc_nrec_fin.csv', index = False)"
   ]
  },
  {
   "cell_type": "markdown",
   "id": "968e48af",
   "metadata": {},
   "source": [
    "------"
   ]
  }
 ],
 "metadata": {
  "kernelspec": {
   "display_name": "gpu(16GBx2ea)",
   "language": "python",
   "name": "bitfusion-2"
  },
  "language_info": {
   "codemirror_mode": {
    "name": "ipython",
    "version": 3
   },
   "file_extension": ".py",
   "mimetype": "text/x-python",
   "name": "python",
   "nbconvert_exporter": "python",
   "pygments_lexer": "ipython3",
   "version": "3.7.13"
  }
 },
 "nbformat": 4,
 "nbformat_minor": 5
}
