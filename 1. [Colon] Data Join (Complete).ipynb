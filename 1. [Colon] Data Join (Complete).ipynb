{
 "cells": [
  {
   "cell_type": "markdown",
   "id": "b4fc51cb",
   "metadata": {},
   "source": [
    "<span style=\"color:red\"> **목표1: 재발 유무에 따라 데이터 합치기**\n",
    "    \n",
    "[작업순서]\n",
    "- 테이블별 필요변수 추출 (자격 및 보험료, 진료테이블(T300, T530), 암검진 제외\n",
    "- 재발시기 DAY 값 추출(T200-RECU_TO_DD에서 U99시점의 RECU_FR_DD)\n",
    "- 재발 유무에 따라 데이터 merge하기"
   ]
  },
  {
   "cell_type": "markdown",
   "id": "f572d8b4",
   "metadata": {},
   "source": [
    "# 필요 라이브러리"
   ]
  },
  {
   "cell_type": "code",
   "execution_count": 1,
   "id": "ebb64f60",
   "metadata": {},
   "outputs": [],
   "source": [
    "import os\n",
    "import pandas as pd"
   ]
  },
  {
   "cell_type": "markdown",
   "id": "31e451c0",
   "metadata": {},
   "source": [
    "----"
   ]
  },
  {
   "cell_type": "markdown",
   "id": "45b87787",
   "metadata": {},
   "source": [
    "# 1. 경로설정\n",
    "- 현재 경로 파악하기 위함\n",
    "- 데이터를 바로 불러올 수 있는 경로 설정 완료"
   ]
  },
  {
   "cell_type": "code",
   "execution_count": 2,
   "id": "8edc7a1c",
   "metadata": {},
   "outputs": [
    {
     "name": "stdout",
     "output_type": "stream",
     "text": [
      "/project/kcure-08/src/2. Model/1. Colon\n",
      "/project/kcure-08/src/1. Data/1. Colon\n"
     ]
    }
   ],
   "source": [
    "print(os.getcwd()) # 현재 경로\n",
    "# print(os.listdir(os.getcwd())) # 현재 경로 파일\n",
    "\n",
    "os.chdir('/project/kcure-08/src/1. Data/1. Colon') # 현재 경로 변경(데이터 파일)\n",
    "print(os.getcwd())\n",
    "# print(os.listdir(os.getcwd()))"
   ]
  },
  {
   "cell_type": "markdown",
   "id": "3a05e456",
   "metadata": {},
   "source": [
    "----"
   ]
  },
  {
   "cell_type": "markdown",
   "id": "1e09ee08",
   "metadata": {},
   "source": [
    "# 2. 데이터 불러오기"
   ]
  },
  {
   "cell_type": "code",
   "execution_count": 3,
   "id": "94547a98",
   "metadata": {},
   "outputs": [
    {
     "name": "stderr",
     "output_type": "stream",
     "text": [
      "/usr/local/lib/python3.7/dist-packages/IPython/core/interactiveshell.py:3553: DtypeWarning: Columns (5,8) have mixed types.Specify dtype option on import or set low_memory=False.\n",
      "  exec(code_obj, self.user_global_ns, self.user_ns)\n",
      "/usr/local/lib/python3.7/dist-packages/IPython/core/interactiveshell.py:3553: DtypeWarning: Columns (2,3,4,5,6) have mixed types.Specify dtype option on import or set low_memory=False.\n",
      "  exec(code_obj, self.user_global_ns, self.user_ns)\n",
      "/usr/local/lib/python3.7/dist-packages/IPython/core/interactiveshell.py:3553: DtypeWarning: Columns (2) have mixed types.Specify dtype option on import or set low_memory=False.\n",
      "  exec(code_obj, self.user_global_ns, self.user_ns)\n",
      "/usr/local/lib/python3.7/dist-packages/IPython/core/interactiveshell.py:3553: DtypeWarning: Columns (12,13,14,15,16,30,31,32,33,34) have mixed types.Specify dtype option on import or set low_memory=False.\n",
      "  exec(code_obj, self.user_global_ns, self.user_ns)\n",
      "/usr/local/lib/python3.7/dist-packages/IPython/core/interactiveshell.py:3553: DtypeWarning: Columns (36) have mixed types.Specify dtype option on import or set low_memory=False.\n",
      "  exec(code_obj, self.user_global_ns, self.user_ns)\n",
      "/usr/local/lib/python3.7/dist-packages/IPython/core/interactiveshell.py:3553: DtypeWarning: Columns (14,25) have mixed types.Specify dtype option on import or set low_memory=False.\n",
      "  exec(code_obj, self.user_global_ns, self.user_ns)\n"
     ]
    }
   ],
   "source": [
    "df_cc_rgst = pd.read_csv('./Raw_csv/cs_cc_rgst.csv') # 병기조사 및 사망원인\n",
    "df_cc_bfc = pd.read_csv('./Raw_csv/cs_cc_bfc.csv') # 자격 및 보험료\n",
    "df_cc_t200 = pd.read_csv('./Raw_csv/cs_cc_t200.csv') # 진료(명세서)\n",
    "df_cc_t300 = pd.read_csv('./Raw_csv/cs_cc_t300.csv') # 진료(진료내역)\n",
    "df_cc_t400 = pd.read_csv('./Raw_csv/cs_cc_t400.csv') # 진료(상병내역)\n",
    "df_cc_t530 = pd.read_csv('./Raw_csv/cs_cc_t530.csv',) # 진료(원외처방내역)\n",
    "df_cc_g1e_obj = pd.read_csv('./Raw_csv/cs_cc_g1e_obj.csv') # 건강검진 (대상자)\n",
    "df_cc_g1eq_1217 = pd.read_csv('./Raw_csv/cs_cc_g1eq_1217.csv') # 건강검진 (문진, 결과 및 판정)\n",
    "df_cc_gq_1821 = pd.read_csv('./Raw_csv/cs_cc_gq_1821.csv') # 건강검진 (문진)\n",
    "df_cc_g1e_1821 = pd.read_csv('./Raw_csv/cs_cc_g1e_1821.csv') # 건강검진 (결과 및 판정)\n",
    "df_cc_ccr_cq_rst_1217 = pd.read_csv('./Raw_csv/cs_cc_ccr_cq_rst_1217.csv') # 암문진()\n",
    "df_cc_ccr_cq_rst_1821 = pd.read_csv('./Raw_csv/cs_cc_ccr_cq_rst_1821.csv') # 암문진 ()\n",
    "df_cc_ccr_rst_1217 = pd.read_csv('./Raw_csv/cs_cc_ccr_rst_1217.csv') # 암검진()\n",
    "df_cc_ccr_rst_1821 = pd.read_csv('./Raw_csv/cs_cc_ccr_rst_1821.csv') # 암검진()"
   ]
  },
  {
   "cell_type": "markdown",
   "id": "75baaa17",
   "metadata": {},
   "source": [
    "----"
   ]
  },
  {
   "cell_type": "markdown",
   "id": "43b1ac22",
   "metadata": {},
   "source": [
    "# 3. 데이터 전처리"
   ]
  },
  {
   "cell_type": "code",
   "execution_count": 20,
   "id": "50295bde",
   "metadata": {},
   "outputs": [],
   "source": [
    "### object형 데이터 한번에 처리\n",
    "def process_column(value):\n",
    "    value = value[1:]\n",
    "    value = value.replace(\"'\", \"\", 2)\n",
    "    return value"
   ]
  },
  {
   "cell_type": "code",
   "execution_count": 31,
   "id": "36723f25",
   "metadata": {},
   "outputs": [],
   "source": [
    "### object형 데이터 한번에 처리\n",
    "def process_column(value):\n",
    "    if isinstance(value, str):\n",
    "        value = value[1:]\n",
    "        value = value.replace(\"'\", \"\", 2)\n",
    "    return value"
   ]
  },
  {
   "cell_type": "markdown",
   "id": "d7eddd8c",
   "metadata": {},
   "source": [
    "### 1. 병기조사 및 사망원인 테이블 (;rgst)"
   ]
  },
  {
   "cell_type": "markdown",
   "id": "ae307c6d",
   "metadata": {},
   "source": [
    "- Histo-patholgy report : grade(분화도), "
   ]
  },
  {
   "cell_type": "code",
   "execution_count": 28,
   "id": "49774be8",
   "metadata": {},
   "outputs": [],
   "source": [
    "df_cc_rgst = df_cc_rgst.sort_values(by = 'SN_KEY', ascending = True)\n",
    "\n",
    "# 불필요한 변수 제거 #\n",
    "df_cc_rgst = df_cc_rgst.drop(columns=['AJCC7_T', 'AJCC7_TEVAL', 'AJCC7_N', 'AJCC7_NEVAL', 'AJCC7_M', 'AJCC7_MEVAL', 'AJCC7_STAGE', 'SAIN1', 'SAIN2'])"
   ]
  },
  {
   "cell_type": "code",
   "execution_count": 32,
   "id": "270491d2",
   "metadata": {},
   "outputs": [],
   "source": [
    "o_col = df_cc_rgst.select_dtypes(include='object').columns\n",
    "df_cc_rgst[o_col] = df_cc_rgst[o_col].applymap(process_column) # 'b', '' 제거"
   ]
  },
  {
   "cell_type": "code",
   "execution_count": 63,
   "id": "dc724129",
   "metadata": {},
   "outputs": [],
   "source": [
    "### csv 파일 저장 ###\n",
    "df_cc_rgst.to_csv('./PP_csv/cs_cc_rgst.csv', index = False) "
   ]
  },
  {
   "cell_type": "markdown",
   "id": "7042221c",
   "metadata": {},
   "source": [
    "------"
   ]
  },
  {
   "cell_type": "markdown",
   "id": "88c5fbb8",
   "metadata": {},
   "source": [
    "### 2-1. 진료 테이블(명세서 일반내역; T200)\n",
    "- Col = ['SN_KEY', 'MID', 'M_SICK_CD', 'SUB_SICK_CD', 'CL_CD','RVD_PL_CD','RECU_FR_DD','RECU_TO_DD','SOPR_YN','DGRSLT_TP_CD']"
   ]
  },
  {
   "cell_type": "code",
   "execution_count": 34,
   "id": "5c6c1b16",
   "metadata": {},
   "outputs": [],
   "source": [
    "df_cc_t200 = df_cc_t200.sort_values(by = 'SN_KEY', ascending = True)\n",
    "\n",
    "### 불필요한 변수 제거 ###\n",
    "df_cc_t200 = df_cc_t200[['SN_KEY', 'MID', 'M_SICK_CD', 'SUB_SICK_CD', 'CL_CD','RVD_PL_CD','RECU_FR_DD','RECU_TO_DD','SOPR_YN','DGRSLT_TP_CD']]"
   ]
  },
  {
   "cell_type": "code",
   "execution_count": 35,
   "id": "f308097e",
   "metadata": {},
   "outputs": [],
   "source": [
    "o_col = df_cc_t200.select_dtypes(include='object').columns\n",
    "df_cc_t200[o_col] = df_cc_t200[o_col].applymap(process_column) # 'b', '' 제거"
   ]
  },
  {
   "cell_type": "code",
   "execution_count": null,
   "id": "fbe3506c",
   "metadata": {},
   "outputs": [],
   "source": [
    "# datetime으로 변환\n",
    "df_cc_t200['RECU_FR_DD'] = pd.to_datetime(df_cc_t200['RECU_FR_DD'])\n",
    "df_cc_t200['RECU_TO_DD'] =  pd.to_datetime(df_cc_t200['RECU_TO_DD'])"
   ]
  },
  {
   "cell_type": "code",
   "execution_count": 56,
   "id": "d6d1e686",
   "metadata": {},
   "outputs": [],
   "source": [
    "### csv 파일 저장 ###\n",
    "df_cc_t200.to_csv('./PP_csv/cs_cc_t200.csv', index = False)"
   ]
  },
  {
   "cell_type": "markdown",
   "id": "1b8c21a8",
   "metadata": {},
   "source": [
    "-----"
   ]
  },
  {
   "cell_type": "markdown",
   "id": "de327e01",
   "metadata": {},
   "source": [
    "### 2-2. 진료 테이블(상병내역; T400)\n",
    "- Col = [SN_KEY, MID,\tSICK_CD_NEW, SICK_TY_CD]"
   ]
  },
  {
   "cell_type": "code",
   "execution_count": 47,
   "id": "500def78",
   "metadata": {},
   "outputs": [],
   "source": [
    "df_cc_t400 = df_cc_t400.sort_values(by = 'SN_KEY', ascending = True)"
   ]
  },
  {
   "cell_type": "code",
   "execution_count": 52,
   "id": "48e13960",
   "metadata": {},
   "outputs": [],
   "source": [
    "df_cc_t400['SICK_TY_CD'] = df_cc_t400['SICK_TY_CD'].str[1:]\n",
    "df_cc_t400['SICK_TY_CD'] = df_cc_t400['SICK_TY_CD'].str.replace(\"'\", \"\", 2)"
   ]
  },
  {
   "cell_type": "code",
   "execution_count": null,
   "id": "6466e2ad",
   "metadata": {},
   "outputs": [],
   "source": [
    "o_col = df_cc_t400.select_dtypes(include='object').columns\n",
    "df_cc_t400[o_col] = df_cc_t400[o_col].applymap(process_column) # 'b', '' 제거"
   ]
  },
  {
   "cell_type": "code",
   "execution_count": 54,
   "id": "a0747a07",
   "metadata": {},
   "outputs": [],
   "source": [
    "### csv 파일 저장 ###\n",
    "df_cc_t400.to_csv('./PP_csv/cs_cc_t400.csv', index = False)"
   ]
  },
  {
   "cell_type": "markdown",
   "id": "2f8490ef",
   "metadata": {},
   "source": [
    "----"
   ]
  },
  {
   "cell_type": "markdown",
   "id": "53ecf836",
   "metadata": {},
   "source": [
    "### 3. 건강검진 테이블"
   ]
  },
  {
   "cell_type": "code",
   "execution_count": 3,
   "id": "a9db7888",
   "metadata": {},
   "outputs": [],
   "source": [
    "df_cc_g1e_obj = pd.read_csv('./Raw_csv/cs_cc_g1e_obj.csv') # 건강검진 (대상자)\n",
    "df_cc_g1eq_1217 = pd.read_csv('./Raw_csv/cs_cc_g1eq_1217.csv') # 2012 - 2017 건강검진 (문진, 결과 및 판정)\n",
    "df_cc_gq_1821 = pd.read_csv('./Raw_csv/cs_cc_gq_1821.csv') # 2018 - 2021 건강검진 (문진)\n",
    "df_cc_g1e_1821 = pd.read_csv('./Raw_csv/cs_cc_g1e_1821.csv') # 2018 - 2021 건강검진 (결과 및 판정)"
   ]
  },
  {
   "cell_type": "code",
   "execution_count": 14,
   "id": "75dbd377",
   "metadata": {},
   "outputs": [],
   "source": [
    "### 오름차순 정렬 ###\n",
    "df_cc_g1e_obj = df_cc_g1e_obj.sort_values(by = ['SN_KEY','EXMD_BZ_YYYY'], ascending = True) # 건강검진 (대상자)\n",
    "df_cc_g1eq_1217 = df_cc_g1eq_1217.sort_values(by = ['SN_KEY','EXMD_BZ_YYYY'], ascending = True) # 건강검진 (문진, 결과 및 판정)\n",
    "df_cc_gq_1821 = df_cc_gq_1821.sort_values(by = ['SN_KEY','EXMD_BZ_YYYY'], ascending = True) # 건강검진 (문진)\n",
    "df_cc_g1e_1821 = df_cc_g1e_1821.sort_values(by = ['SN_KEY','EXMD_BZ_YYYY'], ascending = True) # 건강검진 (결과 및 판정)"
   ]
  },
  {
   "cell_type": "code",
   "execution_count": 15,
   "id": "cbb8a12b",
   "metadata": {},
   "outputs": [],
   "source": [
    "### 불필요한 변수 제거 ###\n",
    "df_cc_g1eq_1217 = df_cc_g1eq_1217.drop(columns=['Q_FHX_HTN', 'Q_FHX_STK', 'Q_FHX_HTDZ', 'Q_FHX_DM'])\n",
    "df_cc_gq_1821 = df_cc_gq_1821.drop(columns=['Q_FHX_HTN', 'Q_FHX_STK', 'Q_FHX_HTDZ', 'Q_FHX_DM'])"
   ]
  },
  {
   "cell_type": "code",
   "execution_count": null,
   "id": "2481ee21",
   "metadata": {},
   "outputs": [],
   "source": [
    "o_col = df_cc_g1eq_1217.select_dtypes(include='object').columns\n",
    "df_cc_g1eq_1217[o_col] = df_cc_g1eq_1217[o_col].applymap(process_column) # 'b', '' 제거"
   ]
  },
  {
   "cell_type": "code",
   "execution_count": null,
   "id": "971ec429",
   "metadata": {},
   "outputs": [],
   "source": [
    "o_col = df_cc_gq_1821.select_dtypes(include='object').columns\n",
    "df_cc_gq_1821[o_col] = df_cc_gq_1821[o_col].applymap(process_column) # 'b', '' 제거"
   ]
  },
  {
   "cell_type": "code",
   "execution_count": 17,
   "id": "f9588faa",
   "metadata": {},
   "outputs": [],
   "source": [
    "### 건강검진 데이터 합치기 전 변수명 변경 ###\n",
    "\n",
    "df_cc_g1eq_1217.columns = (['SN_KEY', 'EXMD_BZ_YYYY', 'G1E_HGHT_1217', 'G1E_WGHT_1217', 'G1E_BMI_1217', 'G1E_WSTC_1217',\n",
    "       'G1E_BP_SYS_1217', 'G1E_BP_DIA_1217', 'G1E_URN_PROT_1217', 'G1E_HGB_1217', 'G1E_FBS_1217',\n",
    "       'G1E_TOT_CHOL_1217', 'G1E_SGOT_1217', 'G1E_SGPT_1217', 'G1E_GGT_1217', 'G1E_TG_1217', 'G1E_HDL_1217',\n",
    "       'G1E_LDL_1217', 'G1E_CRTN_1217', 'G1E_GFR_1217', 'Q_FHX_ETC_1217', 'G1E_PHX_YN_1217', 'Q_PHX_DX_STK_1217',\n",
    "       'Q_PHX_DX_HTDZ_1217', 'Q_PHX_DX_HTN_1217', 'Q_PHX_DX_DM_1217', 'Q_PHX_DX_PTB_1217',\n",
    "       'Q_PHX_DX_DLD_1217', 'Q_PHX_DX_ETC_1217', 'Q_PHX_TX_STK_1217', 'Q_PHX_TX_HTDZ_1217',\n",
    "       'Q_PHX_TX_HTN_1217', 'Q_PHX_TX_DM_1217', 'Q_PHX_TX_DLD_1217', 'Q_PHX_TX_ETC_1217',\n",
    "       'Q_SMK_YN_1217', 'Q_DRK_FRQ_V09N_1217', 'Q_DRK_AMT_V09N_1217', 'Q_PA_VD_1217', 'Q_PA_MD_1217',\n",
    "       'Q_PA_WALK_1217'])\n",
    "\n",
    "\n",
    "df_cc_gq_1821.columns = (['SN_KEY', 'EXMD_BZ_YYYY', 'Q_PHX_DX_STK_1821', 'Q_PHX_DX_HTDZ_1821',\n",
    "       'Q_PHX_DX_HTN_1821', 'Q_PHX_DX_DM_1821', 'Q_PHX_DX_DLD_1821', 'Q_PHX_DX_PTB_1821',\n",
    "       'Q_PHX_DX_ETC_1821', 'Q_PHX_TX_STK_1821', 'Q_PHX_TX_HTDZ_1821', 'Q_PHX_TX_HTN_1821',\n",
    "       'Q_PHX_TX_DM_1821', 'Q_PHX_TX_DLD_1821', 'Q_PHX_TX_PTB_1821', 'Q_PHX_TX_ETC_1821',\n",
    "       'Q_FHX_ETC_1821', 'Q_HBV_AG_1821', 'Q_DRK_PER_1821', 'Q_DRK_FRQ_1821', 'Q_DRK_SOJU_SHOT_1821',\n",
    "       'Q_DRK_SOJU_BTL_1821', 'Q_DRK_SOJU_CAN_1821', 'Q_DRK_SOJU_CC_1821', 'Q_DRK_BEER_SHOT_1821',\n",
    "       'Q_DRK_BEER_BTL_1821', 'Q_DRK_BEER_CAN_1821', 'Q_DRK_BEER_CC_1821', 'Q_DRK_LQR_SHOT_1821',\n",
    "       'Q_DRK_LQR_BTL_1821', 'Q_DRK_LQR_CAN_1821', 'Q_DRK_LQR_CC_1821', 'Q_DRK_KLQR_SHOT_1821',\n",
    "       'Q_DRK_KLQR_BTL_1821', 'Q_DRK_KLQR_CAN_1821', 'Q_DRK_KLQR_CC_1821', 'Q_DRK_WINE_SHOT_1821',\n",
    "       'Q_DRK_WINE_BTL_1821', 'Q_DRK_WINE_CAN_1821', 'Q_DRK_WINE_CC_1821',\n",
    "       'Q_DRK_MAX_SOJU_SHOT_1821', 'Q_DRK_MAX_SOJU_BTL_1821', 'Q_DRK_MAX_SOJU_CAN_1821',\n",
    "       'Q_DRK_MAX_SOJU_CC_1821', 'Q_DRK_MAX_BEER_SHOT_1821', 'Q_DRK_MAX_BEER_BTL_1821',\n",
    "       'Q_DRK_MAX_BEER_CAN_1821', 'Q_DRK_MAX_BEER_CC_1821', 'Q_DRK_MAX_LQR_SHOT_1821',\n",
    "       'Q_DRK_MAX_LQR_BTL_1821', 'Q_DRK_MAX_LQR_CAN_1821', 'Q_DRK_MAX_LQR_CC_1821',\n",
    "       'Q_DRK_MAX_KLQR_SHOT_1821', 'Q_DRK_MAX_KLQR_BTL_1821', 'Q_DRK_MAX_KLQR_CAN_1821',\n",
    "       'Q_DRK_MAX_KLQR_CC_1821', 'Q_DRK_MAX_WINE_SHOT_1821', 'Q_DRK_MAX_WINE_BTL_1821',\n",
    "       'Q_DRK_MAX_WINE_CAN_1821', 'Q_DRK_MAX_WINE_CC_1821', 'Q_SMK_YN_1821', 'Q_SMK_DRT_1821',\n",
    "       'Q_SMK_NOW_YN_1821', 'Q_SMK_PRE_DRT_1821', 'Q_SMK_PRE_AMT_1821', 'Q_SMK_AMT_1821',\n",
    "       'Q_SMK_NOW_DRT_1821', 'Q_SMK_NOW_AMT_V09N_1821', 'Q_SMK_STP_DRT_1821', 'Q_HNBT_YN_1821',\n",
    "       'Q_HNBT_NOW_YN_1821', 'Q_HNBT_DRT_1821', 'Q_HNBT_AMT_1821', 'Q_HNBT_STP_DRT_1821',\n",
    "       'Q_E_CIGA_YN_1821', 'Q_E_CIGA_AMT_1821', 'Q_PA_VD_FRQ_1821', 'Q_PA_VD_HRS_1821',\n",
    "       'Q_PA_VD_MINS_1821', 'Q_PA_MD_FRQ_1821', 'Q_PA_MD_HRS_1821', 'Q_PA_MD_MINS_1821',\n",
    "       'Q_PA_MUSL_FRQ_1821'])\n",
    "\n",
    "df_cc_g1e_1821.columns = (['SN_KEY', 'EXMD_BZ_YYYY', 'G1E_HGHT_1821', 'G1E_WGHT_1821', 'G1E_BMI_1821', 'G1E_WSTC_1821',\n",
    "       'G1E_BP_SYS_1821', 'G1E_BP_DIA_1821', 'G1E_URN_PROT_1821', 'G1E_HGB_1821', 'G1E_FBS_1821',\n",
    "       'G1E_TOT_CHOL_1821', 'G1E_TG_1821', 'G1E_HDL_1821', 'G1E_LDL_1821', 'G1E_CRTN_1821', 'G1E_SGOT_1821',\n",
    "       'G1E_SGPT_1821', 'G1E_GGT_1821', 'G1E_GFR_1821', 'G1E_PHX_YN_1821', 'G1E_PHX_DRUG_YN_1821'])"
   ]
  },
  {
   "cell_type": "code",
   "execution_count": null,
   "id": "59c3c225",
   "metadata": {},
   "outputs": [],
   "source": [
    "df_cc_g1e_obj.drop_duplicates('SN_KEY')\n",
    "df_cc_g1eq_1217.drop_duplicates('SN_KEY')\n",
    "df_cc_gq_1821.drop_duplicates('SN_KEY')"
   ]
  },
  {
   "cell_type": "code",
   "execution_count": 26,
   "id": "1676b43c",
   "metadata": {},
   "outputs": [],
   "source": [
    "### 합치기 ###\n",
    "df_cc_g1e_1821_tmp = pd.merge(df_cc_gq_1821, df_cc_g1e_1821, how = 'inner', on = ['SN_KEY', 'EXMD_BZ_YYYY'])\n",
    "df_cc_g1e_1821 = pd.merge(df_cc_g1e_obj, df_cc_g1e_1821_tmp, how = 'inner', on = ['SN_KEY', 'EXMD_BZ_YYYY']) # 일반건강검진(2018-2021)\n",
    "df_cc_g1e_1217 = pd.merge(df_cc_g1e_obj, df_cc_g1eq_1217, how = 'inner', on = ['SN_KEY', 'EXMD_BZ_YYYY']) # 일반건강검진(2012-2017)\n",
    "df_cc_g1e = pd.merge(df_cc_g1e_1217, df_cc_g1e_1821, how = 'outer', on = ['SN_KEY', 'EXMD_BZ_YYYY']) # 일반건강검진(2012-2017)"
   ]
  },
  {
   "cell_type": "code",
   "execution_count": null,
   "id": "f79dde1f",
   "metadata": {},
   "outputs": [],
   "source": [
    "df_cc_g1e_1821_tmp = pd.merge(df_cc_gq_1821, df_cc_g1e_1821, how = 'inner', on = ['SN_KEY', 'EXMD_BZ_YYYY'])\n",
    "df_cc_g1e_1821_tmp.drop_duplicates('SN_KEY') # 9927명\n",
    "\n",
    "df_cc_g1e_1821 = pd.merge(df_cc_g1e_obj, df_cc_g1e_1821_tmp, how = 'inner', on = ['SN_KEY', 'EXMD_BZ_YYYY'])\n",
    "df_cc_g1e_1821.drop_duplicates('SN_KEY') # 9786명\n",
    "\n",
    "df_cc_g1e_1217 = pd.merge(df_cc_g1e_obj, df_cc_g1eq_1217, how = 'inner', on = ['SN_KEY', 'EXMD_BZ_YYYY']) # 일반건강검진(2012-2017)\n",
    "df_cc_g1e_1217.drop_duplicates('SN_KEY') # 15446명"
   ]
  },
  {
   "cell_type": "code",
   "execution_count": 30,
   "id": "44aab031",
   "metadata": {},
   "outputs": [],
   "source": [
    "### csv 파일 저장 ###\n",
    "df_cc_g1e.to_csv('./PP_csv/cs_cc_g1e.csv', index = False) "
   ]
  },
  {
   "cell_type": "markdown",
   "id": "c0ae0850",
   "metadata": {},
   "source": [
    "-----"
   ]
  },
  {
   "cell_type": "markdown",
   "id": "9a38addf",
   "metadata": {},
   "source": [
    "### 4. 암검진 테이블"
   ]
  },
  {
   "cell_type": "code",
   "execution_count": 44,
   "id": "f79db969",
   "metadata": {},
   "outputs": [
    {
     "name": "stderr",
     "output_type": "stream",
     "text": [
      "/usr/local/lib/python3.7/dist-packages/IPython/core/interactiveshell.py:3553: DtypeWarning: Columns (12,13,14,15,16,30,31,32,33,34) have mixed types.Specify dtype option on import or set low_memory=False.\n",
      "  exec(code_obj, self.user_global_ns, self.user_ns)\n"
     ]
    }
   ],
   "source": [
    "df_cc_ccr_cq_rst_1217 = pd.read_csv('./Raw_csv/cs_cc_ccr_cq_rst_1217.csv') # 암문진()\n",
    "df_cc_ccr_cq_rst_1821 = pd.read_csv('./Raw_csv/cs_cc_ccr_cq_rst_1821.csv') # 암문진 ()"
   ]
  },
  {
   "cell_type": "code",
   "execution_count": 46,
   "id": "75cbd20a",
   "metadata": {},
   "outputs": [],
   "source": [
    "### 오름차순 정렬 ###\n",
    "df_cc_ccr_cq_rst_1217 = df_cc_ccr_cq_rst_1217.sort_values(by = ['SN_KEY','EXMD_BZ_YYYY'], ascending = True) # 건강검진 (대상자)\n",
    "df_cc_ccr_cq_rst_1821 = df_cc_ccr_cq_rst_1821.sort_values(by = ['SN_KEY','EXMD_BZ_YYYY'], ascending = True) # 건강검진 (문진, 결과 및 판정)"
   ]
  },
  {
   "cell_type": "code",
   "execution_count": 47,
   "id": "14113aba",
   "metadata": {},
   "outputs": [],
   "source": [
    "df_cc_ccr_cq_rst_1217 = df_cc_ccr_cq_rst_1217[['SN_KEY', 'EXMD_BZ_YYYY', 'QC_SX_YN', 'QC_WT_LSS', 'QC_WT_LSS_AMT',\n",
    "       'QC_PFHX_CST_YN', 'QC_PFHX_CST_I', 'QC_PFHX_CBR_YN', 'QC_PFHX_CBR_I', 'QC_PFHX_CCR_YN', 'QC_PFHX_CCR_I', 'QC_PFHX_CLV_YN', 'QC_PFHX_CLV_I', 'QC_PFHX_CCX_YN', 'QC_PFHX_CCX_I','QC_PFHX_ETC_YN', 'QC_PFHX_ETC_I', 'QC_TST_UGI_YN', 'QC_TST_GSC_YN', 'QC_TST_MMG_YN', 'QC_TST_FOBT_YN',\n",
    "       'QC_TST_DCBE_YN', 'QC_TST_CSC_YN', 'QC_TST_PPSM_YN', 'QC_TST_LVUS_YN',\n",
    "       'QC_PHX_PU_YN', 'QC_PHX_ATGS_YN', 'QC_PHX_INMT_YN', 'QC_PHX_GPO_YN',\n",
    "       'QC_PHX_ST_ETC', 'QC_PHX_CRA_YN', 'QC_PHX_CD_YN', 'QC_PHX_HMR_YN',\n",
    "       'QC_PHX_LV_YN', 'QC_PHX_CHB_YN', 'QC_PHX_CHC_YN']]\n",
    "\n",
    "df_cc_ccr_cq_rst_1821 = df_cc_ccr_cq_rst_1821[['SN_KEY', 'EXMD_BZ_YYYY', 'QC_SX_YN', 'QC_WT_LSS', 'QC_WT_LSS_AMT',\n",
    "       'QC_PFHX_CST_YN', 'QC_PFHX_CST_I', 'QC_PFHX_CBR_YN', 'QC_PFHX_CBR_I', 'QC_PFHX_CCR_YN', 'QC_PFHX_CCR_I', 'QC_PFHX_CLV_YN', 'QC_PFHX_CLV_I', 'QC_PFHX_CCX_YN', 'QC_PFHX_CCX_I','QC_PFHX_ETC_YN', 'QC_PFHX_ETC_I', 'QC_TST_UGI_YN', 'QC_TST_GSC_YN', 'QC_TST_MMG_YN', 'QC_TST_FOBT_YN',\n",
    "       'QC_TST_DCBE_YN', 'QC_TST_CSC_YN', 'QC_TST_PPSM_YN', 'QC_TST_LVUS_YN',\n",
    "       'QC_PHX_PU_YN', 'QC_PHX_ATGS_YN', 'QC_PHX_INMT_YN', 'QC_PHX_GPO_YN',\n",
    "       'QC_PHX_ST_ETC', 'QC_PHX_CRA_YN', 'QC_PHX_CD_YN', 'QC_PHX_HMR_YN',\n",
    "       'QC_PHX_LV_YN', 'QC_PHX_CHB_YN', 'QC_PHX_CHC_YN']]"
   ]
  },
  {
   "cell_type": "code",
   "execution_count": null,
   "id": "af2e432d",
   "metadata": {},
   "outputs": [],
   "source": [
    "o_col = df_cc_ccr_cq_rst_1217.select_dtypes(include='object').columns\n",
    "df_cc_ccr_cq_rst_1217[o_col] = df_cc_ccr_cq_rst_1217[o_col].applymap(process_column) # 'b', '' 제거"
   ]
  },
  {
   "cell_type": "code",
   "execution_count": null,
   "id": "9680a4b4",
   "metadata": {},
   "outputs": [],
   "source": [
    "o_col = df_cc_ccr_cq_rst_1821.select_dtypes(include='object').columns\n",
    "df_cc_ccr_cq_rst_1821[o_col] = df_cc_ccr_cq_rst_1821[o_col].applymap(process_column) # 'b', '' 제거"
   ]
  },
  {
   "cell_type": "code",
   "execution_count": 58,
   "id": "32bd6ce8",
   "metadata": {},
   "outputs": [],
   "source": [
    "### 합치기 ###\n",
    "df_cc_ccr_cq_rst = pd.merge(df_cc_ccr_cq_rst_1217, df_cc_ccr_cq_rst_1821, how = 'outer', on = ['SN_KEY', 'EXMD_BZ_YYYY']) # 일반건강검진(2012-2017)\n",
    "df_cc_ccr_cq_rst = df_cc_ccr_cq_rst.sort_values(by = ['SN_KEY','EXMD_BZ_YYYY'], ascending = True) # 건강검진 (대상자)"
   ]
  },
  {
   "cell_type": "code",
   "execution_count": 60,
   "id": "54b530c7",
   "metadata": {},
   "outputs": [],
   "source": [
    "### csv 파일 저장 ###\n",
    "df_cc_ccr_cq_rst.to_csv('./PP_csv/cs_cc_ccr_cq_rst.csv', index = False) "
   ]
  },
  {
   "cell_type": "markdown",
   "id": "569019de",
   "metadata": {},
   "source": [
    "---"
   ]
  },
  {
   "cell_type": "markdown",
   "id": "daa01ffc",
   "metadata": {},
   "source": [
    "# 4. 데이터 합치기"
   ]
  },
  {
   "cell_type": "code",
   "execution_count": 31,
   "id": "27d0b93f",
   "metadata": {},
   "outputs": [
    {
     "name": "stderr",
     "output_type": "stream",
     "text": [
      "/usr/local/lib/python3.7/dist-packages/IPython/core/interactiveshell.py:3553: DtypeWarning: Columns (2,42) have mixed types.Specify dtype option on import or set low_memory=False.\n",
      "  exec(code_obj, self.user_global_ns, self.user_ns)\n"
     ]
    }
   ],
   "source": [
    "df_cc_t200 = pd.read_csv('./PP_csv/cs_cc_t200.csv') # 8972800 rows × 10 columns\n",
    "df_cc_t400 = pd.read_csv('./PP_csv/cs_cc_t400.csv') # 21897420 rows × 4 columns\n",
    "\n",
    "df_cc_rgst = pd.read_csv('./PP_csv/cs_cc_rgst.csv') # 52015 rows × 144 columns\n",
    "df_cc_g1e = pd.read_csv('./PP_csv/cs_cc_g1e.csv') # 21773 rows × 36 columns\n",
    "df_cc_ccr_cq_rst = pd.read_csv('./PP_csv/cs_cc_ccr_cq_rst.csv') # 32598 rows × 70 columns"
   ]
  },
  {
   "cell_type": "code",
   "execution_count": 32,
   "id": "5970b33e",
   "metadata": {},
   "outputs": [],
   "source": [
    "### 테이블 합치기 ###\n",
    "df_cs_cc = pd.merge(df_cc_t400, df_cc_t200, how = 'inner', on = ['SN_KEY', 'MID'])"
   ]
  },
  {
   "cell_type": "code",
   "execution_count": 33,
   "id": "d42dd5af",
   "metadata": {},
   "outputs": [],
   "source": [
    "### 진료날짜순으로 정렬\n",
    "df_cs_cc = df_cs_cc.sort_values(by = ['SN_KEY','RECU_FR_DD'], ascending = True) # 건강검진 (문진, 결과 및 판정)"
   ]
  },
  {
   "cell_type": "code",
   "execution_count": 35,
   "id": "0bff045d",
   "metadata": {},
   "outputs": [],
   "source": [
    "df_cs_cc.to_csv('./PP_csv/cs_cc.csv', index = False)"
   ]
  },
  {
   "cell_type": "markdown",
   "id": "b3bf660f",
   "metadata": {},
   "source": [
    "[완료]\n",
    "- t200, t400 합치기\n",
    "- 병기조사, 건강검진, 암문진, 진료테이블 합치는 작업은 재발시기 구한 뒤"
   ]
  },
  {
   "cell_type": "markdown",
   "id": "794d34ae",
   "metadata": {},
   "source": [
    "-----------------------------------------------"
   ]
  }
 ],
 "metadata": {
  "kernelspec": {
   "display_name": "gpu(16GBx2ea)",
   "language": "python",
   "name": "bitfusion-2"
  },
  "language_info": {
   "codemirror_mode": {
    "name": "ipython",
    "version": 3
   },
   "file_extension": ".py",
   "mimetype": "text/x-python",
   "name": "python",
   "nbconvert_exporter": "python",
   "pygments_lexer": "ipython3",
   "version": "3.7.13"
  }
 },
 "nbformat": 4,
 "nbformat_minor": 5
}
