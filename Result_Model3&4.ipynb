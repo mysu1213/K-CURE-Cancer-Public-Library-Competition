{
 "cells": [
  {
   "cell_type": "code",
   "execution_count": 1,
   "id": "1258d829",
   "metadata": {},
   "outputs": [],
   "source": [
    "import os\n",
    "import sys\n",
    "import pandas as pd\n",
    "import numpy as np\n",
    "import matplotlib.pyplot as plt\n",
    "\n",
    "sys.path.append('/project/kcure-08/lib/python3.7/site-packages')"
   ]
  },
  {
   "cell_type": "code",
   "execution_count": 2,
   "id": "a3e5d44f",
   "metadata": {},
   "outputs": [
    {
     "name": "stdout",
     "output_type": "stream",
     "text": [
      "/project/kcure-08/src/2. Model/1. Colon\n",
      "/project/kcure-08/src/1. Data/1. Colon\n"
     ]
    }
   ],
   "source": [
    "print(os.getcwd()) # 현재 경로\n",
    "# print(os.listdir(os.getcwd())) # 현재 경로 파일\n",
    "\n",
    "os.chdir('/project/kcure-08/src/1. Data/1. Colon') # 현재 경로 변경(데이터 파일)\n",
    "print(os.getcwd())\n",
    "# print(os.listdir(os.getcwd()))"
   ]
  },
  {
   "cell_type": "code",
   "execution_count": 3,
   "id": "c1015647",
   "metadata": {},
   "outputs": [],
   "source": [
    "### 최종 재발과 재발없는 피험자 테이블 불러오기 ###\n",
    "df_cs_cc_rec = pd.read_csv('./PP_csv/cs_cc_rec_fin.csv') # 암 재발 피험자\n",
    "df_cs_cc_nrec = pd.read_csv('./PP_csv/cs_cc_nrec_fin.csv') # 암 재발이 없는 피험자 (대장암 진단 이후)"
   ]
  },
  {
   "cell_type": "code",
   "execution_count": 4,
   "id": "52baa894",
   "metadata": {},
   "outputs": [],
   "source": [
    "# ### 데이터 모든 행, 열 확인하기\n",
    "pd.set_option('display.max_columns', 100)\n",
    "pd.set_option('display.max_rows', 100)"
   ]
  },
  {
   "cell_type": "code",
   "execution_count": 6,
   "id": "a9250939",
   "metadata": {},
   "outputs": [
    {
     "data": {
      "text/plain": [
       "TCODE\n",
       "10       73\n",
       "6        59\n",
       "9        16\n",
       "0        12\n",
       "1        10\n",
       "5         8\n",
       "3         6\n",
       "2         5\n",
       "8         4\n",
       "7         1\n",
       "dtype: int64"
      ]
     },
     "execution_count": 6,
     "metadata": {},
     "output_type": "execute_result"
    }
   ],
   "source": [
    "df_cs_cc_rec[['TCODE']].value_counts()"
   ]
  },
  {
   "cell_type": "code",
   "execution_count": 7,
   "id": "1bc9fe56",
   "metadata": {},
   "outputs": [
    {
     "data": {
      "text/plain": [
       "TCODE\n",
       "10       6630\n",
       "6        5843\n",
       "1        3011\n",
       "9        2076\n",
       "3        1033\n",
       "0         738\n",
       "5         712\n",
       "2         639\n",
       "8         475\n",
       "4         186\n",
       "7         117\n",
       "dtype: int64"
      ]
     },
     "execution_count": 7,
     "metadata": {},
     "output_type": "execute_result"
    }
   ],
   "source": [
    "df_cs_cc_nrec[['TCODE']].value_counts()"
   ]
  },
  {
   "cell_type": "code",
   "execution_count": 16,
   "id": "a27b5648",
   "metadata": {},
   "outputs": [
    {
     "data": {
      "text/plain": [
       "10    73\n",
       "6     59\n",
       "9     16\n",
       "0     12\n",
       "1     10\n",
       "5      8\n",
       "3      6\n",
       "2      5\n",
       "8      4\n",
       "7      1\n",
       "Name: TCODE, dtype: int64"
      ]
     },
     "execution_count": 16,
     "metadata": {},
     "output_type": "execute_result"
    }
   ],
   "source": [
    "#### 원발부위코드\n",
    "df = pd.concat([df_cs_cc_rec, df_cs_cc_nrec ])\n",
    "df_re = df[df['LABEL'] == 1]\n",
    "scc = df_re['TCODE'].value_counts()\n",
    "scc"
   ]
  },
  {
   "cell_type": "code",
   "execution_count": 18,
   "id": "dde88e85",
   "metadata": {},
   "outputs": [],
   "source": [
    "all_scc = df['TCODE'].value_counts()\n"
   ]
  },
  {
   "cell_type": "code",
   "execution_count": 19,
   "id": "1dc00c0b",
   "metadata": {},
   "outputs": [],
   "source": [
    "rel_frq = scc / all_scc"
   ]
  },
  {
   "cell_type": "code",
   "execution_count": 23,
   "id": "19df9b3c",
   "metadata": {},
   "outputs": [
    {
     "data": {
      "text/plain": [
       "Int64Index([0, 1, 2, 3, 4, 5, 6, 7, 8, 9, 10], dtype='int64')"
      ]
     },
     "execution_count": 23,
     "metadata": {},
     "output_type": "execute_result"
    }
   ],
   "source": [
    "rel_frq.index"
   ]
  },
  {
   "cell_type": "code",
   "execution_count": 24,
   "id": "27008a84",
   "metadata": {},
   "outputs": [
    {
     "data": {
      "text/plain": [
       "Text(0, 0.5, 'Relative Frequency')"
      ]
     },
     "execution_count": 24,
     "metadata": {},
     "output_type": "execute_result"
    },
    {
     "data": {
      "image/png": "[encoded data removed]",
      "text/plain": [
       "<Figure size 720x432 with 1 Axes>"
      ]
     },
     "metadata": {},
     "output_type": "display_data"
    }
   ],
   "source": [
    "import seaborn as sns\n",
    "\n",
    "sns.set(style='whitegrid')\n",
    "plt.figure(figsize=(10,6))\n",
    "ax = sns.barplot(x=rel_frq.index, y = rel_frq.values, palette='viridis')\n",
    "ax.set_title('Relative Frequencies of TCODE in Recurrent Patients')\n",
    "ax.set_xlabel('TCODE')\n",
    "ax.set_ylabel('Relative Frequency')\n",
    "\n",
    "# fig, ax = plt.subplots(figsize = (10, 6))\n",
    "# rel_frq.plot(kind='bar', ax=ax)\n",
    "# ax.set_title('재발 환자 중 원발부위코드 빈도수')\n",
    "# ax.set_xlabel('원발부위코드')\n",
    "# ax.set_ylabel('상대적 빈도수')\n",
    "# plt.show()"
   ]
  },
  {
   "cell_type": "code",
   "execution_count": 29,
   "id": "e88dbf38",
   "metadata": {},
   "outputs": [
    {
     "data": {
      "text/plain": [
       "Text(0, 0.5, 'Relative Frequency')"
      ]
     },
     "execution_count": 29,
     "metadata": {},
     "output_type": "execute_result"
    },
    {
     "data": {
      "image/png": "[encoded data removed]",
      "text/plain": [
       "<Figure size 720x432 with 1 Axes>"
      ]
     },
     "metadata": {},
     "output_type": "display_data"
    }
   ],
   "source": [
    "#### 원발부위코드\n",
    "df = pd.concat([df_cs_cc_rec, df_cs_cc_nrec ])\n",
    "df_nre = df[df['LABEL'] == 0]\n",
    "scc = df_nre['TCODE'].value_counts()\n",
    "# all_scc = df['TCODE'].value_counts()\n",
    "# rel_frq = scc / all_scc\n",
    "\n",
    "import seaborn as sns\n",
    "\n",
    "sns.set(style='whitegrid')\n",
    "plt.figure(figsize=(10,6))\n",
    "ax = sns.barplot(x=scc.index, y = scc.values, palette='viridis')\n",
    "ax.set_title('Relative Frequencies of TCODE in Recurrent Patients')\n",
    "ax.set_xlabel('TCODE')\n",
    "ax.set_ylabel('Relative Frequency')"
   ]
  },
  {
   "cell_type": "code",
   "execution_count": 30,
   "id": "51b30217",
   "metadata": {},
   "outputs": [
    {
     "data": {
      "text/plain": [
       "10    6630\n",
       "6     5843\n",
       "1     3011\n",
       "9     2076\n",
       "3     1033\n",
       "0      738\n",
       "5      712\n",
       "2      639\n",
       "8      475\n",
       "4      186\n",
       "7      117\n",
       "Name: TCODE, dtype: int64"
      ]
     },
     "execution_count": 30,
     "metadata": {},
     "output_type": "execute_result"
    }
   ],
   "source": [
    "scc"
   ]
  },
  {
   "cell_type": "code",
   "execution_count": null,
   "id": "38cbae37",
   "metadata": {},
   "outputs": [],
   "source": []
  },
  {
   "cell_type": "markdown",
   "id": "d1a8d7be",
   "metadata": {},
   "source": [
    "## 1) 건강행동"
   ]
  },
  {
   "cell_type": "code",
   "execution_count": 62,
   "id": "592746c4",
   "metadata": {},
   "outputs": [
    {
     "data": {
      "text/plain": [
       "Q_SMK_YN\n",
       "1.0         76\n",
       "2.0         39\n",
       "3.0         30\n",
       "dtype: int64"
      ]
     },
     "execution_count": 62,
     "metadata": {},
     "output_type": "execute_result"
    }
   ],
   "source": [
    "df_cs_cc_rec[['Q_SMK_YN']].value_counts()"
   ]
  },
  {
   "cell_type": "code",
   "execution_count": 61,
   "id": "b1c73e55",
   "metadata": {},
   "outputs": [
    {
     "data": {
      "text/plain": [
       "Q_SMK_YN\n",
       "1.0         9017\n",
       "2.0         3818\n",
       "3.0         3484\n",
       "dtype: int64"
      ]
     },
     "execution_count": 61,
     "metadata": {},
     "output_type": "execute_result"
    }
   ],
   "source": [
    "df_cs_cc_nrec[['Q_SMK_YN']].value_counts()"
   ]
  },
  {
   "cell_type": "code",
   "execution_count": 69,
   "id": "cb3ee04e",
   "metadata": {},
   "outputs": [],
   "source": [
    "from scipy.stats import chi2_contingency\n",
    "# chi2_stat, p_value, dof, expected = chi2_contingency(pd.crosstab(df_hb['LABEL'], [df_hb['Q_SMK_YN'], df_hb['Q_DRK_RISK'], df_hb['WT_LSS']]))"
   ]
  },
  {
   "cell_type": "code",
   "execution_count": 47,
   "id": "92b3a489",
   "metadata": {},
   "outputs": [
    {
     "data": {
      "text/html": [
       "<div>\n",
       "<style scoped>\n",
       "    .dataframe tbody tr th:only-of-type {\n",
       "        vertical-align: middle;\n",
       "    }\n",
       "\n",
       "    .dataframe tbody tr th {\n",
       "        vertical-align: top;\n",
       "    }\n",
       "\n",
       "    .dataframe thead tr th {\n",
       "        text-align: left;\n",
       "    }\n",
       "\n",
       "    .dataframe thead tr:last-of-type th {\n",
       "        text-align: right;\n",
       "    }\n",
       "</style>\n",
       "<table border=\"1\" class=\"dataframe\">\n",
       "  <thead>\n",
       "    <tr>\n",
       "      <th>Q_SMK_YN</th>\n",
       "      <th colspan=\"3\" halign=\"left\">1.0</th>\n",
       "      <th colspan=\"3\" halign=\"left\">2.0</th>\n",
       "      <th colspan=\"3\" halign=\"left\">3.0</th>\n",
       "    </tr>\n",
       "    <tr>\n",
       "      <th>Q_DRK_RISK</th>\n",
       "      <th colspan=\"2\" halign=\"left\">0.0</th>\n",
       "      <th>3.0</th>\n",
       "      <th>0.0</th>\n",
       "      <th>1.0</th>\n",
       "      <th>3.0</th>\n",
       "      <th colspan=\"2\" halign=\"left\">0.0</th>\n",
       "      <th>3.0</th>\n",
       "    </tr>\n",
       "    <tr>\n",
       "      <th>WT_LSS</th>\n",
       "      <th>1.0</th>\n",
       "      <th>2.0</th>\n",
       "      <th>1.0</th>\n",
       "      <th>1.0</th>\n",
       "      <th>1.0</th>\n",
       "      <th>1.0</th>\n",
       "      <th>1.0</th>\n",
       "      <th>2.0</th>\n",
       "      <th>1.0</th>\n",
       "    </tr>\n",
       "    <tr>\n",
       "      <th>LABEL</th>\n",
       "      <th></th>\n",
       "      <th></th>\n",
       "      <th></th>\n",
       "      <th></th>\n",
       "      <th></th>\n",
       "      <th></th>\n",
       "      <th></th>\n",
       "      <th></th>\n",
       "      <th></th>\n",
       "    </tr>\n",
       "  </thead>\n",
       "  <tbody>\n",
       "    <tr>\n",
       "      <th>1</th>\n",
       "      <td>38</td>\n",
       "      <td>1</td>\n",
       "      <td>1</td>\n",
       "      <td>13</td>\n",
       "      <td>1</td>\n",
       "      <td>2</td>\n",
       "      <td>10</td>\n",
       "      <td>1</td>\n",
       "      <td>3</td>\n",
       "    </tr>\n",
       "  </tbody>\n",
       "</table>\n",
       "</div>"
      ],
      "text/plain": [
       "Q_SMK_YN   1.0         2.0         3.0        \n",
       "Q_DRK_RISK 0.0     3.0 0.0 1.0 3.0 0.0     3.0\n",
       "WT_LSS     1.0 2.0 1.0 1.0 1.0 1.0 1.0 2.0 1.0\n",
       "LABEL                                         \n",
       "1           38   1   1  13   1   2  10   1   3"
      ]
     },
     "execution_count": 47,
     "metadata": {},
     "output_type": "execute_result"
    }
   ],
   "source": [
    "pd.crosstab(df_hb['LABEL'], [df_hb['Q_SMK_YN'], df_hb['Q_DRK_RISK'], df_hb['WT_LSS']])"
   ]
  },
  {
   "cell_type": "code",
   "execution_count": null,
   "id": "279ec6fb",
   "metadata": {},
   "outputs": [],
   "source": [
    "귀무가설 : 흡연여부와 재발 유무는 관련성이 없다\n",
    "대립가설 : ~ 관련성 있다"
   ]
  },
  {
   "cell_type": "code",
   "execution_count": 67,
   "id": "7f65d2f3",
   "metadata": {},
   "outputs": [
    {
     "data": {
      "text/html": [
       "<div>\n",
       "<style scoped>\n",
       "    .dataframe tbody tr th:only-of-type {\n",
       "        vertical-align: middle;\n",
       "    }\n",
       "\n",
       "    .dataframe tbody tr th {\n",
       "        vertical-align: top;\n",
       "    }\n",
       "\n",
       "    .dataframe thead th {\n",
       "        text-align: right;\n",
       "    }\n",
       "</style>\n",
       "<table border=\"1\" class=\"dataframe\">\n",
       "  <thead>\n",
       "    <tr style=\"text-align: right;\">\n",
       "      <th>Q_SMK_YN</th>\n",
       "      <th>1.0</th>\n",
       "      <th>2.0</th>\n",
       "      <th>3.0</th>\n",
       "    </tr>\n",
       "    <tr>\n",
       "      <th>LABEL</th>\n",
       "      <th></th>\n",
       "      <th></th>\n",
       "      <th></th>\n",
       "    </tr>\n",
       "  </thead>\n",
       "  <tbody>\n",
       "    <tr>\n",
       "      <th>0</th>\n",
       "      <td>9017</td>\n",
       "      <td>3818</td>\n",
       "      <td>3484</td>\n",
       "    </tr>\n",
       "    <tr>\n",
       "      <th>1</th>\n",
       "      <td>76</td>\n",
       "      <td>39</td>\n",
       "      <td>30</td>\n",
       "    </tr>\n",
       "  </tbody>\n",
       "</table>\n",
       "</div>"
      ],
      "text/plain": [
       "Q_SMK_YN   1.0   2.0   3.0\n",
       "LABEL                     \n",
       "0         9017  3818  3484\n",
       "1           76    39    30"
      ]
     },
     "execution_count": 67,
     "metadata": {},
     "output_type": "execute_result"
    }
   ],
   "source": [
    "result = pd.crosstab(df_hb['LABEL'], df_hb['Q_SMK_YN'] )\n",
    "result"
   ]
  },
  {
   "cell_type": "code",
   "execution_count": 70,
   "id": "a9c11261",
   "metadata": {},
   "outputs": [
    {
     "data": {
      "text/plain": [
       "(0.9910677036310797,\n",
       " 0.6092455736084654,\n",
       " 2,\n",
       " array([[9012.91709184, 3823.03103741, 3483.05187075],\n",
       "        [  80.08290816,   33.96896259,   30.94812925]]))"
      ]
     },
     "execution_count": 70,
     "metadata": {},
     "output_type": "execute_result"
    }
   ],
   "source": [
    "import scipy.stats as stats\n",
    "stats.chi2_contingency(observed = result)\n",
    "'''\n",
    "(0.9910677036310797, # chi-square값 (소숫점 셋째자리)\n",
    " 0.6092455736084654, # p-value\n",
    " 2, # 자유도\n",
    " array([[9012.91709184, 3823.03103741, 3483.05187075],\n",
    "        [  80.08290816,   33.96896259,   30.94812925]])) # 기대치\n",
    "'''"
   ]
  },
  {
   "cell_type": "code",
   "execution_count": 75,
   "id": "fc65c52e",
   "metadata": {},
   "outputs": [
    {
     "data": {
      "text/html": [
       "<div>\n",
       "<style scoped>\n",
       "    .dataframe tbody tr th:only-of-type {\n",
       "        vertical-align: middle;\n",
       "    }\n",
       "\n",
       "    .dataframe tbody tr th {\n",
       "        vertical-align: top;\n",
       "    }\n",
       "\n",
       "    .dataframe thead th {\n",
       "        text-align: right;\n",
       "    }\n",
       "</style>\n",
       "<table border=\"1\" class=\"dataframe\">\n",
       "  <thead>\n",
       "    <tr style=\"text-align: right;\">\n",
       "      <th>Q_DRK_RISK</th>\n",
       "      <th>0.0</th>\n",
       "      <th>1.0</th>\n",
       "      <th>2.0</th>\n",
       "      <th>3.0</th>\n",
       "    </tr>\n",
       "    <tr>\n",
       "      <th>LABEL</th>\n",
       "      <th></th>\n",
       "      <th></th>\n",
       "      <th></th>\n",
       "      <th></th>\n",
       "    </tr>\n",
       "  </thead>\n",
       "  <tbody>\n",
       "    <tr>\n",
       "      <th>0</th>\n",
       "      <td>14930</td>\n",
       "      <td>652</td>\n",
       "      <td>223</td>\n",
       "      <td>511</td>\n",
       "    </tr>\n",
       "    <tr>\n",
       "      <th>1</th>\n",
       "      <td>127</td>\n",
       "      <td>4</td>\n",
       "      <td>1</td>\n",
       "      <td>13</td>\n",
       "    </tr>\n",
       "  </tbody>\n",
       "</table>\n",
       "</div>"
      ],
      "text/plain": [
       "Q_DRK_RISK    0.0  1.0  2.0  3.0\n",
       "LABEL                           \n",
       "0           14930  652  223  511\n",
       "1             127    4    1   13"
      ]
     },
     "execution_count": 75,
     "metadata": {},
     "output_type": "execute_result"
    }
   ],
   "source": [
    "result = pd.crosstab(df_hb['LABEL'], df_hb['Q_DRK_RISK'] )\n",
    "result"
   ]
  },
  {
   "cell_type": "code",
   "execution_count": 73,
   "id": "dff32668",
   "metadata": {},
   "outputs": [
    {
     "data": {
      "text/plain": [
       "(16.642602493458213,\n",
       " 0.0008369988316330028,\n",
       " 3,\n",
       " array([[1.49243674e+04, 6.50221493e+02, 2.22026851e+02, 5.19384242e+02],\n",
       "        [1.32632586e+02, 5.77850677e+00, 1.97314865e+00, 4.61575846e+00]]))"
      ]
     },
     "execution_count": 73,
     "metadata": {},
     "output_type": "execute_result"
    }
   ],
   "source": [
    "import scipy.stats as stats\n",
    "stats.chi2_contingency(observed = result)\n",
    "'''\n",
    "(16.642602493458213,\n",
    " 0.0008369988316330028,\n",
    " 3,\n",
    " array([[1.49243674e+04, 6.50221493e+02, 2.22026851e+02, 5.19384242e+02],\n",
    "        [1.32632586e+02, 5.77850677e+00, 1.97314865e+00, 4.61575846e+00]]))\n",
    "'''"
   ]
  },
  {
   "cell_type": "code",
   "execution_count": 76,
   "id": "1a98890e",
   "metadata": {},
   "outputs": [
    {
     "data": {
      "text/html": [
       "<div>\n",
       "<style scoped>\n",
       "    .dataframe tbody tr th:only-of-type {\n",
       "        vertical-align: middle;\n",
       "    }\n",
       "\n",
       "    .dataframe tbody tr th {\n",
       "        vertical-align: top;\n",
       "    }\n",
       "\n",
       "    .dataframe thead th {\n",
       "        text-align: right;\n",
       "    }\n",
       "</style>\n",
       "<table border=\"1\" class=\"dataframe\">\n",
       "  <thead>\n",
       "    <tr style=\"text-align: right;\">\n",
       "      <th>WT_LSS</th>\n",
       "      <th>1.0</th>\n",
       "      <th>2.0</th>\n",
       "    </tr>\n",
       "    <tr>\n",
       "      <th>LABEL</th>\n",
       "      <th></th>\n",
       "      <th></th>\n",
       "    </tr>\n",
       "  </thead>\n",
       "  <tbody>\n",
       "    <tr>\n",
       "      <th>0</th>\n",
       "      <td>12264</td>\n",
       "      <td>351</td>\n",
       "    </tr>\n",
       "    <tr>\n",
       "      <th>1</th>\n",
       "      <td>68</td>\n",
       "      <td>2</td>\n",
       "    </tr>\n",
       "  </tbody>\n",
       "</table>\n",
       "</div>"
      ],
      "text/plain": [
       "WT_LSS    1.0  2.0\n",
       "LABEL             \n",
       "0       12264  351\n",
       "1          68    2"
      ]
     },
     "execution_count": 76,
     "metadata": {},
     "output_type": "execute_result"
    }
   ],
   "source": [
    "result = pd.crosstab(df_hb['LABEL'], df_hb['WT_LSS'] )\n",
    "result"
   ]
  },
  {
   "cell_type": "code",
   "execution_count": 78,
   "id": "32931ab5",
   "metadata": {},
   "outputs": [
    {
     "data": {
      "text/plain": [
       "(0.0,\n",
       " 1.0,\n",
       " 1,\n",
       " array([[1.22639480e+04, 3.51052030e+02],\n",
       "        [6.80520300e+01, 1.94797004e+00]]))"
      ]
     },
     "execution_count": 78,
     "metadata": {},
     "output_type": "execute_result"
    }
   ],
   "source": [
    "import scipy.stats as stats\n",
    "stats.chi2_contingency(observed = result)\n",
    "'''\n",
    "(0.0,\n",
    " 1.0,\n",
    " 1,\n",
    " array([[1.22639480e+04, 3.51052030e+02],\n",
    "        [6.80520300e+01, 1.94797004e+00]]))\n",
    "'''"
   ]
  },
  {
   "cell_type": "code",
   "execution_count": 51,
   "id": "4081aa1a",
   "metadata": {},
   "outputs": [
    {
     "data": {
      "text/plain": [
       "0    21460\n",
       "1      194\n",
       "Name: LABEL, dtype: int64"
      ]
     },
     "execution_count": 51,
     "metadata": {},
     "output_type": "execute_result"
    }
   ],
   "source": [
    "df_hb['LABEL'].value_counts()"
   ]
  },
  {
   "cell_type": "code",
   "execution_count": 54,
   "id": "71b6fa15",
   "metadata": {},
   "outputs": [
    {
     "data": {
      "text/plain": [
       "Q_SMK_YN\n",
       "1.0         76\n",
       "2.0         39\n",
       "3.0         30\n",
       "dtype: int64"
      ]
     },
     "execution_count": 54,
     "metadata": {},
     "output_type": "execute_result"
    }
   ],
   "source": [
    "df_hb[['Q_SMK_YN']].value_counts()"
   ]
  },
  {
   "cell_type": "code",
   "execution_count": 57,
   "id": "f816c3d0",
   "metadata": {},
   "outputs": [
    {
     "data": {
      "text/plain": [
       "Series([], Name: Q_SMK_YN, dtype: int64)"
      ]
     },
     "execution_count": 57,
     "metadata": {},
     "output_type": "execute_result"
    }
   ],
   "source": [
    "a = df_hb[df_hb['LABEL']==0]\n",
    "a['Q_SMK_YN'].value_counts()"
   ]
  },
  {
   "cell_type": "code",
   "execution_count": 48,
   "id": "e251f0e8",
   "metadata": {},
   "outputs": [
    {
     "name": "stdout",
     "output_type": "stream",
     "text": [
      "p-value: 1.0\n"
     ]
    }
   ],
   "source": [
    "print(f\"p-value: {p_value}\")"
   ]
  },
  {
   "cell_type": "code",
   "execution_count": 5,
   "id": "01822867",
   "metadata": {},
   "outputs": [],
   "source": [
    "df_cs_cc_rec_hb = df_cs_cc_rec[['LABEL','Q_SMK_YN', 'Q_DAILY_DRK', 'Q_DRK_RISK', 'Q_PA_WGT_AVG', 'WT_LSS', 'WT_LSS_AMT']]\n",
    "df_cs_cc_nrec_hb = df_cs_cc_nrec[['LABEL','Q_SMK_YN',  'Q_DAILY_DRK', 'Q_DRK_RISK', 'Q_PA_WGT_AVG', 'WT_LSS', 'WT_LSS_AMT']]"
   ]
  },
  {
   "cell_type": "code",
   "execution_count": 6,
   "id": "d619dc1a",
   "metadata": {},
   "outputs": [
    {
     "name": "stdout",
     "output_type": "stream",
     "text": [
      "0.32408586012321894 0.745877149081392\n"
     ]
    }
   ],
   "source": [
    "from scipy.stats import ttest_ind\n",
    "t_statistic, p_value = ttest_ind(df_cs_cc_rec_hb['Q_SMK_YN'], df_cs_cc_nrec_hb['Q_SMK_YN'], nan_policy = 'omit')\n",
    "print(t_statistic, p_value) # 0.32408586012321894 0.745877149081392"
   ]
  },
  {
   "cell_type": "code",
   "execution_count": 8,
   "id": "261d9b6c",
   "metadata": {},
   "outputs": [
    {
     "name": "stdout",
     "output_type": "stream",
     "text": [
      "-1.588472671673721 0.11219923263321416\n"
     ]
    }
   ],
   "source": [
    "from scipy.stats import ttest_ind\n",
    "t_statistic, p_value = ttest_ind(df_cs_cc_rec_hb['Q_DAILY_DRK'], df_cs_cc_nrec_hb['Q_DAILY_DRK'], nan_policy = 'omit')\n",
    "print(t_statistic, p_value) # -1.588472671673721 0.11219923263321416"
   ]
  },
  {
   "cell_type": "code",
   "execution_count": 9,
   "id": "3fb89280",
   "metadata": {},
   "outputs": [
    {
     "name": "stdout",
     "output_type": "stream",
     "text": [
      "3.003260344336998 0.002675051724404269\n"
     ]
    }
   ],
   "source": [
    "from scipy.stats import ttest_ind\n",
    "t_statistic, p_value = ttest_ind(df_cs_cc_rec_hb['Q_DRK_RISK'], df_cs_cc_nrec_hb['Q_DRK_RISK'], nan_policy = 'omit')\n",
    "print(t_statistic, p_value) # 3.003260344336998 0.002675051724404269"
   ]
  },
  {
   "cell_type": "code",
   "execution_count": 11,
   "id": "04b5c12d",
   "metadata": {},
   "outputs": [
    {
     "name": "stdout",
     "output_type": "stream",
     "text": [
      "-0.1339749331664404 0.8934240347916677\n"
     ]
    }
   ],
   "source": [
    "from scipy.stats import ttest_ind\n",
    "t_statistic, p_value = ttest_ind(df_cs_cc_rec_hb['Q_PA_WGT_AVG'], df_cs_cc_nrec_hb['Q_PA_WGT_AVG'], nan_policy = 'omit')\n",
    "print(t_statistic, p_value) # -0.1339749331664404 0.8934240347916677"
   ]
  },
  {
   "cell_type": "code",
   "execution_count": 12,
   "id": "930970d1",
   "metadata": {},
   "outputs": [
    {
     "name": "stdout",
     "output_type": "stream",
     "text": [
      "0.037910385286380764 0.9697597293972584\n"
     ]
    }
   ],
   "source": [
    "from scipy.stats import ttest_ind\n",
    "t_statistic, p_value = ttest_ind(df_cs_cc_rec_hb['WT_LSS'], df_cs_cc_nrec_hb['WT_LSS'], nan_policy = 'omit')\n",
    "print(t_statistic, p_value) # 0.037910385286380764 0.9697597293972584"
   ]
  },
  {
   "cell_type": "code",
   "execution_count": 13,
   "id": "8e13a241",
   "metadata": {},
   "outputs": [
    {
     "name": "stdout",
     "output_type": "stream",
     "text": [
      "-1.0831314064652304 0.27951988447113074\n"
     ]
    }
   ],
   "source": [
    "from scipy.stats import ttest_ind\n",
    "t_statistic, p_value = ttest_ind(df_cs_cc_rec_hb['WT_LSS_AMT'], df_cs_cc_nrec_hb['WT_LSS_AMT'], nan_policy = 'omit')\n",
    "print(t_statistic, p_value) # -1.0831314064652304 0.27951988447113074"
   ]
  },
  {
   "cell_type": "code",
   "execution_count": 65,
   "id": "3ff4cce2",
   "metadata": {},
   "outputs": [],
   "source": [
    "import matplotlib.pyplot as plt\n",
    "import seaborn as sns\n",
    "\n",
    "df_hb = pd.concat([df_cs_cc_rec_hb, df_cs_cc_nrec_hb])"
   ]
  },
  {
   "cell_type": "code",
   "execution_count": 46,
   "id": "0a039f0e",
   "metadata": {},
   "outputs": [
    {
     "data": {
      "image/png": "[encoded data removed]",
      "text/plain": [
       "<Figure size 576x432 with 1 Axes>"
      ]
     },
     "metadata": {
      "needs_background": "light"
     },
     "output_type": "display_data"
    }
   ],
   "source": [
    "plt.figure(figsize=(8,6))\n",
    "sns.boxplot(x='LABEL', y = 'WT_LSS_AMT', data=df_hb, palette= 'Spectral', linewidth = 3, width = 0.5)\n",
    "plt.title('Boxplot for Label 0 and Label 1')\n",
    "plt.show()"
   ]
  },
  {
   "cell_type": "code",
   "execution_count": 34,
   "id": "7d74499f",
   "metadata": {},
   "outputs": [
    {
     "data": {
      "image/png": "[encoded data removed]",
      "text/plain": [
       "<Figure size 576x432 with 1 Axes>"
      ]
     },
     "metadata": {
      "needs_background": "light"
     },
     "output_type": "display_data"
    }
   ],
   "source": [
    "plt.figure(figsize=(8,6))\n",
    "sns.boxplot(x='LABEL', y = 'Q_DAILY_DRK', data=df_hb, palette= 'Spectral', linewidth = 3, width = 0.5)\n",
    "plt.title('Boxplot for Label 0 and Label 1')\n",
    "plt.show()"
   ]
  },
  {
   "cell_type": "code",
   "execution_count": 35,
   "id": "c2eb08a7",
   "metadata": {},
   "outputs": [
    {
     "data": {
      "image/png": "[encoded data removed]",
      "text/plain": [
       "<Figure size 576x432 with 1 Axes>"
      ]
     },
     "metadata": {
      "needs_background": "light"
     },
     "output_type": "display_data"
    }
   ],
   "source": [
    "plt.figure(figsize=(8,6))\n",
    "sns.boxplot(x='LABEL', y = 'Q_PA_WGT_AVG', data=df_hb, palette= 'Spectral', linewidth = 3, width = 0.5)\n",
    "plt.title('Boxplot for Label 0 and Label 1')\n",
    "plt.show()"
   ]
  },
  {
   "cell_type": "code",
   "execution_count": 30,
   "id": "db7c8f69",
   "metadata": {},
   "outputs": [
    {
     "data": {
      "text/plain": [
       "Q_DRK_RISK\n",
       "0.0           127\n",
       "3.0            13\n",
       "1.0             4\n",
       "2.0             1\n",
       "dtype: int64"
      ]
     },
     "execution_count": 30,
     "metadata": {},
     "output_type": "execute_result"
    }
   ],
   "source": [
    "df_cs_cc_rec_hb[['Q_DRK_RISK']].value_counts()"
   ]
  },
  {
   "cell_type": "code",
   "execution_count": null,
   "id": "1d984ece",
   "metadata": {},
   "outputs": [],
   "source": [
    "df_cs_cc_rec_hb[['Q_DRK_RISK']].value_counts()"
   ]
  },
  {
   "cell_type": "code",
   "execution_count": 16,
   "id": "bc9f3263",
   "metadata": {},
   "outputs": [
    {
     "data": {
      "text/plain": [
       "Q_SMK_YN\n",
       "1.0         9017\n",
       "2.0         3818\n",
       "3.0         3484\n",
       "dtype: int64"
      ]
     },
     "execution_count": 16,
     "metadata": {},
     "output_type": "execute_result"
    }
   ],
   "source": [
    "df_cs_cc_nrec_hb[['Q_SMK_YN']].value_counts()"
   ]
  },
  {
   "cell_type": "code",
   "execution_count": 7,
   "id": "6a313121",
   "metadata": {},
   "outputs": [
    {
     "data": {
      "text/html": [
       "<div>\n",
       "<style scoped>\n",
       "    .dataframe tbody tr th:only-of-type {\n",
       "        vertical-align: middle;\n",
       "    }\n",
       "\n",
       "    .dataframe tbody tr th {\n",
       "        vertical-align: top;\n",
       "    }\n",
       "\n",
       "    .dataframe thead th {\n",
       "        text-align: right;\n",
       "    }\n",
       "</style>\n",
       "<table border=\"1\" class=\"dataframe\">\n",
       "  <thead>\n",
       "    <tr style=\"text-align: right;\">\n",
       "      <th></th>\n",
       "      <th>LABEL</th>\n",
       "      <th>Q_SMK_YN</th>\n",
       "      <th>Q_DAILY_DRK</th>\n",
       "      <th>Q_DRK_RISK</th>\n",
       "      <th>Q_PA_WGT_AVG</th>\n",
       "      <th>WT_LSS</th>\n",
       "      <th>WT_LSS_AMT</th>\n",
       "    </tr>\n",
       "  </thead>\n",
       "  <tbody>\n",
       "    <tr>\n",
       "      <th>count</th>\n",
       "      <td>21460.0</td>\n",
       "      <td>16319.000000</td>\n",
       "      <td>15888.000000</td>\n",
       "      <td>16316.000000</td>\n",
       "      <td>16310.000000</td>\n",
       "      <td>12615.000000</td>\n",
       "      <td>339.000000</td>\n",
       "    </tr>\n",
       "    <tr>\n",
       "      <th>mean</th>\n",
       "      <td>0.0</td>\n",
       "      <td>1.660947</td>\n",
       "      <td>8.946891</td>\n",
       "      <td>0.161253</td>\n",
       "      <td>5.933562</td>\n",
       "      <td>1.027824</td>\n",
       "      <td>5.929204</td>\n",
       "    </tr>\n",
       "    <tr>\n",
       "      <th>std</th>\n",
       "      <td>0.0</td>\n",
       "      <td>0.806922</td>\n",
       "      <td>17.298561</td>\n",
       "      <td>0.592048</td>\n",
       "      <td>8.494847</td>\n",
       "      <td>0.164475</td>\n",
       "      <td>2.514044</td>\n",
       "    </tr>\n",
       "    <tr>\n",
       "      <th>min</th>\n",
       "      <td>0.0</td>\n",
       "      <td>1.000000</td>\n",
       "      <td>0.000000</td>\n",
       "      <td>0.000000</td>\n",
       "      <td>0.000000</td>\n",
       "      <td>1.000000</td>\n",
       "      <td>1.000000</td>\n",
       "    </tr>\n",
       "    <tr>\n",
       "      <th>25%</th>\n",
       "      <td>0.0</td>\n",
       "      <td>1.000000</td>\n",
       "      <td>0.000000</td>\n",
       "      <td>0.000000</td>\n",
       "      <td>0.000000</td>\n",
       "      <td>1.000000</td>\n",
       "      <td>5.000000</td>\n",
       "    </tr>\n",
       "    <tr>\n",
       "      <th>50%</th>\n",
       "      <td>0.0</td>\n",
       "      <td>1.000000</td>\n",
       "      <td>0.000000</td>\n",
       "      <td>0.000000</td>\n",
       "      <td>1.200000</td>\n",
       "      <td>1.000000</td>\n",
       "      <td>5.000000</td>\n",
       "    </tr>\n",
       "    <tr>\n",
       "      <th>75%</th>\n",
       "      <td>0.0</td>\n",
       "      <td>2.000000</td>\n",
       "      <td>12.000000</td>\n",
       "      <td>0.000000</td>\n",
       "      <td>10.000000</td>\n",
       "      <td>1.000000</td>\n",
       "      <td>7.000000</td>\n",
       "    </tr>\n",
       "    <tr>\n",
       "      <th>max</th>\n",
       "      <td>0.0</td>\n",
       "      <td>3.000000</td>\n",
       "      <td>352.000000</td>\n",
       "      <td>3.000000</td>\n",
       "      <td>37.000000</td>\n",
       "      <td>2.000000</td>\n",
       "      <td>20.000000</td>\n",
       "    </tr>\n",
       "  </tbody>\n",
       "</table>\n",
       "</div>"
      ],
      "text/plain": [
       "         LABEL      Q_SMK_YN   Q_DAILY_DRK    Q_DRK_RISK  Q_PA_WGT_AVG  \\\n",
       "count  21460.0  16319.000000  15888.000000  16316.000000  16310.000000   \n",
       "mean       0.0      1.660947      8.946891      0.161253      5.933562   \n",
       "std        0.0      0.806922     17.298561      0.592048      8.494847   \n",
       "min        0.0      1.000000      0.000000      0.000000      0.000000   \n",
       "25%        0.0      1.000000      0.000000      0.000000      0.000000   \n",
       "50%        0.0      1.000000      0.000000      0.000000      1.200000   \n",
       "75%        0.0      2.000000     12.000000      0.000000     10.000000   \n",
       "max        0.0      3.000000    352.000000      3.000000     37.000000   \n",
       "\n",
       "             WT_LSS  WT_LSS_AMT  \n",
       "count  12615.000000  339.000000  \n",
       "mean       1.027824    5.929204  \n",
       "std        0.164475    2.514044  \n",
       "min        1.000000    1.000000  \n",
       "25%        1.000000    5.000000  \n",
       "50%        1.000000    5.000000  \n",
       "75%        1.000000    7.000000  \n",
       "max        2.000000   20.000000  "
      ]
     },
     "execution_count": 7,
     "metadata": {},
     "output_type": "execute_result"
    }
   ],
   "source": [
    "df_cs_cc_nrec_hb.describe()"
   ]
  },
  {
   "cell_type": "code",
   "execution_count": 8,
   "id": "6c243c73",
   "metadata": {},
   "outputs": [
    {
     "data": {
      "text/html": [
       "<div>\n",
       "<style scoped>\n",
       "    .dataframe tbody tr th:only-of-type {\n",
       "        vertical-align: middle;\n",
       "    }\n",
       "\n",
       "    .dataframe tbody tr th {\n",
       "        vertical-align: top;\n",
       "    }\n",
       "\n",
       "    .dataframe thead th {\n",
       "        text-align: right;\n",
       "    }\n",
       "</style>\n",
       "<table border=\"1\" class=\"dataframe\">\n",
       "  <thead>\n",
       "    <tr style=\"text-align: right;\">\n",
       "      <th></th>\n",
       "      <th>LABEL</th>\n",
       "      <th>Q_SMK_YN</th>\n",
       "      <th>Q_DAILY_DRK</th>\n",
       "      <th>Q_DRK_RISK</th>\n",
       "      <th>Q_PA_WGT_AVG</th>\n",
       "      <th>WT_LSS</th>\n",
       "      <th>WT_LSS_AMT</th>\n",
       "    </tr>\n",
       "  </thead>\n",
       "  <tbody>\n",
       "    <tr>\n",
       "      <th>count</th>\n",
       "      <td>194.0</td>\n",
       "      <td>145.000000</td>\n",
       "      <td>132.000000</td>\n",
       "      <td>145.000000</td>\n",
       "      <td>145.000000</td>\n",
       "      <td>70.000000</td>\n",
       "      <td>2.000000</td>\n",
       "    </tr>\n",
       "    <tr>\n",
       "      <th>mean</th>\n",
       "      <td>1.0</td>\n",
       "      <td>1.682759</td>\n",
       "      <td>6.549242</td>\n",
       "      <td>0.310345</td>\n",
       "      <td>5.838621</td>\n",
       "      <td>1.028571</td>\n",
       "      <td>4.000000</td>\n",
       "    </tr>\n",
       "    <tr>\n",
       "      <th>std</th>\n",
       "      <td>0.0</td>\n",
       "      <td>0.796725</td>\n",
       "      <td>13.384379</td>\n",
       "      <td>0.878108</td>\n",
       "      <td>8.582073</td>\n",
       "      <td>0.167802</td>\n",
       "      <td>1.414214</td>\n",
       "    </tr>\n",
       "    <tr>\n",
       "      <th>min</th>\n",
       "      <td>1.0</td>\n",
       "      <td>1.000000</td>\n",
       "      <td>0.000000</td>\n",
       "      <td>0.000000</td>\n",
       "      <td>0.000000</td>\n",
       "      <td>1.000000</td>\n",
       "      <td>3.000000</td>\n",
       "    </tr>\n",
       "    <tr>\n",
       "      <th>25%</th>\n",
       "      <td>1.0</td>\n",
       "      <td>1.000000</td>\n",
       "      <td>0.000000</td>\n",
       "      <td>0.000000</td>\n",
       "      <td>0.000000</td>\n",
       "      <td>1.000000</td>\n",
       "      <td>3.500000</td>\n",
       "    </tr>\n",
       "    <tr>\n",
       "      <th>50%</th>\n",
       "      <td>1.0</td>\n",
       "      <td>1.000000</td>\n",
       "      <td>0.000000</td>\n",
       "      <td>0.000000</td>\n",
       "      <td>1.200000</td>\n",
       "      <td>1.000000</td>\n",
       "      <td>4.000000</td>\n",
       "    </tr>\n",
       "    <tr>\n",
       "      <th>75%</th>\n",
       "      <td>1.0</td>\n",
       "      <td>2.000000</td>\n",
       "      <td>8.325000</td>\n",
       "      <td>0.000000</td>\n",
       "      <td>10.300000</td>\n",
       "      <td>1.000000</td>\n",
       "      <td>4.500000</td>\n",
       "    </tr>\n",
       "    <tr>\n",
       "      <th>max</th>\n",
       "      <td>1.0</td>\n",
       "      <td>3.000000</td>\n",
       "      <td>80.000000</td>\n",
       "      <td>3.000000</td>\n",
       "      <td>36.700000</td>\n",
       "      <td>2.000000</td>\n",
       "      <td>5.000000</td>\n",
       "    </tr>\n",
       "  </tbody>\n",
       "</table>\n",
       "</div>"
      ],
      "text/plain": [
       "       LABEL    Q_SMK_YN  Q_DAILY_DRK  Q_DRK_RISK  Q_PA_WGT_AVG     WT_LSS  \\\n",
       "count  194.0  145.000000   132.000000  145.000000    145.000000  70.000000   \n",
       "mean     1.0    1.682759     6.549242    0.310345      5.838621   1.028571   \n",
       "std      0.0    0.796725    13.384379    0.878108      8.582073   0.167802   \n",
       "min      1.0    1.000000     0.000000    0.000000      0.000000   1.000000   \n",
       "25%      1.0    1.000000     0.000000    0.000000      0.000000   1.000000   \n",
       "50%      1.0    1.000000     0.000000    0.000000      1.200000   1.000000   \n",
       "75%      1.0    2.000000     8.325000    0.000000     10.300000   1.000000   \n",
       "max      1.0    3.000000    80.000000    3.000000     36.700000   2.000000   \n",
       "\n",
       "       WT_LSS_AMT  \n",
       "count    2.000000  \n",
       "mean     4.000000  \n",
       "std      1.414214  \n",
       "min      3.000000  \n",
       "25%      3.500000  \n",
       "50%      4.000000  \n",
       "75%      4.500000  \n",
       "max      5.000000  "
      ]
     },
     "execution_count": 8,
     "metadata": {},
     "output_type": "execute_result"
    }
   ],
   "source": [
    "df_cs_cc_rec_hb.describe()"
   ]
  },
  {
   "cell_type": "code",
   "execution_count": 13,
   "id": "b8f61527",
   "metadata": {},
   "outputs": [
    {
     "data": {
      "text/html": [
       "<div>\n",
       "<style scoped>\n",
       "    .dataframe tbody tr th:only-of-type {\n",
       "        vertical-align: middle;\n",
       "    }\n",
       "\n",
       "    .dataframe tbody tr th {\n",
       "        vertical-align: top;\n",
       "    }\n",
       "\n",
       "    .dataframe thead th {\n",
       "        text-align: right;\n",
       "    }\n",
       "</style>\n",
       "<table border=\"1\" class=\"dataframe\">\n",
       "  <thead>\n",
       "    <tr style=\"text-align: right;\">\n",
       "      <th></th>\n",
       "      <th>Q_SMK_YN</th>\n",
       "      <th>Q_DAILY_DRK</th>\n",
       "      <th>Q_DRK_RISK</th>\n",
       "      <th>Q_PA_WGT_AVG</th>\n",
       "      <th>WT_LSS</th>\n",
       "      <th>WT_LSS_AMT</th>\n",
       "    </tr>\n",
       "  </thead>\n",
       "  <tbody>\n",
       "    <tr>\n",
       "      <th>Q_SMK_YN</th>\n",
       "      <td>1.000000</td>\n",
       "      <td>0.312931</td>\n",
       "      <td>0.091150</td>\n",
       "      <td>0.026015</td>\n",
       "      <td>0.019373</td>\n",
       "      <td>0.099702</td>\n",
       "    </tr>\n",
       "    <tr>\n",
       "      <th>Q_DAILY_DRK</th>\n",
       "      <td>0.312931</td>\n",
       "      <td>1.000000</td>\n",
       "      <td>0.796028</td>\n",
       "      <td>0.038291</td>\n",
       "      <td>0.003390</td>\n",
       "      <td>-0.050773</td>\n",
       "    </tr>\n",
       "    <tr>\n",
       "      <th>Q_DRK_RISK</th>\n",
       "      <td>0.091150</td>\n",
       "      <td>0.796028</td>\n",
       "      <td>1.000000</td>\n",
       "      <td>0.009486</td>\n",
       "      <td>0.005996</td>\n",
       "      <td>-0.017009</td>\n",
       "    </tr>\n",
       "    <tr>\n",
       "      <th>Q_PA_WGT_AVG</th>\n",
       "      <td>0.026015</td>\n",
       "      <td>0.038291</td>\n",
       "      <td>0.009486</td>\n",
       "      <td>1.000000</td>\n",
       "      <td>-0.005503</td>\n",
       "      <td>-0.023515</td>\n",
       "    </tr>\n",
       "    <tr>\n",
       "      <th>WT_LSS</th>\n",
       "      <td>0.019373</td>\n",
       "      <td>0.003390</td>\n",
       "      <td>0.005996</td>\n",
       "      <td>-0.005503</td>\n",
       "      <td>1.000000</td>\n",
       "      <td>NaN</td>\n",
       "    </tr>\n",
       "    <tr>\n",
       "      <th>WT_LSS_AMT</th>\n",
       "      <td>0.099702</td>\n",
       "      <td>-0.050773</td>\n",
       "      <td>-0.017009</td>\n",
       "      <td>-0.023515</td>\n",
       "      <td>NaN</td>\n",
       "      <td>1.000000</td>\n",
       "    </tr>\n",
       "  </tbody>\n",
       "</table>\n",
       "</div>"
      ],
      "text/plain": [
       "              Q_SMK_YN  Q_DAILY_DRK  Q_DRK_RISK  Q_PA_WGT_AVG    WT_LSS  \\\n",
       "Q_SMK_YN      1.000000     0.312931    0.091150      0.026015  0.019373   \n",
       "Q_DAILY_DRK   0.312931     1.000000    0.796028      0.038291  0.003390   \n",
       "Q_DRK_RISK    0.091150     0.796028    1.000000      0.009486  0.005996   \n",
       "Q_PA_WGT_AVG  0.026015     0.038291    0.009486      1.000000 -0.005503   \n",
       "WT_LSS        0.019373     0.003390    0.005996     -0.005503  1.000000   \n",
       "WT_LSS_AMT    0.099702    -0.050773   -0.017009     -0.023515       NaN   \n",
       "\n",
       "              WT_LSS_AMT  \n",
       "Q_SMK_YN        0.099702  \n",
       "Q_DAILY_DRK    -0.050773  \n",
       "Q_DRK_RISK     -0.017009  \n",
       "Q_PA_WGT_AVG   -0.023515  \n",
       "WT_LSS               NaN  \n",
       "WT_LSS_AMT      1.000000  "
      ]
     },
     "execution_count": 13,
     "metadata": {},
     "output_type": "execute_result"
    }
   ],
   "source": [
    "df_cs_cc_nrec_hb.corr()"
   ]
  },
  {
   "cell_type": "code",
   "execution_count": 14,
   "id": "99032f5d",
   "metadata": {},
   "outputs": [
    {
     "data": {
      "text/html": [
       "<div>\n",
       "<style scoped>\n",
       "    .dataframe tbody tr th:only-of-type {\n",
       "        vertical-align: middle;\n",
       "    }\n",
       "\n",
       "    .dataframe tbody tr th {\n",
       "        vertical-align: top;\n",
       "    }\n",
       "\n",
       "    .dataframe thead th {\n",
       "        text-align: right;\n",
       "    }\n",
       "</style>\n",
       "<table border=\"1\" class=\"dataframe\">\n",
       "  <thead>\n",
       "    <tr style=\"text-align: right;\">\n",
       "      <th></th>\n",
       "      <th>Q_SMK_YN</th>\n",
       "      <th>Q_DAILY_DRK</th>\n",
       "      <th>Q_DRK_RISK</th>\n",
       "      <th>Q_PA_WGT_AVG</th>\n",
       "      <th>WT_LSS</th>\n",
       "      <th>WT_LSS_AMT</th>\n",
       "    </tr>\n",
       "  </thead>\n",
       "  <tbody>\n",
       "    <tr>\n",
       "      <th>Q_SMK_YN</th>\n",
       "      <td>1.000000</td>\n",
       "      <td>0.243829</td>\n",
       "      <td>0.191335</td>\n",
       "      <td>0.055125</td>\n",
       "      <td>0.080034</td>\n",
       "      <td>1.0</td>\n",
       "    </tr>\n",
       "    <tr>\n",
       "      <th>Q_DAILY_DRK</th>\n",
       "      <td>0.243829</td>\n",
       "      <td>1.000000</td>\n",
       "      <td>0.724930</td>\n",
       "      <td>-0.109011</td>\n",
       "      <td>-0.007881</td>\n",
       "      <td>1.0</td>\n",
       "    </tr>\n",
       "    <tr>\n",
       "      <th>Q_DRK_RISK</th>\n",
       "      <td>0.191335</td>\n",
       "      <td>0.724930</td>\n",
       "      <td>1.000000</td>\n",
       "      <td>-0.029155</td>\n",
       "      <td>-0.055165</td>\n",
       "      <td>NaN</td>\n",
       "    </tr>\n",
       "    <tr>\n",
       "      <th>Q_PA_WGT_AVG</th>\n",
       "      <td>0.055125</td>\n",
       "      <td>-0.109011</td>\n",
       "      <td>-0.029155</td>\n",
       "      <td>1.000000</td>\n",
       "      <td>0.076530</td>\n",
       "      <td>-1.0</td>\n",
       "    </tr>\n",
       "    <tr>\n",
       "      <th>WT_LSS</th>\n",
       "      <td>0.080034</td>\n",
       "      <td>-0.007881</td>\n",
       "      <td>-0.055165</td>\n",
       "      <td>0.076530</td>\n",
       "      <td>1.000000</td>\n",
       "      <td>NaN</td>\n",
       "    </tr>\n",
       "    <tr>\n",
       "      <th>WT_LSS_AMT</th>\n",
       "      <td>1.000000</td>\n",
       "      <td>1.000000</td>\n",
       "      <td>NaN</td>\n",
       "      <td>-1.000000</td>\n",
       "      <td>NaN</td>\n",
       "      <td>1.0</td>\n",
       "    </tr>\n",
       "  </tbody>\n",
       "</table>\n",
       "</div>"
      ],
      "text/plain": [
       "              Q_SMK_YN  Q_DAILY_DRK  Q_DRK_RISK  Q_PA_WGT_AVG    WT_LSS  \\\n",
       "Q_SMK_YN      1.000000     0.243829    0.191335      0.055125  0.080034   \n",
       "Q_DAILY_DRK   0.243829     1.000000    0.724930     -0.109011 -0.007881   \n",
       "Q_DRK_RISK    0.191335     0.724930    1.000000     -0.029155 -0.055165   \n",
       "Q_PA_WGT_AVG  0.055125    -0.109011   -0.029155      1.000000  0.076530   \n",
       "WT_LSS        0.080034    -0.007881   -0.055165      0.076530  1.000000   \n",
       "WT_LSS_AMT    1.000000     1.000000         NaN     -1.000000       NaN   \n",
       "\n",
       "              WT_LSS_AMT  \n",
       "Q_SMK_YN             1.0  \n",
       "Q_DAILY_DRK          1.0  \n",
       "Q_DRK_RISK           NaN  \n",
       "Q_PA_WGT_AVG        -1.0  \n",
       "WT_LSS               NaN  \n",
       "WT_LSS_AMT           1.0  "
      ]
     },
     "execution_count": 14,
     "metadata": {},
     "output_type": "execute_result"
    }
   ],
   "source": [
    "df_cs_cc_rec_hb.corr()"
   ]
  },
  {
   "cell_type": "code",
   "execution_count": null,
   "id": "ca3d66c7",
   "metadata": {},
   "outputs": [],
   "source": [
    "from scipy.stats import ttest_ind\n",
    "t_statistic, p_value = ttest_ind(df_cs_cc_nrec['BMI'], df_cs_cc_rec['BMI'], nan_policy = 'omit')\n",
    "print(t_statistic, p_value) # 1.039981306802967 0.29836385930406867"
   ]
  }
 ],
 "metadata": {
  "kernelspec": {
   "display_name": "ms_tensorflow2.0",
   "language": "python",
   "name": "ms_tensorflow2.0"
  },
  "language_info": {
   "codemirror_mode": {
    "name": "ipython",
    "version": 3
   },
   "file_extension": ".py",
   "mimetype": "text/x-python",
   "name": "python",
   "nbconvert_exporter": "python",
   "pygments_lexer": "ipython3",
   "version": "3.6.13"
  }
 },
 "nbformat": 4,
 "nbformat_minor": 5
}
